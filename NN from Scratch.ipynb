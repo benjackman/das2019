{
 "cells": [
  {
   "cell_type": "code",
   "execution_count": 1,
   "metadata": {},
   "outputs": [
    {
     "name": "stderr",
     "output_type": "stream",
     "text": [
      "Using TensorFlow backend.\n"
     ]
    }
   ],
   "source": [
    "import numpy as np\n",
    "import pandas as pd\n",
    "from matplotlib import pyplot as plt\n",
    "import tensorflow as tf\n",
    "import keras\n",
    "import sklearn\n",
    "from sklearn.preprocessing import StandardScaler\n",
    "from sklearn.pipeline import Pipeline\n",
    "from sklearn.model_selection import train_test_split"
   ]
  },
  {
   "cell_type": "code",
   "execution_count": 2,
   "metadata": {},
   "outputs": [],
   "source": [
    "#loading, standardising, and splitting data\n",
    "mnist = tf.keras.datasets.mnist\n",
    "\n",
    "(x_train, y_train),(x_test, y_test) = mnist.load_data()\n",
    "#standardising pixel values\n",
    "x_train, x_test = x_train / 255.0, x_test / 255.0\n",
    "#reshaping data from 3D to 2D arrays\n",
    "x_train2 = x_train.reshape(60000,784)\n",
    "x_test2 = x_test.reshape(10000,784)"
   ]
  },
  {
   "cell_type": "code",
   "execution_count": 3,
   "metadata": {},
   "outputs": [],
   "source": [
    "#making a smaller subset for the Neural Network (for speed)\n",
    "x_trainNN= x_train2[1500:4500]\n",
    "y_trainNN= y_train[1500:4500]"
   ]
  },
  {
   "cell_type": "code",
   "execution_count": 4,
   "metadata": {},
   "outputs": [],
   "source": [
    "class ANN:\n",
    "    \"\"\"Creates an artificial neural network with a  hidden layer of 100 units, trains the network \n",
    "       based on method specified to minimise loss, and makes predictions\"\"\"\n",
    "    def __init__(self, x, y):\n",
    "        self.x = x #training data features\n",
    "        self.y = y #training data response/targets\n",
    "\n",
    "        # Initialising weights matrix with random digits\n",
    "        # Including an additional weight to incorporate weight for a bias node\n",
    "        self.weights_1 = np.random.randn(101, len(x.T) + 1) \n",
    "        self.weights_2 = np.random.randn(10, 101)\n",
    "\n",
    "        \n",
    "    def add_bias(self, x):\n",
    "        '''Adds a bias to the input data.'''\n",
    "        i = np.ones((len(x), len(x.T) + 1), dtype=np.float32)\n",
    "        i[:, :-1] = x\n",
    "        return i\n",
    "\n",
    "    def dummies(self, y):\n",
    "        '''Converts multi-class labels into dummy variables'''\n",
    "        return np.array([np.float_(y == i) for i in range(len(set(y)))], dtype=np.float32).T\n",
    "\n",
    "    \n",
    "    def sigmoid(self, x):\n",
    "        return 1/(1+np.exp(-x))\n",
    "    \n",
    "    def softmax(self, x):\n",
    "        return np.exp(x) / np.exp(x).sum(axis=-1,keepdims=True)\n",
    "\n",
    "    def predict(self, x):\n",
    "        '''The forward propogation of the network, returns the activations in the hidden layer\n",
    "        and in the output layer.'''\n",
    "        #Adding bias to the input\n",
    "        x= self.add_bias(x)\n",
    "        #calculating the activation value for hidden layer\n",
    "        z1 = np.float_(np.matmul(x, self.weights_1.T))\n",
    "        #passing activation value through a sigmoid function\n",
    "        alpha1 = self.sigmoid(z1)\n",
    "        #using activation of previous layer to calculate activation value of output layer\n",
    "        z2 = np.matmul(alpha1, self.weights_2.T)\n",
    "        #passing activation value through a sigmoid function\n",
    "        alpha2 = self.sigmoid(z2)\n",
    "\n",
    "        # Finally, passing activation in final layer through a softmax function\n",
    "        alpha2= self.softmax(alpha2)\n",
    "\n",
    "        return alpha1, alpha2\n",
    "\n",
    "    def cost(self, x, y):\n",
    "        '''Calculates and returns the least squared cost of the network '''\n",
    "        network_output= self.predict(x)[1]\n",
    "        targets= self.dummies(y)\n",
    "        return np.sum((network_output - targets) ** 2)/(2 * len(x))\n",
    "\n",
    "    def gradient(self, x, y):\n",
    "        '''Calculates and returns the gradient of weights from hidden layer to output layer\n",
    "        and from input layer to hidden layer by utilising backpropogation'''\n",
    "        alpha1, alpha2 = self.predict(x)\n",
    "        x1 = np.ones((x.shape[0], x.shape[1] + 1))\n",
    "        x1[:, :-1] = x \n",
    "\n",
    "        weights2_delta = np.dot(alpha1.T, (y - alpha2) * alpha2 * (1 - alpha2)) / len(x)\n",
    "        weights1_delta = np.dot(x1.T, (np.dot((y - alpha2) * alpha2 * (1 - alpha2), self.weights_2) * alpha1 * (1 - alpha1))) / len(x)\n",
    "        \n",
    "        return weights1_delta.T, weights2_delta.T\n",
    "\n",
    "    def grad_descent(self, l=0.1, steps=10, epochs=5):\n",
    "        '''Uses gradient descent to optimise weights'''\n",
    "        costs=[]\n",
    "        for epoch in range(epochs):\n",
    "            for step in range(steps):\n",
    "                w1_delta, w2_delta = self.gradient(self.x, self.dummies(self.y))\n",
    "                self.weights_1 += l * w1_delta\n",
    "                self.weights_2 += l * w2_delta\n",
    "            if ((epoch+1)%25 ==0):\n",
    "                print(\"completed epoch\",epoch+1)\n",
    "            costs.append(self.cost(self.x, self.y))\n",
    "        return costs\n",
    "\n",
    "    def stoc_grad_descent(self, epochs=3, l=0.00001, steps=100):\n",
    "        '''Uses stochastic gradient descent to optimise weights'''\n",
    "        # Firstly we need to shuffle the data\n",
    "        arr = np.zeros((len(self.x), 785))\n",
    "        arr[:,:-1] = self.x\n",
    "        arr[:, -1] = self.y \n",
    "        np.random.shuffle(arr) #shuffling to calculate gradient of only some RANDOM points if steps per epoch provided\n",
    "        x= arr[:, :-1]\n",
    "        y= arr[:, -1]\n",
    "        y= self.dummies(y) #hot encoding response\n",
    "        costs=[]\n",
    "        for epoch in range(epochs):\n",
    "            for i in range(0, steps):\n",
    "                w1_delta, w2_delta = self.gradient(x=x[i,:][np.newaxis], y=y[i, :])\n",
    "                self.weights_1 += l * w1_delta\n",
    "                self.weights_2 += l * w2_delta\n",
    "            if ((epoch+1)%25 ==0):\n",
    "                print(\"completed epoch\",epoch+1)\n",
    "            costs.append(self.cost(self.x, self.y))   \n",
    "        return costs\n",
    "                "
   ]
  },
  {
   "cell_type": "code",
   "execution_count": 5,
   "metadata": {},
   "outputs": [
    {
     "name": "stdout",
     "output_type": "stream",
     "text": [
      "Initial error rate with random weights is 54.78%\n",
      "completed epoch 25\n",
      "completed epoch 50\n",
      "completed epoch 75\n",
      "completed epoch 100\n"
     ]
    }
   ],
   "source": [
    "#Initialising NeuralNet and optimising paramaters using gradient descent  \n",
    "NeuralNet= ANN(x_trainNN, y_trainNN)\n",
    "fprop_cost= NeuralNet.cost(NeuralNet.x, NeuralNet.y)\n",
    "print(\"Initial error rate with random weights is {:.2%}\".format(1- fprop_cost))\n",
    "costs= NeuralNet.grad_descent(l=0.1, steps=100, epochs=100)"
   ]
  },
  {
   "cell_type": "code",
   "execution_count": 6,
   "metadata": {},
   "outputs": [
    {
     "name": "stdout",
     "output_type": "stream",
     "text": [
      "Initial error rate with random weights is 54.78%\n",
      "completed epoch 25\n",
      "completed epoch 50\n",
      "completed epoch 75\n"
     ]
    },
    {
     "name": "stderr",
     "output_type": "stream",
     "text": [
      "C:\\ProgramData\\Anaconda3\\lib\\site-packages\\ipykernel_launcher.py:26: RuntimeWarning: overflow encountered in exp\n"
     ]
    },
    {
     "name": "stdout",
     "output_type": "stream",
     "text": [
      "completed epoch 100\n"
     ]
    }
   ],
   "source": [
    "#Initialising NeuralNet and optimising paramaters using stochastic gradient descent  \n",
    "NeuralNet= ANN(x_trainNN, y_trainNN)\n",
    "print(\"Initial error rate with random weights is {:.2%}\".format(1- fprop_cost))\n",
    "stoch_costs= NeuralNet.stoc_grad_descent(l=0.5, epochs=100)"
   ]
  },
  {
   "cell_type": "code",
   "execution_count": 7,
   "metadata": {},
   "outputs": [
    {
     "data": {
      "image/png": "[encoded data removed]",
      "text/plain": [
       "<Figure size 432x288 with 1 Axes>"
      ]
     },
     "metadata": {
      "needs_background": "light"
     },
     "output_type": "display_data"
    }
   ],
   "source": [
    "#Comparing performance of each on the training dataset\n",
    "epochs= range(1,101)\n",
    "plt.plot(epochs, costs)\n",
    "plt.plot(epochs, stoch_costs)\n",
    "plt.title('Neural network cost for two different optimisation techniques')\n",
    "plt.ylabel('Cost')\n",
    "plt.xlabel('Epochs')\n",
    "plt.legend(['gradient descent', 'SGD'], loc='upper right')\n",
    "plt.show()"
   ]
  },
  {
   "cell_type": "code",
   "execution_count": 8,
   "metadata": {},
   "outputs": [
    {
     "name": "stdout",
     "output_type": "stream",
     "text": [
      "The error rate on the test data, after training the network, is 57.33%\n"
     ]
    },
    {
     "name": "stderr",
     "output_type": "stream",
     "text": [
      "C:\\ProgramData\\Anaconda3\\lib\\site-packages\\ipykernel_launcher.py:26: RuntimeWarning: overflow encountered in exp\n"
     ]
    }
   ],
   "source": [
    "#Assessing performance on the test data\n",
    "test_cost= NeuralNet.cost(x_test2, y_test)\n",
    "print(\"The error rate on the test data, after training the network, is {:.2%}\".format(1- test_cost))"
   ]
  },
  {
   "cell_type": "code",
   "execution_count": null,
   "metadata": {},
   "outputs": [],
   "source": []
  }
 ],
 "metadata": {
  "kernelspec": {
   "display_name": "Python 3",
   "language": "python",
   "name": "python3"
  },
  "language_info": {
   "codemirror_mode": {
    "name": "ipython",
    "version": 3
   },
   "file_extension": ".py",
   "mimetype": "text/x-python",
   "name": "python",
   "nbconvert_exporter": "python",
   "pygments_lexer": "ipython3",
   "version": "3.7.3"
  },
  "toc": {
   "base_numbering": 1,
   "nav_menu": {},
   "number_sections": true,
   "sideBar": true,
   "skip_h1_title": false,
   "title_cell": "Table of Contents",
   "title_sidebar": "Contents",
   "toc_cell": false,
   "toc_position": {},
   "toc_section_display": true,
   "toc_window_display": true
  }
 },
 "nbformat": 4,
 "nbformat_minor": 4
}
