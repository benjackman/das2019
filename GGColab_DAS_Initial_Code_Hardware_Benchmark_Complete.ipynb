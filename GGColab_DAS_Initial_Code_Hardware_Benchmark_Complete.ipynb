{
 "cells": [
  {
   "cell_type": "code",
   "execution_count": 1,
   "metadata": {
    "colab": {
     "base_uri": "https://localhost:8080/",
     "height": 118
    },
    "colab_type": "code",
    "id": "uVYTdQxYoqcY",
    "outputId": "dacf8d8d-7c92-41d4-9591-19268ddcfae8"
   },
   "outputs": [
    {
     "name": "stdout",
     "output_type": "stream",
     "text": [
      "Go to this URL in a browser: https://accounts.google.com/o/oauth2/auth?client_id=947318989803-6bn6qk8qdgf4n4g3pfee6491hc0brc4i.apps.googleusercontent.com&redirect_uri=urn%3aietf%3awg%3aoauth%3a2.0%3aoob&response_type=code&scope=email%20https%3a%2f%2fwww.googleapis.com%2fauth%2fdocs.test%20https%3a%2f%2fwww.googleapis.com%2fauth%2fdrive%20https%3a%2f%2fwww.googleapis.com%2fauth%2fdrive.photos.readonly%20https%3a%2f%2fwww.googleapis.com%2fauth%2fpeopleapi.readonly\n",
      "\n",
      "Enter your authorization code:\n",
      "··········\n",
      "Mounted at /content/gdrive\n"
     ]
    }
   ],
   "source": [
    "from google.colab import drive\n",
    "drive.mount('/content/gdrive')"
   ]
  },
  {
   "cell_type": "code",
   "execution_count": null,
   "metadata": {
    "colab": {},
    "colab_type": "code",
    "id": "gTnIhg2Xo5nN"
   },
   "outputs": [],
   "source": [
    "import os, os.path\n",
    "from random import sample"
   ]
  },
  {
   "cell_type": "code",
   "execution_count": 4,
   "metadata": {
    "colab": {
     "base_uri": "https://localhost:8080/",
     "height": 33
    },
    "colab_type": "code",
    "id": "TnrhVW2Cpw9j",
    "outputId": "2bad273a-5874-4736-f98c-c1585b964d92"
   },
   "outputs": [
    {
     "name": "stdout",
     "output_type": "stream",
     "text": [
      "15057\n"
     ]
    }
   ],
   "source": [
    "# Checking the sample of images I managed to upload - I had issues with Google Drive syncing a large number of files. This sample is reasonable enough.\n",
    "# An alternative to test this might be to upload the files to Git and downloading from there (although you might need a public repo for that). \n",
    "\n",
    "list = os.listdir('/content/gdrive/My Drive/DAS Summative/das_images/das_images')\n",
    "number_files = len(list)\n",
    "print(number_files)"
   ]
  },
  {
   "cell_type": "code",
   "execution_count": null,
   "metadata": {
    "colab": {},
    "colab_type": "code",
    "id": "7ynAGtVxf-DJ"
   },
   "outputs": [],
   "source": [
    "# List of filenames only\n",
    "\n",
    "img_filename_list = []\n",
    "for root, dirs, files in os.walk('/content/gdrive/My Drive/DAS Summative/das_images/das_images'):\n",
    "    for file in files:\n",
    "        if file.endswith('.jpg'):\n",
    "            img_filename_list.append(file)"
   ]
  },
  {
   "cell_type": "code",
   "execution_count": null,
   "metadata": {
    "colab": {},
    "colab_type": "code",
    "id": "t9w3D5TaQLSV"
   },
   "outputs": [],
   "source": [
    "# List of full paths to sample and load into memory\n",
    "\n",
    "img_filename_list_fullpath = []\n",
    "for root, dirs, files in os.walk('/content/gdrive/My Drive/DAS Summative/das_images/das_images'):\n",
    "    for file in files:\n",
    "        if file.endswith('.jpg'):\n",
    "            file_full = '/content/gdrive/My Drive/DAS Summative/das_images/das_images/' + file\n",
    "            img_filename_list_fullpath.append(file_full)"
   ]
  },
  {
   "cell_type": "code",
   "execution_count": 8,
   "metadata": {
    "colab": {
     "base_uri": "https://localhost:8080/",
     "height": 50
    },
    "colab_type": "code",
    "id": "0TswUAM5U23q",
    "outputId": "761a74a8-a711-4957-9c12-25c3c7ce3783"
   },
   "outputs": [
    {
     "data": {
      "text/plain": [
       "15056"
      ]
     },
     "metadata": {
      "tags": []
     },
     "output_type": "display_data"
    },
    {
     "data": {
      "text/plain": [
       "'/content/gdrive/My Drive/DAS Summative/das_images/das_images/0014_10752956.jpg'"
      ]
     },
     "execution_count": 8,
     "metadata": {
      "tags": []
     },
     "output_type": "execute_result"
    }
   ],
   "source": [
    "display(len(img_filename_list_fullpath))\n",
    "img_filename_list_fullpath[0]"
   ]
  },
  {
   "cell_type": "code",
   "execution_count": null,
   "metadata": {
    "colab": {},
    "colab_type": "code",
    "id": "EnBPZJCzqRVW"
   },
   "outputs": [],
   "source": [
    "# Set directory to get code\n",
    "os.chdir('/content/gdrive/My Drive/DAS Summative/')"
   ]
  },
  {
   "cell_type": "code",
   "execution_count": 10,
   "metadata": {
    "colab": {
     "base_uri": "https://localhost:8080/",
     "height": 33
    },
    "colab_type": "code",
    "id": "gEiEMrBlwlJc",
    "outputId": "5a6f7ace-1932-4f41-f4c9-33164185c232"
   },
   "outputs": [
    {
     "name": "stdout",
     "output_type": "stream",
     "text": [
      "['das_images', 'matrix.py', 'FINd_gg.py', '__pycache__', 'FINd_numba_gg.py']\n"
     ]
    }
   ],
   "source": [
    "# Check we have what we need\n",
    "list = os.listdir('/content/gdrive/My Drive/DAS Summative')\n",
    "print(list)"
   ]
  },
  {
   "cell_type": "code",
   "execution_count": 11,
   "metadata": {
    "colab": {
     "base_uri": "https://localhost:8080/",
     "height": 180
    },
    "colab_type": "code",
    "id": "L0ZmNEv-uRin",
    "outputId": "2449d96d-e8fd-4057-ec37-09ae842da7a5"
   },
   "outputs": [
    {
     "name": "stdout",
     "output_type": "stream",
     "text": [
      "Collecting ImageHash\n",
      "\u001b[?25l  Downloading https://files.pythonhosted.org/packages/58/47/e639093d67f54e59163f9d259575a10bd16e4d0ff3bb1259ba64b9c77a42/ImageHash-4.0-py2.py3-none-any.whl (295kB)\n",
      "\u001b[K     |████████████████████████████████| 296kB 9.2MB/s eta 0:00:01\n",
      "\u001b[?25hRequirement already satisfied: pywavelets in /usr/local/lib/python3.6/dist-packages (from ImageHash) (1.1.1)\n",
      "Requirement already satisfied: numpy in /usr/local/lib/python3.6/dist-packages (from ImageHash) (1.17.5)\n",
      "Requirement already satisfied: pillow in /usr/local/lib/python3.6/dist-packages (from ImageHash) (6.2.2)\n",
      "Requirement already satisfied: scipy in /usr/local/lib/python3.6/dist-packages (from ImageHash) (1.4.1)\n",
      "Requirement already satisfied: six in /usr/local/lib/python3.6/dist-packages (from ImageHash) (1.12.0)\n",
      "Installing collected packages: ImageHash\n",
      "Successfully installed ImageHash-4.0\n"
     ]
    }
   ],
   "source": [
    "# Install imagehash\n",
    "!pip install ImageHash"
   ]
  },
  {
   "cell_type": "code",
   "execution_count": 12,
   "metadata": {
    "colab": {
     "base_uri": "https://localhost:8080/",
     "height": 82
    },
    "colab_type": "code",
    "id": "iSy2LDK4tewp",
    "outputId": "a443c256-9cf8-47ea-8c64-51c411b3e708"
   },
   "outputs": [
    {
     "name": "stdout",
     "output_type": "stream",
     "text": [
      "Populating the interactive namespace from numpy and matplotlib\n"
     ]
    },
    {
     "name": "stderr",
     "output_type": "stream",
     "text": [
      "/usr/local/lib/python3.6/dist-packages/IPython/core/magics/pylab.py:161: UserWarning: pylab import has clobbered these variables: ['sample']\n",
      "`%matplotlib` prevents importing * from pylab and numpy\n",
      "  \"\\n`%matplotlib` prevents importing * from pylab and numpy\"\n"
     ]
    }
   ],
   "source": [
    "# Typical preamble\n",
    "\n",
    "%pylab inline\n",
    "\n",
    "# %load_ext memory_profiler\n",
    "\n",
    "from FINd_gg import FINDHasher\n",
    "from FINd_gg import benchmarking_basic\n",
    "\n",
    "from FINd_numba_gg import FINDHasher_1\n",
    "from FINd_numba_gg import benchmarking_basic_1\n",
    "\n",
    "import imagehash\n",
    "from PIL import Image\n",
    "\n",
    "import time\n",
    "import os\n",
    "from random import sample\n",
    "import numpy as np\n",
    "\n",
    "import multiprocessing\n",
    "\n",
    "import matplotlib.pyplot as plt\n",
    "\n",
    "import itertools"
   ]
  },
  {
   "cell_type": "markdown",
   "metadata": {
    "colab_type": "text",
    "id": "0WYJ7nSHl-OY"
   },
   "source": [
    "Loading Files into Google Collab Memory and Working That Way"
   ]
  },
  {
   "cell_type": "code",
   "execution_count": null,
   "metadata": {
    "colab": {},
    "colab_type": "code",
    "id": "R8WfLeNmS7Gq"
   },
   "outputs": [],
   "source": [
    "find = FINDHasher()"
   ]
  },
  {
   "cell_type": "code",
   "execution_count": null,
   "metadata": {
    "colab": {},
    "colab_type": "code",
    "id": "2mzn3T8XUCL4"
   },
   "outputs": [],
   "source": [
    "sample_images_filenames = sample(img_filename_list_fullpath, 20)"
   ]
  },
  {
   "cell_type": "code",
   "execution_count": null,
   "metadata": {
    "colab": {},
    "colab_type": "code",
    "id": "MkTAcS9bUXb-"
   },
   "outputs": [],
   "source": [
    "imgs_in_mem_list = []\n",
    "\n",
    "for i in range(len(sample_images_filenames)):\n",
    "    imgs_in_mem_list.append(Image.open(sample_images_filenames[i]))"
   ]
  },
  {
   "cell_type": "code",
   "execution_count": 51,
   "metadata": {
    "colab": {
     "base_uri": "https://localhost:8080/",
     "height": 33
    },
    "colab_type": "code",
    "id": "Ozn-CRaLS-Hs",
    "outputId": "8456d135-510b-41b7-c5d5-f2ab388bf4ca"
   },
   "outputs": [
    {
     "name": "stdout",
     "output_type": "stream",
     "text": [
      "1 loop, best of 3: 8.9 s per loop\n"
     ]
    }
   ],
   "source": [
    "# RUn on with TPU hardware acceleration, original code - around 0.445 ms per image\n",
    "\n",
    "%%timeit\n",
    "\n",
    "hash_list = []\n",
    "\n",
    "for i in range(len(imgs_in_mem_list)):\n",
    "  temphash = find.fromImage(imgs_in_mem_list[i])\n",
    "  hash_list.append(temphash)\n",
    "  temphash = []"
   ]
  },
  {
   "cell_type": "code",
   "execution_count": 12,
   "metadata": {
    "colab": {
     "base_uri": "https://localhost:8080/",
     "height": 33
    },
    "colab_type": "code",
    "id": "Q-wDfkD4WuOh",
    "outputId": "bece2758-c96b-425e-ac60-94618f1ec6a1"
   },
   "outputs": [
    {
     "name": "stdout",
     "output_type": "stream",
     "text": [
      "1 loop, best of 3: 9.03 s per loop\n"
     ]
    }
   ],
   "source": [
    "# To run on the default CPU hardware - 20 images - around 0.445ms per image\n",
    "\n",
    "%%timeit\n",
    "\n",
    "hash_list = []\n",
    "\n",
    "for i in range(len(imgs_in_mem_list)):\n",
    "  temphash = find.fromImage(imgs_in_mem_list[i])\n",
    "  hash_list.append(temphash)\n",
    "  temphash = []"
   ]
  },
  {
   "cell_type": "code",
   "execution_count": 15,
   "metadata": {
    "colab": {
     "base_uri": "https://localhost:8080/",
     "height": 33
    },
    "colab_type": "code",
    "id": "WQaJfSU2WrOQ",
    "outputId": "6c1ab5ca-7a62-44ac-c1ca-a0ca3ed4c230"
   },
   "outputs": [
    {
     "name": "stdout",
     "output_type": "stream",
     "text": [
      "1 loop, best of 3: 7.63 s per loop\n"
     ]
    }
   ],
   "source": [
    "# RUn on the default GPU hardware - 20 images, around 0.382 seconds per image\n",
    "\n",
    "%%timeit\n",
    "\n",
    "hash_list = []\n",
    "\n",
    "for i in range(len(imgs_in_mem_list)):\n",
    "  temphash = find.fromImage(imgs_in_mem_list[i])\n",
    "  hash_list.append(temphash)\n",
    "  temphash = []"
   ]
  },
  {
   "cell_type": "code",
   "execution_count": 16,
   "metadata": {
    "colab": {
     "base_uri": "https://localhost:8080/",
     "height": 33
    },
    "colab_type": "code",
    "id": "fNCEOjbqZnNk",
    "outputId": "dcf1cdd8-f58c-4283-c433-551998764d31"
   },
   "outputs": [
    {
     "name": "stdout",
     "output_type": "stream",
     "text": [
      " "
     ]
    }
   ],
   "source": [
    "# This output comes up as a pop up window in GOogle Colab.\n",
    "# Shown in the workbook\n",
    "\n",
    "%prun find.fromImage(imgs_in_mem_list[0])"
   ]
  },
  {
   "cell_type": "markdown",
   "metadata": {
    "colab_type": "text",
    "id": "Zxko60GYjgSf"
   },
   "source": [
    "Default Code On Google HardWare Comparison - Loading Files from Google Drive"
   ]
  },
  {
   "cell_type": "code",
   "execution_count": 13,
   "metadata": {
    "colab": {
     "base_uri": "https://localhost:8080/",
     "height": 82
    },
    "colab_type": "code",
    "id": "Az0BYW1etplX",
    "outputId": "d6f0f473-e645-47c1-e391-9512b65f867f"
   },
   "outputs": [
    {
     "name": "stdout",
     "output_type": "stream",
     "text": [
      "1 loop, best of 3: 3.78 s per loop\n",
      "1 loop, best of 3: 7.33 s per loop\n",
      "1 loop, best of 3: 14.6 s per loop\n",
      "1 loop, best of 3: 28.2 s per loop\n"
     ]
    }
   ],
   "source": [
    "# Google CPU hardware\n",
    "\n",
    "# Image numbers to hash and result list\n",
    "image_counts = [5, 10, 20, 40]\n",
    "results = []\n",
    "\n",
    "# Loop through the different numbers of hashes and store the %timeit results\n",
    "for i in image_counts:\n",
    "    result = %timeit -o rand_hashes = benchmarking_basic(i)\n",
    "    results.append(result)\n",
    "\n",
    "# Extract the mean run times from the %timeit object\n",
    "mean_times = []\n",
    "for i in range(0, len(results)):\n",
    "    mean_times.append(np.mean(results[i].all_runs))\n",
    "\n"
   ]
  },
  {
   "cell_type": "code",
   "execution_count": 15,
   "metadata": {
    "colab": {
     "base_uri": "https://localhost:8080/",
     "height": 82
    },
    "colab_type": "code",
    "id": "Z31vfBgVwAsr",
    "outputId": "23542176-bc2b-458f-9aba-5a76dd939b63"
   },
   "outputs": [
    {
     "name": "stdout",
     "output_type": "stream",
     "text": [
      "1 loop, best of 3: 3.53 s per loop\n",
      "1 loop, best of 3: 7 s per loop\n",
      "1 loop, best of 3: 14.2 s per loop\n",
      "1 loop, best of 3: 27.7 s per loop\n"
     ]
    }
   ],
   "source": [
    "# Run on Google's Provided GPU Hardware\n",
    "\n",
    "# Image numbers to hash and result list\n",
    "image_counts = [5, 10, 20, 40]\n",
    "results = []\n",
    "\n",
    "# Loop through the different numbers of hashes and store the %timeit results\n",
    "for i in image_counts:\n",
    "    result = %timeit -o rand_hashes = benchmarking_basic(i)\n",
    "    results.append(result)\n",
    "\n",
    "# Extract the mean run times from the %timeit object\n",
    "mean_times_GPU = []\n",
    "for i in range(0, len(results)):\n",
    "    mean_times_GPU.append(np.mean(results[i].all_runs))\n",
    "\n",
    "# plt.plot(mean_times)"
   ]
  },
  {
   "cell_type": "code",
   "execution_count": null,
   "metadata": {
    "colab": {
     "base_uri": "https://localhost:8080/",
     "height": 33
    },
    "colab_type": "code",
    "id": "2K7touyb00sV",
    "outputId": "ff3f5dec-7bb8-47c4-acd1-dacc377e979f"
   },
   "outputs": [
    {
     "name": "stdout",
     "output_type": "stream",
     "text": [
      " "
     ]
    }
   ],
   "source": [
    "%prun test_output = benchmarking_basic(1)"
   ]
  },
  {
   "cell_type": "markdown",
   "metadata": {
    "colab_type": "text",
    "id": "3WcH0Vc7lgJC"
   },
   "source": [
    "Fastest Run of Code - Numba Optimisation on Google's GPUs"
   ]
  },
  {
   "cell_type": "code",
   "execution_count": null,
   "metadata": {
    "colab": {},
    "colab_type": "code",
    "id": "kYLayNlHbt6s"
   },
   "outputs": [],
   "source": [
    "find_1 = FINDHasher_1()"
   ]
  },
  {
   "cell_type": "code",
   "execution_count": 15,
   "metadata": {
    "colab": {
     "base_uri": "https://localhost:8080/",
     "height": 33
    },
    "colab_type": "code",
    "id": "IQ8giRrxaoUv",
    "outputId": "6bca0630-6fc9-447a-fc45-822437e0eea5"
   },
   "outputs": [
    {
     "name": "stdout",
     "output_type": "stream",
     "text": [
      "1 loop, best of 3: 4.4 s per loop\n"
     ]
    }
   ],
   "source": [
    "# RUn on the default GPU hardware - 20 images, numba optimised code, around 0.22 seconds per image\n",
    "\n",
    "%%timeit\n",
    "\n",
    "hash_list = []\n",
    "\n",
    "for i in range(len(imgs_in_mem_list)):\n",
    "    temphash = find_1.fromImage(imgs_in_mem_list[i])\n",
    "    hash_list.append(temphash)\n",
    "    temphash = []"
   ]
  },
  {
   "cell_type": "markdown",
   "metadata": {
    "colab_type": "text",
    "id": "tgQlcNG_htXI"
   },
   "source": [
    "Multiprocess on Google CPUs - Note we only have 1 GPU, so cannot multiprocess there"
   ]
  },
  {
   "cell_type": "code",
   "execution_count": 11,
   "metadata": {
    "colab": {
     "base_uri": "https://localhost:8080/",
     "height": 33
    },
    "colab_type": "code",
    "id": "JPc6KNp0ctjY",
    "outputId": "3e6254d4-1a8e-42fc-be40-56ea9c49a2a7"
   },
   "outputs": [
    {
     "name": "stdout",
     "output_type": "stream",
     "text": [
      "1 loop, best of 3: 22.1 s per loop\n"
     ]
    }
   ],
   "source": [
    "# Google CPU multiprocessing comparison - run on the Google CPU (only 1 process)\n",
    "# This was run on Google Colab\n",
    "\n",
    "%%timeit \n",
    "\n",
    "test = benchmarking_basic_1(40)"
   ]
  },
  {
   "cell_type": "code",
   "execution_count": 10,
   "metadata": {
    "colab": {
     "base_uri": "https://localhost:8080/",
     "height": 33
    },
    "colab_type": "code",
    "id": "3MGFLEHifmxc",
    "outputId": "8b5da0d6-895e-47b5-f54b-0bf737a5dad2"
   },
   "outputs": [
    {
     "name": "stdout",
     "output_type": "stream",
     "text": [
      "1 loop, best of 3: 12.5 s per loop\n"
     ]
    }
   ],
   "source": [
    "# Multiprocessing on the Google CPU\n",
    "# This was run on Google Colab\n",
    "\n",
    "%%timeit\n",
    "\n",
    "# split jobs\n",
    "map_list = [20, 20]\n",
    "\n",
    "with multiprocessing.Pool(2) as pool:\n",
    "        test = pool.map(benchmarking_basic_1, map_list)"
   ]
  },
  {
   "cell_type": "code",
   "execution_count": null,
   "metadata": {
    "colab": {},
    "colab_type": "code",
    "id": "hEV0xNf4n5ag"
   },
   "outputs": [],
   "source": []
  },
  {
   "cell_type": "code",
   "execution_count": null,
   "metadata": {
    "colab": {},
    "colab_type": "code",
    "id": "SIoI6lZBhNxq"
   },
   "outputs": [],
   "source": []
  }
 ],
 "metadata": {
  "accelerator": "GPU",
  "colab": {
   "collapsed_sections": [],
   "name": "GGColab - DAS - Initial Code Hardware Benchmark.ipynb",
   "provenance": []
  },
  "kernelspec": {
   "display_name": "Python 3",
   "language": "python",
   "name": "python3"
  },
  "language_info": {
   "codemirror_mode": {
    "name": "ipython",
    "version": 3
   },
   "file_extension": ".py",
   "mimetype": "text/x-python",
   "name": "python",
   "nbconvert_exporter": "python",
   "pygments_lexer": "ipython3",
   "version": "3.7.3"
  }
 },
 "nbformat": 4,
 "nbformat_minor": 4
}
