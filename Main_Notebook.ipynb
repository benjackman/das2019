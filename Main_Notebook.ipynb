{
 "cells": [
  {
   "cell_type": "markdown",
   "metadata": {},
   "source": [
    "# DAS Summative - Candidate ID -"
   ]
  },
  {
   "cell_type": "markdown",
   "metadata": {},
   "source": [
    "## Summary\n",
    "\n",
    "The below code is lightly commented to explain the various testing, benchmarking and optimisations that have been undertaken. The relevant .py files called in this notebook are attached and can be viewed for specific details and run. One minor exception is where cells were run on alternative hardware (via Google Colab). The results of this running are stored below as Jupyter notebook cells and outputs, but running this on different hardware will obviously produce different relative results."
   ]
  },
  {
   "cell_type": "markdown",
   "metadata": {},
   "source": [
    "## Code Preamble"
   ]
  },
  {
   "cell_type": "code",
   "execution_count": 20,
   "metadata": {},
   "outputs": [
    {
     "name": "stdout",
     "output_type": "stream",
     "text": [
      "Populating the interactive namespace from numpy and matplotlib\n",
      "The memory_profiler extension is already loaded. To reload it, use:\n",
      "  %reload_ext memory_profiler\n"
     ]
    },
    {
     "name": "stderr",
     "output_type": "stream",
     "text": [
      "C:\\ProgramData\\Anaconda3\\lib\\site-packages\\IPython\\core\\magics\\pylab.py:160: UserWarning: pylab import has clobbered these variables: ['sample']\n",
      "`%matplotlib` prevents importing * from pylab and numpy\n",
      "  \"\\n`%matplotlib` prevents importing * from pylab and numpy\"\n"
     ]
    }
   ],
   "source": [
    "%pylab inline\n",
    "\n",
    "%load_ext memory_profiler\n",
    "\n",
    "from FINd import FINDHasher\n",
    "from FINd import benchmarking_basic\n",
    "\n",
    "import imagehash\n",
    "from PIL import Image\n",
    "\n",
    "import time\n",
    "import os\n",
    "from random import sample\n",
    "import numpy as np\n",
    "\n",
    "import matplotlib.pyplot as plt\n",
    "\n",
    "import itertools"
   ]
  },
  {
   "cell_type": "code",
   "execution_count": 21,
   "metadata": {},
   "outputs": [],
   "source": [
    "from FINd_numba import FINDHasher_1\n",
    "from FINd_numba import benchmarking_basic_1"
   ]
  },
  {
   "cell_type": "markdown",
   "metadata": {},
   "source": [
    "## Initial Profiling for Benchmark Speed"
   ]
  },
  {
   "cell_type": "markdown",
   "metadata": {},
   "source": [
    "First profiling the initial default code for time. Determining rough time per image hash, as well as if the growth in this algorithm is linear in number of images hashed. \n",
    "\n",
    "The benchmarking_basic function and subfunction read_images_from_file are added to each of the FINd.py files that are included in this report. The benchmarking_basic function calls the read_images_from_file subfunction, which creates a list of all the image files and randomly selects an amount given by a benchmarking_basic parameter, returning this list to benchmarking_basic. Then benchmarking_basic runs this subset of randomly selected images through FINDHasher and returns the output. \n",
    "\n",
    "This allows us to consistently profile the different code produced in this report."
   ]
  },
  {
   "cell_type": "code",
   "execution_count": 3,
   "metadata": {},
   "outputs": [
    {
     "name": "stdout",
     "output_type": "stream",
     "text": [
      "3.44 s ± 121 ms per loop (mean ± std. dev. of 7 runs, 1 loop each)\n",
      "6.44 s ± 233 ms per loop (mean ± std. dev. of 7 runs, 1 loop each)\n",
      "12.8 s ± 412 ms per loop (mean ± std. dev. of 7 runs, 1 loop each)\n",
      "27.5 s ± 1.7 s per loop (mean ± std. dev. of 7 runs, 1 loop each)\n"
     ]
    }
   ],
   "source": [
    "# Image numbers to hash and result list\n",
    "image_counts = [5, 10, 20, 40]\n",
    "results = []\n",
    "\n",
    "# Loop through the different numbers of hashes and store the %timeit results\n",
    "for i in image_counts:\n",
    "    result = %timeit -o rand_hashes = benchmarking_basic(i)\n",
    "    results.append(result)\n",
    "\n",
    "# Extract the mean run times from the %timeit object\n",
    "mean_times = []\n",
    "for i in range(0, len(results)):\n",
    "    mean_times.append(np.mean(results[i].all_runs))"
   ]
  },
  {
   "cell_type": "code",
   "execution_count": 9,
   "metadata": {},
   "outputs": [
    {
     "data": {
      "text/plain": [
       "[3.442803771428566, 6.442981299999998, 12.788020671428566, 27.485002657142868]"
      ]
     },
     "execution_count": 9,
     "metadata": {},
     "output_type": "execute_result"
    }
   ],
   "source": [
    "mean_times"
   ]
  },
  {
   "cell_type": "code",
   "execution_count": 17,
   "metadata": {},
   "outputs": [
    {
     "data": {
      "image/png": "[encoded data removed]",
      "text/plain": [
       "<Figure size 648x432 with 1 Axes>"
      ]
     },
     "metadata": {
      "needs_background": "light"
     },
     "output_type": "display_data"
    }
   ],
   "source": [
    "plt.figure(1, figsize = (9,6))\n",
    "plt.plot(image_counts, mean_times)\n",
    "plt.suptitle('Growth in FINd Image Hashing Algorithm (Original Provided)', fontsize = 20)\n",
    "plt.title('Mean Time of Runs', fontsize = 14)\n",
    "plt.xlabel('Number of Images', fontsize = 14)\n",
    "plt.xticks(np.arange(0,60, 10))\n",
    "plt.ylabel('Time',  fontsize = 14)\n",
    "\n",
    "plt.savefig('image_docs/code_time_orig.png', bbox_inches = 'tight')\n",
    "plt.show()"
   ]
  },
  {
   "cell_type": "markdown",
   "metadata": {},
   "source": [
    "This initial work demonstrates that the function benchmarking_basic and the underlying code in FINd.py runs in essentially linear time (O_n) with respect to the number of images."
   ]
  },
  {
   "cell_type": "markdown",
   "metadata": {},
   "source": [
    "## Detailed Profiling"
   ]
  },
  {
   "cell_type": "markdown",
   "metadata": {},
   "source": [
    "## High-Level Line Profiling"
   ]
  },
  {
   "cell_type": "markdown",
   "metadata": {},
   "source": [
    "We can examine in detail the speed of the code, first using the in-built magic function %lprun from line profiler. This gives us a high-level overview of the code speed. We run ten images through the benchmarking function to see the relative speed in the function calls, and to abstract away from code due to the additional benchmakring_function calls."
   ]
  },
  {
   "cell_type": "code",
   "execution_count": 8,
   "metadata": {
    "collapsed": true,
    "jupyter": {
     "outputs_hidden": true
    }
   },
   "outputs": [
    {
     "name": "stdout",
     "output_type": "stream",
     "text": [
      " "
     ]
    },
    {
     "data": {
      "text/plain": [
       "         5283424 function calls in 7.206 seconds\n",
       "\n",
       "   Ordered by: internal time\n",
       "\n",
       "   ncalls  tottime  percall  cumtime  percall filename:lineno(function)\n",
       "       10    5.033    0.503    5.489    0.549 FINd.py:174(boxFilter)\n",
       "       10    0.462    0.046    1.229    0.123 FINd.py:68(fillFloatLumaFromBufferImage)\n",
       "   625000    0.295    0.000    0.766    0.000 Image.py:1360(getpixel)\n",
       "   625040    0.270    0.000    0.360    0.000 Image.py:838(load)\n",
       "  1250000    0.232    0.000    0.232    0.000 {built-in method builtins.max}\n",
       "  1250000    0.224    0.000    0.224    0.000 {built-in method builtins.min}\n",
       "    55974    0.176    0.000    0.176    0.000 {built-in method builtins.next}\n",
       "   625000    0.110    0.000    0.110    0.000 {method 'getpixel' of 'ImagingCore' objects}\n",
       "       10    0.106    0.011    0.106    0.011 FINd.py:117(dct64To16)\n",
       "   625030    0.090    0.000    0.090    0.000 {method 'pixel_access' of 'ImagingCore' objects}\n",
       "       10    0.068    0.007    0.068    0.007 {built-in method io.open}\n",
       "        2    0.039    0.020    0.227    0.113 os.py:278(walk)\n",
       "       10    0.019    0.002    0.019    0.002 FINd.py:107(decimateFloat)\n",
       "        1    0.013    0.013    0.252    0.252 FINd.py:201(read_images_from_file)\n",
       "       10    0.012    0.001    6.951    0.695 FINd.py:41(fromFile)\n",
       "       10    0.010    0.001    0.010    0.001 {method 'decode' of 'ImagingDecoder' objects}\n",
       "    55973    0.008    0.000    0.008    0.000 {method 'endswith' of 'str' objects}\n",
       "       20    0.008    0.000    0.008    0.000 matrix.py:12(allocateMatrixAsRowMajorArray)\n",
       "   111995    0.008    0.000    0.008    0.000 {method 'append' of 'list' objects}\n",
       "    55973    0.006    0.000    0.006    0.000 {method 'is_dir' of 'nt.DirEntry' objects}\n",
       "       10    0.005    0.000    0.005    0.000 matrix.py:16(torben)\n",
       "       20    0.002    0.000    0.002    0.000 {method 'copy' of 'ImagingCore' objects}\n",
       "        1    0.002    0.002    7.205    7.205 FINd.py:220(benchmarking_basic)\n",
       "      400    0.001    0.000    0.001    0.000 {method 'read' of '_io.BufferedReader' objects}\n",
       "       10    0.001    0.000    0.006    0.001 FINd.py:153(dctOutput2hash)\n",
       "        1    0.001    0.001    0.001    0.001 FINd.py:25(compute_dct_matrix)\n",
       "       30    0.000    0.000    0.000    0.000 matrix.py:5(allocateMatrix)\n",
       "       10    0.000    0.000    0.001    0.000 JpegImagePlugin.py:343(_open)\n",
       "       10    0.000    0.000    0.011    0.001 ImageFile.py:142(load)\n",
       "        1    0.000    0.000    0.000    0.000 {built-in method nt.scandir}\n",
       "       10    0.000    0.000    0.000    0.000 {built-in method PIL._imaging.new}\n",
       "       10    0.000    0.000    6.869    0.687 FINd.py:49(fromImage)\n",
       "       10    0.000    0.000    0.000    0.000 {built-in method numpy.zeros}\n",
       "       10    0.000    0.000    0.000    0.000 {method 'close' of '_io.BufferedReader' objects}\n",
       "       10    0.000    0.000    5.619    0.562 FINd.py:86(findHash256FromFloatLuma)\n",
       "       10    0.000    0.000    0.002    0.000 Image.py:2781(_open_core)\n",
       "     1024    0.000    0.000    0.000    0.000 {built-in method math.cos}\n",
       "       10    0.000    0.000    0.070    0.007 Image.py:2735(open)\n",
       "       10    0.000    0.000    0.000    0.000 JpegImagePlugin.py:189(SOF)\n",
       "       20    0.000    0.000    0.000    0.000 JpegImagePlugin.py:237(DQT)\n",
       "       10    0.000    0.000    0.000    0.000 JpegImagePlugin.py:61(APP)\n",
       "       20    0.000    0.000    0.013    0.001 Image.py:1133(copy)\n",
       "       20    0.000    0.000    0.000    0.000 Image.py:572(_new)\n",
       "      250    0.000    0.000    0.000    0.000 {built-in method _struct.unpack_from}\n",
       "       10    0.000    0.000    0.001    0.000 ImageFile.py:80(__init__)\n",
       "       30    0.000    0.000    0.000    0.000 Image.py:547(__init__)\n",
       "        1    0.000    0.000    7.205    7.205 <string>:1(<module>)\n",
       "       10    0.000    0.000    0.001    0.000 JpegImagePlugin.py:788(jpeg_factory)\n",
       "      240    0.000    0.000    0.000    0.000 _binary.py:77(i16be)\n",
       "       30    0.000    0.000    0.000    0.000 {method 'seek' of '_io.BufferedReader' objects}\n",
       "       10    0.000    0.000    0.000    0.000 Image.py:440(_getdecoder)\n",
       "       30    0.000    0.000    0.000    0.000 Image.py:591(__exit__)\n",
       "      250    0.000    0.000    0.000    0.000 _binary.py:20(i8)\n",
       "       50    0.000    0.000    0.000    0.000 JpegImagePlugin.py:56(Skip)\n",
       "       50    0.000    0.000    0.000    0.000 {built-in method builtins.hasattr}\n",
       "       30    0.000    0.000    0.000    0.000 Image.py:629(__del__)\n",
       "       90    0.000    0.000    0.000    0.000 ImageFile.py:538(_safe_read)\n",
       "       20    0.000    0.000    0.000    0.000 FINd.py:166(computeBoxFilterWindowSize)\n",
       "       10    0.000    0.000    0.000    0.000 {built-in method PIL._imaging.jpeg_decoder}\n",
       "        1    0.000    0.000    0.000    0.000 random.py:286(sample)\n",
       "        1    0.000    0.000    7.206    7.206 {built-in method builtins.exec}\n",
       "       20    0.000    0.000    0.000    0.000 _util.py:15(isPath)\n",
       "       42    0.000    0.000    0.000    0.000 {built-in method builtins.isinstance}\n",
       "       10    0.000    0.000    0.000    0.000 JpegImagePlugin.py:493(_getmp)\n",
       "       10    0.000    0.000    0.000    0.000 ImageFile.py:276(load_prepare)\n",
       "       10    0.000    0.000    0.000    0.000 {method 'format' of 'str' objects}\n",
       "       10    0.000    0.000    0.000    0.000 {method 'reshape' of 'numpy.ndarray' objects}\n",
       "       20    0.000    0.000    0.000    0.000 {built-in method builtins.getattr}\n",
       "       10    0.000    0.000    0.000    0.000 BmpImagePlugin.py:53(_dib_accept)\n",
       "       10    0.000    0.000    0.002    0.000 Image.py:888(convert)\n",
       "       10    0.000    0.000    0.000    0.000 Image.py:2180(thumbnail)\n",
       "      100    0.000    0.000    0.000    0.000 Image.py:568(size)\n",
       "       10    0.000    0.000    0.000    0.000 Image.py:2715(_decompression_bomb_check)\n",
       "       10    0.000    0.000    0.000    0.000 {method 'sort' of 'list' objects}\n",
       "       10    0.000    0.000    0.000    0.000 {method 'setimage' of 'ImagingDecoder' objects}\n",
       "       10    0.000    0.000    0.000    0.000 __init__.py:58(__init__)\n",
       "       20    0.000    0.000    0.000    0.000 {method 'copy' of 'dict' objects}\n",
       "       10    0.000    0.000    0.000    0.000 _binary.py:57(i32le)\n",
       "       10    0.000    0.000    0.000    0.000 random.py:224(_randbelow)\n",
       "       10    0.000    0.000    0.000    0.000 BmpImagePlugin.py:49(_accept)\n",
       "       10    0.000    0.000    0.000    0.000 TiffImagePlugin.py:272(_accept)\n",
       "       10    0.000    0.000    0.000    0.000 Image.py:368(preinit)\n",
       "       10    0.000    0.000    0.000    0.000 JpegImagePlugin.py:476(_getmp)\n",
       "       82    0.000    0.000    0.000    0.000 {built-in method builtins.len}\n",
       "       10    0.000    0.000    0.000    0.000 {built-in method builtins.divmod}\n",
       "       10    0.000    0.000    0.000    0.000 JpegImagePlugin.py:330(_accept)\n",
       "       10    0.000    0.000    0.000    0.000 JpegImagePlugin.py:393(load_read)\n",
       "       10    0.000    0.000    0.000    0.000 GifImagePlugin.py:41(_accept)\n",
       "        1    0.000    0.000    0.001    0.001 FINd.py:35(__init__)\n",
       "        2    0.000    0.000    0.000    0.000 {built-in method _abc._abc_instancecheck}\n",
       "        1    0.000    0.000    0.000    0.000 {built-in method math.ceil}\n",
       "       10    0.000    0.000    0.000    0.000 ImageFile.py:67(_tilesort)\n",
       "       12    0.000    0.000    0.000    0.000 {method 'getrandbits' of '_random.Random' objects}\n",
       "        1    0.000    0.000    0.000    0.000 {built-in method math.log}\n",
       "        2    0.000    0.000    0.000    0.000 abc.py:137(__instancecheck__)\n",
       "       10    0.000    0.000    0.000    0.000 ImageFile.py:284(load_end)\n",
       "       10    0.000    0.000    0.000    0.000 {method 'cleanup' of 'ImagingDecoder' objects}\n",
       "        1    0.000    0.000    0.000    0.000 {built-in method math.sqrt}\n",
       "       10    0.000    0.000    0.000    0.000 {method 'add' of 'set' objects}\n",
       "       10    0.000    0.000    0.000    0.000 {method 'bit_length' of 'int' objects}\n",
       "        1    0.000    0.000    0.000    0.000 {built-in method nt.fspath}\n",
       "        1    0.000    0.000    0.000    0.000 {method 'disable' of '_lsprof.Profiler' objects}"
      ]
     },
     "metadata": {},
     "output_type": "display_data"
    }
   ],
   "source": [
    "%prun benchmarking_basic(10)"
   ]
  },
  {
   "cell_type": "markdown",
   "metadata": {},
   "source": [
    "I have minimised the above (rather large) cell output for the sake of brevity, and show the clipped version below: \n",
    "\n",
    "![Image](image_docs/img-benchmarking-1image-defaultcode.PNG)\n",
    "\n",
    "we can see the function BoxFilter is taking the most of amount of time, followed by FillFloatLumafromBufferImage.\n",
    "\n",
    "Some back-of-the-envelope maths from these results (and similar runs) suggests that boxfilter takes around 60-70% of the time for the execution, and FillFloatLuma another 5%. BoxFilter is an obvious candidarte for optimisation, with FillFloatLuma behind that as well. "
   ]
  },
  {
   "cell_type": "markdown",
   "metadata": {},
   "source": [
    "## Detailed Line Profiling"
   ]
  },
  {
   "cell_type": "markdown",
   "metadata": {},
   "source": [
    "### BoxFilter"
   ]
  },
  {
   "cell_type": "markdown",
   "metadata": {},
   "source": [
    "Line profiler also offers extended functionality to profile code at the individual line level. The profiling of BoxFilter in the command line, clipped below, shows the inner loop of a 4-way nested function takes around 85% of the time:\n",
    "\n",
    "![Image](image_docs/boxfilter_profiling_sm.PNG)\n"
   ]
  },
  {
   "cell_type": "markdown",
   "metadata": {},
   "source": [
    "### FillFLoatLuma"
   ]
  },
  {
   "cell_type": "markdown",
   "metadata": {},
   "source": [
    "A similar process for FillFloatLuma demonstrates that a loop in the conversion of the image to greyscale from the rgb values is taking up around 90 per cent of the time:\n",
    "\n",
    "![Image](image_docs/fillfloatluma_profiling.PNG)"
   ]
  },
  {
   "cell_type": "code",
   "execution_count": null,
   "metadata": {},
   "outputs": [],
   "source": []
  },
  {
   "cell_type": "code",
   "execution_count": null,
   "metadata": {},
   "outputs": [],
   "source": []
  },
  {
   "cell_type": "markdown",
   "metadata": {},
   "source": [
    "## Memory Profiling"
   ]
  },
  {
   "cell_type": "markdown",
   "metadata": {},
   "source": [
    "Another question is around the size of the memory (RAM) used in the processing of these images."
   ]
  },
  {
   "cell_type": "code",
   "execution_count": 9,
   "metadata": {},
   "outputs": [
    {
     "name": "stdout",
     "output_type": "stream",
     "text": [
      "peak memory: 73.62 MiB, increment: 2.89 MiB\n"
     ]
    }
   ],
   "source": [
    "%memit benchmarking_basic(10)"
   ]
  },
  {
   "cell_type": "code",
   "execution_count": 10,
   "metadata": {},
   "outputs": [
    {
     "name": "stdout",
     "output_type": "stream",
     "text": [
      "peak memory: 74.45 MiB, increment: 1.84 MiB\n"
     ]
    }
   ],
   "source": [
    "%memit benchmarking_basic(30)"
   ]
  },
  {
   "cell_type": "markdown",
   "metadata": {},
   "source": [
    "The above output demonstrates that the size of the memory used in this processing is trivial for modern machines with multiple gigabytes of memory to assign, and does not scale significantly with the number of images input into the benchmarking function. As a result, we do not consider memory profiling as an important optimisation for this code."
   ]
  },
  {
   "cell_type": "markdown",
   "metadata": {},
   "source": [
    "## Potential Optimisation - Numba"
   ]
  },
  {
   "cell_type": "code",
   "execution_count": 13,
   "metadata": {},
   "outputs": [
    {
     "name": "stdout",
     "output_type": "stream",
     "text": [
      "1.61 s ± 157 ms per loop (mean ± std. dev. of 7 runs, 1 loop each)\n",
      "3.04 s ± 171 ms per loop (mean ± std. dev. of 7 runs, 1 loop each)\n",
      "5.77 s ± 198 ms per loop (mean ± std. dev. of 7 runs, 1 loop each)\n",
      "12.7 s ± 708 ms per loop (mean ± std. dev. of 7 runs, 1 loop each)\n"
     ]
    },
    {
     "data": {
      "text/plain": [
       "[<matplotlib.lines.Line2D at 0x21524ae6c50>]"
      ]
     },
     "execution_count": 13,
     "metadata": {},
     "output_type": "execute_result"
    },
    {
     "data": {
      "image/png": "[encoded data removed]",
      "text/plain": [
       "<Figure size 432x288 with 1 Axes>"
      ]
     },
     "metadata": {
      "needs_background": "light"
     },
     "output_type": "display_data"
    }
   ],
   "source": [
    "image_counts = [5, 10, 20, 40]\n",
    "results = []\n",
    "\n",
    "# Loop through the different numbers of hashes and store the %timeit results\n",
    "for i in image_counts:\n",
    "    result = %timeit -o rand_hashes = benchmarking_basic_1(i)\n",
    "    results.append(result)\n",
    "\n",
    "# Extract the mean run times from the %timeit object\n",
    "mean_times = []\n",
    "for i in range(0, len(results)):\n",
    "    mean_times.append(np.mean(results[i].all_runs))\n",
    "\n",
    "plt.plot(mean_times)"
   ]
  },
  {
   "cell_type": "markdown",
   "metadata": {},
   "source": [
    "### Unit Testing"
   ]
  },
  {
   "cell_type": "markdown",
   "metadata": {},
   "source": []
  },
  {
   "cell_type": "markdown",
   "metadata": {},
   "source": [
    "## Potential Optimisation - MultiProcessing"
   ]
  },
  {
   "cell_type": "markdown",
   "metadata": {},
   "source": [
    "We run the original code but with optimisations from multiprocessing"
   ]
  },
  {
   "cell_type": "code",
   "execution_count": 9,
   "metadata": {},
   "outputs": [
    {
     "name": "stdout",
     "output_type": "stream",
     "text": [
      "28.3 s ± 772 ms per loop (mean ± std. dev. of 5 runs, 1 loop each)\n"
     ]
    }
   ],
   "source": [
    "%%timeit -r5\n",
    "\n",
    "test = benchmarking_basic(40)"
   ]
  },
  {
   "cell_type": "code",
   "execution_count": 10,
   "metadata": {},
   "outputs": [
    {
     "name": "stdout",
     "output_type": "stream",
     "text": [
      "16.7 s ± 654 ms per loop (mean ± std. dev. of 5 runs, 1 loop each)\n"
     ]
    }
   ],
   "source": [
    "%%timeit -r5\n",
    "\n",
    "# split jobs\n",
    "map_list = [20, 20]\n",
    "\n",
    "with multiprocessing.Pool(2) as pool:\n",
    "        test = pool.map(benchmarking_basic, map_list)"
   ]
  },
  {
   "cell_type": "markdown",
   "metadata": {},
   "source": [
    "Splitting up the benchmarking function into two threads that runs ten images each leads to speed up of almost 40%."
   ]
  },
  {
   "cell_type": "markdown",
   "metadata": {},
   "source": [
    "### Combined Optimisation - Multiprocessing and Numba"
   ]
  },
  {
   "cell_type": "code",
   "execution_count": 11,
   "metadata": {},
   "outputs": [
    {
     "name": "stdout",
     "output_type": "stream",
     "text": [
      "10.3 s ± 642 ms per loop (mean ± std. dev. of 5 runs, 1 loop each)\n"
     ]
    }
   ],
   "source": [
    "%%timeit -r5\n",
    "\n",
    "# split jobs\n",
    "map_list = [20, 20]\n",
    "\n",
    "with multiprocessing.Pool(2) as pool:\n",
    "        test = pool.map(benchmarking_basic_1, map_list)"
   ]
  },
  {
   "cell_type": "markdown",
   "metadata": {},
   "source": [
    "## Potential Optimisation - Hardware"
   ]
  },
  {
   "cell_type": "markdown",
   "metadata": {},
   "source": [
    "In cases where a CPU bottleneck is suspected, different hardware may provide a speedup. Although I personally have limited access to additional hardware for testing, Google provides free CPUs, GPUs and TPUs through the Google Colab Platform. The below cells show the benchmarking_basic function loop ran as above, first on Google Colab's default CPU hardware, then the GPU hardware, and finally the TPU hardware.\n",
    "\n",
    "<font color='red'>**Note to markers - you can only re-run this code in a Google Colab environment with DAS data in GDrive and/or in memory**</font>\n",
    "\n",
    "**Note also that I have hidden some of the cells** (preamble for loading packages etc) and output for brevity."
   ]
  },
  {
   "cell_type": "code",
   "execution_count": 1,
   "metadata": {
    "colab": {
     "base_uri": "https://localhost:8080/",
     "height": 118
    },
    "colab_type": "code",
    "id": "uVYTdQxYoqcY",
    "outputId": "dacf8d8d-7c92-41d4-9591-19268ddcfae8"
   },
   "outputs": [
    {
     "name": "stdout",
     "output_type": "stream",
     "text": [
      "Go to this URL in a browser: https://accounts.google.com/o/oauth2/auth?client_id=947318989803-6bn6qk8qdgf4n4g3pfee6491hc0brc4i.apps.googleusercontent.com&redirect_uri=urn%3aietf%3awg%3aoauth%3a2.0%3aoob&response_type=code&scope=email%20https%3a%2f%2fwww.googleapis.com%2fauth%2fdocs.test%20https%3a%2f%2fwww.googleapis.com%2fauth%2fdrive%20https%3a%2f%2fwww.googleapis.com%2fauth%2fdrive.photos.readonly%20https%3a%2f%2fwww.googleapis.com%2fauth%2fpeopleapi.readonly\n",
      "\n",
      "Enter your authorization code:\n",
      "··········\n",
      "Mounted at /content/gdrive\n"
     ]
    }
   ],
   "source": [
    "from google.colab import drive\n",
    "drive.mount('/content/gdrive')"
   ]
  },
  {
   "cell_type": "code",
   "execution_count": null,
   "metadata": {
    "colab": {},
    "colab_type": "code",
    "id": "gTnIhg2Xo5nN"
   },
   "outputs": [],
   "source": [
    "import os, os.path\n",
    "from random import sample"
   ]
  },
  {
   "cell_type": "code",
   "execution_count": 4,
   "metadata": {
    "colab": {
     "base_uri": "https://localhost:8080/",
     "height": 33
    },
    "colab_type": "code",
    "id": "TnrhVW2Cpw9j",
    "outputId": "2bad273a-5874-4736-f98c-c1585b964d92"
   },
   "outputs": [
    {
     "name": "stdout",
     "output_type": "stream",
     "text": [
      "15057\n"
     ]
    }
   ],
   "source": [
    "# Checking the sample of images I managed to upload - I had issues with Google Drive syncing a large number of files. This sample is reasonable enough.\n",
    "# An alternative to test this might be to upload the files to Git and downloading from there (although you might need a public repo for that). \n",
    "\n",
    "list = os.listdir('/content/gdrive/My Drive/DAS Summative/das_images/das_images')\n",
    "number_files = len(list)\n",
    "print(number_files)"
   ]
  },
  {
   "cell_type": "code",
   "execution_count": null,
   "metadata": {
    "colab": {},
    "colab_type": "code",
    "id": "7ynAGtVxf-DJ"
   },
   "outputs": [],
   "source": [
    "# List of filenames only\n",
    "\n",
    "img_filename_list = []\n",
    "for root, dirs, files in os.walk('/content/gdrive/My Drive/DAS Summative/das_images/das_images'):\n",
    "    for file in files:\n",
    "        if file.endswith('.jpg'):\n",
    "            img_filename_list.append(file)"
   ]
  },
  {
   "cell_type": "code",
   "execution_count": null,
   "metadata": {
    "colab": {},
    "colab_type": "code",
    "id": "t9w3D5TaQLSV"
   },
   "outputs": [],
   "source": [
    "# List of full paths to sample and load into memory\n",
    "\n",
    "img_filename_list_fullpath = []\n",
    "for root, dirs, files in os.walk('/content/gdrive/My Drive/DAS Summative/das_images/das_images'):\n",
    "    for file in files:\n",
    "        if file.endswith('.jpg'):\n",
    "            file_full = '/content/gdrive/My Drive/DAS Summative/das_images/das_images/' + file\n",
    "            img_filename_list_fullpath.append(file_full)"
   ]
  },
  {
   "cell_type": "code",
   "execution_count": 8,
   "metadata": {
    "colab": {
     "base_uri": "https://localhost:8080/",
     "height": 50
    },
    "colab_type": "code",
    "id": "0TswUAM5U23q",
    "outputId": "761a74a8-a711-4957-9c12-25c3c7ce3783"
   },
   "outputs": [
    {
     "data": {
      "text/plain": [
       "15056"
      ]
     },
     "metadata": {
      "tags": []
     },
     "output_type": "display_data"
    },
    {
     "data": {
      "text/plain": [
       "'/content/gdrive/My Drive/DAS Summative/das_images/das_images/0014_10752956.jpg'"
      ]
     },
     "execution_count": 8,
     "metadata": {
      "tags": []
     },
     "output_type": "execute_result"
    }
   ],
   "source": [
    "display(len(img_filename_list_fullpath))\n",
    "img_filename_list_fullpath[0]"
   ]
  },
  {
   "cell_type": "code",
   "execution_count": null,
   "metadata": {
    "colab": {},
    "colab_type": "code",
    "id": "EnBPZJCzqRVW"
   },
   "outputs": [],
   "source": [
    "# Set directory to get code\n",
    "os.chdir('/content/gdrive/My Drive/DAS Summative/')"
   ]
  },
  {
   "cell_type": "code",
   "execution_count": 10,
   "metadata": {
    "colab": {
     "base_uri": "https://localhost:8080/",
     "height": 33
    },
    "colab_type": "code",
    "id": "gEiEMrBlwlJc",
    "outputId": "5a6f7ace-1932-4f41-f4c9-33164185c232"
   },
   "outputs": [
    {
     "name": "stdout",
     "output_type": "stream",
     "text": [
      "['das_images', 'matrix.py', 'FINd_gg.py', '__pycache__', 'FINd_numba_gg.py']\n"
     ]
    }
   ],
   "source": [
    "# Check we have what we need\n",
    "list = os.listdir('/content/gdrive/My Drive/DAS Summative')\n",
    "print(list)"
   ]
  },
  {
   "cell_type": "code",
   "execution_count": 11,
   "metadata": {
    "colab": {
     "base_uri": "https://localhost:8080/",
     "height": 180
    },
    "colab_type": "code",
    "id": "L0ZmNEv-uRin",
    "outputId": "2449d96d-e8fd-4057-ec37-09ae842da7a5"
   },
   "outputs": [
    {
     "name": "stdout",
     "output_type": "stream",
     "text": [
      "Collecting ImageHash\n",
      "\u001b[?25l  Downloading https://files.pythonhosted.org/packages/58/47/e639093d67f54e59163f9d259575a10bd16e4d0ff3bb1259ba64b9c77a42/ImageHash-4.0-py2.py3-none-any.whl (295kB)\n",
      "\u001b[K     |████████████████████████████████| 296kB 9.2MB/s eta 0:00:01\n",
      "\u001b[?25hRequirement already satisfied: pywavelets in /usr/local/lib/python3.6/dist-packages (from ImageHash) (1.1.1)\n",
      "Requirement already satisfied: numpy in /usr/local/lib/python3.6/dist-packages (from ImageHash) (1.17.5)\n",
      "Requirement already satisfied: pillow in /usr/local/lib/python3.6/dist-packages (from ImageHash) (6.2.2)\n",
      "Requirement already satisfied: scipy in /usr/local/lib/python3.6/dist-packages (from ImageHash) (1.4.1)\n",
      "Requirement already satisfied: six in /usr/local/lib/python3.6/dist-packages (from ImageHash) (1.12.0)\n",
      "Installing collected packages: ImageHash\n",
      "Successfully installed ImageHash-4.0\n"
     ]
    }
   ],
   "source": [
    "# Install imagehash\n",
    "!pip install ImageHash"
   ]
  },
  {
   "cell_type": "code",
   "execution_count": 12,
   "metadata": {
    "colab": {
     "base_uri": "https://localhost:8080/",
     "height": 82
    },
    "colab_type": "code",
    "id": "iSy2LDK4tewp",
    "outputId": "a443c256-9cf8-47ea-8c64-51c411b3e708"
   },
   "outputs": [
    {
     "name": "stdout",
     "output_type": "stream",
     "text": [
      "Populating the interactive namespace from numpy and matplotlib\n"
     ]
    },
    {
     "name": "stderr",
     "output_type": "stream",
     "text": [
      "/usr/local/lib/python3.6/dist-packages/IPython/core/magics/pylab.py:161: UserWarning: pylab import has clobbered these variables: ['sample']\n",
      "`%matplotlib` prevents importing * from pylab and numpy\n",
      "  \"\\n`%matplotlib` prevents importing * from pylab and numpy\"\n"
     ]
    }
   ],
   "source": [
    "# Typical preamble\n",
    "\n",
    "%pylab inline\n",
    "\n",
    "# %load_ext memory_profiler\n",
    "\n",
    "from FINd_gg import FINDHasher\n",
    "from FINd_gg import benchmarking_basic\n",
    "\n",
    "from FINd_numba_gg import FINDHasher_1\n",
    "from FINd_numba_gg import benchmarking_basic_1\n",
    "\n",
    "import imagehash\n",
    "from PIL import Image\n",
    "\n",
    "import time\n",
    "import os\n",
    "from random import sample\n",
    "import numpy as np\n",
    "\n",
    "import multiprocessing\n",
    "\n",
    "import matplotlib.pyplot as plt\n",
    "\n",
    "import itertools"
   ]
  },
  {
   "cell_type": "markdown",
   "metadata": {
    "colab_type": "text",
    "id": "0WYJ7nSHl-OY"
   },
   "source": [
    "Loading Files into Google Collab Memory and Working That Way"
   ]
  },
  {
   "cell_type": "code",
   "execution_count": null,
   "metadata": {
    "colab": {},
    "colab_type": "code",
    "id": "R8WfLeNmS7Gq"
   },
   "outputs": [],
   "source": [
    "find = FINDHasher()"
   ]
  },
  {
   "cell_type": "markdown",
   "metadata": {},
   "source": [
    "### Using Google's default CPU hardware - From Google Drive"
   ]
  },
  {
   "cell_type": "code",
   "execution_count": 20,
   "metadata": {
    "colab": {
     "base_uri": "https://localhost:8080/",
     "height": 353
    },
    "colab_type": "code",
    "id": "Az0BYW1etplX",
    "outputId": "e30f4ba2-a0df-4531-ec5b-4c1f0c0714d8"
   },
   "outputs": [
    {
     "name": "stdout",
     "output_type": "stream",
     "text": [
      "1 loop, best of 3: 5.6 s per loop\n",
      "1 loop, best of 3: 10.6 s per loop\n",
      "1 loop, best of 3: 20.9 s per loop\n",
      "1 loop, best of 3: 42.4 s per loop\n"
     ]
    },
    {
     "data": {
      "text/plain": [
       "[<matplotlib.lines.Line2D at 0x7f0d24f88278>]"
      ]
     },
     "execution_count": 20,
     "metadata": {
      "tags": []
     },
     "output_type": "execute_result"
    },
    {
     "data": {
      "image/png": "[encoded data removed]",
      "text/plain": [
       "<Figure size 432x288 with 1 Axes>"
      ]
     },
     "metadata": {
      "tags": []
     },
     "output_type": "display_data"
    }
   ],
   "source": [
    "# Google's default CPU Hardware\n",
    "\n",
    "# Image numbers to hash and result list\n",
    "image_counts = [5, 10, 20, 40]\n",
    "results = []\n",
    "\n",
    "# Loop through the different numbers of hashes and store the %timeit results\n",
    "for i in image_counts:\n",
    "    result = %timeit -o rand_hashes = benchmarking_basic(i)\n",
    "    results.append(result)\n",
    "\n",
    "# Extract the mean run times from the %timeit object\n",
    "mean_times = []\n",
    "for i in range(0, len(results)):\n",
    "    mean_times.append(np.mean(results[i].all_runs))\n",
    "\n",
    "plt.plot(mean_times)"
   ]
  },
  {
   "cell_type": "markdown",
   "metadata": {},
   "source": [
    "#### Reason for Generally Slow Speed on Google's CPU\n",
    "\n",
    "Google's provided free CPU is actually slightly slower than the CPU execution on my rather dated 2016 Surface Pro (around 1 second per image in the benchmarking_basic function). I suspected this was due to Google-Collab specific factors rather than Google using old hardware, and the output of %lprun on Google's hardware suggests this is true:\n",
    "\n",
    "![Image](image_docs/img-googlecollab-defaultprun.PNG)\n",
    "\n",
    "The top line of output here shows that the I/O process method 'read' of '__io.BufferedReader' is taking significant time, indeed, even more than the boxFilter. This suggests that the Python process is ***probably*** waiting a substantial amount of system time to load information from the Google Drive environment before being able to execute code, although I am not certain of this fact.\n",
    "\n",
    "Nonetheless, this delay is relatively stable, and provides a useful benchmark for comparing to other hardware Google provides.\n",
    "\n"
   ]
  },
  {
   "cell_type": "markdown",
   "metadata": {},
   "source": [
    "### Using Google's GPU hardware - From Google Drive"
   ]
  },
  {
   "cell_type": "code",
   "execution_count": 11,
   "metadata": {
    "colab": {
     "base_uri": "https://localhost:8080/",
     "height": 350
    },
    "colab_type": "code",
    "id": "Z31vfBgVwAsr",
    "outputId": "e7eefc6d-52b9-42c8-e55b-ed3ce15188f5"
   },
   "outputs": [
    {
     "name": "stdout",
     "output_type": "stream",
     "text": [
      "1 loop, best of 3: 3.88 s per loop\n",
      "1 loop, best of 3: 7.73 s per loop\n",
      "1 loop, best of 3: 15.2 s per loop\n",
      "1 loop, best of 3: 29.7 s per loop\n"
     ]
    },
    {
     "data": {
      "text/plain": [
       "[<matplotlib.lines.Line2D at 0x7f1159c44f98>]"
      ]
     },
     "execution_count": 11,
     "metadata": {
      "tags": []
     },
     "output_type": "execute_result"
    },
    {
     "data": {
      "image/png": "[encoded data removed]",
      "text/plain": [
       "<Figure size 432x288 with 1 Axes>"
      ]
     },
     "metadata": {
      "tags": []
     },
     "output_type": "display_data"
    }
   ],
   "source": [
    "# Run on Google's Provided GPU Hardware\n",
    "\n",
    "# Image numbers to hash and result list\n",
    "image_counts = [5, 10, 20, 40]\n",
    "results = []\n",
    "\n",
    "# Loop through the different numbers of hashes and store the %timeit results\n",
    "for i in image_counts:\n",
    "    result = %timeit -o rand_hashes = benchmarking_basic(i)\n",
    "    results.append(result)\n",
    "\n",
    "# Extract the mean run times from the %timeit object\n",
    "mean_times = []\n",
    "for i in range(0, len(results)):\n",
    "    mean_times.append(np.mean(results[i].all_runs))\n",
    "\n",
    "plt.plot(mean_times)"
   ]
  },
  {
   "cell_type": "markdown",
   "metadata": {},
   "source": [
    "Process execution on Google's hardware is slightly slower than my own computer due to IO delays, likely from when Python accesses data from Google Drive. Nonethless, this delay is constant for each run of the code and for all the hardware Google uses, and so provides a useful comparison.\n",
    "\n",
    "Google's GPU hardware is faster than the CPU. \n",
    "\n",
    "As we would expect, all of Google's hardware also appears to run this algorithm in linear time with respect to the number of images. "
   ]
  },
  {
   "cell_type": "markdown",
   "metadata": {},
   "source": [
    "### Using Google's Hardware - Files In Memory"
   ]
  },
  {
   "cell_type": "markdown",
   "metadata": {},
   "source": [
    "We then turn to running these algorithms with images in Memory, to avoid the input output issues from using Google Drive."
   ]
  },
  {
   "cell_type": "code",
   "execution_count": null,
   "metadata": {
    "colab": {},
    "colab_type": "code",
    "id": "t9w3D5TaQLSV"
   },
   "outputs": [],
   "source": [
    "# List of full paths to sample and load into memory\n",
    "\n",
    "img_filename_list_fullpath = []\n",
    "for root, dirs, files in os.walk('/content/gdrive/My Drive/DAS Summative/das_images/das_images'):\n",
    "    for file in files:\n",
    "        if file.endswith('.jpg'):\n",
    "            file_full = '/content/gdrive/My Drive/DAS Summative/das_images/das_images/' + file\n",
    "            img_filename_list_fullpath.append(file_full)"
   ]
  },
  {
   "cell_type": "code",
   "execution_count": 8,
   "metadata": {
    "colab": {
     "base_uri": "https://localhost:8080/",
     "height": 50
    },
    "colab_type": "code",
    "id": "0TswUAM5U23q",
    "outputId": "761a74a8-a711-4957-9c12-25c3c7ce3783"
   },
   "outputs": [
    {
     "data": {
      "text/plain": [
       "15056"
      ]
     },
     "metadata": {
      "tags": []
     },
     "output_type": "display_data"
    },
    {
     "data": {
      "text/plain": [
       "'/content/gdrive/My Drive/DAS Summative/das_images/das_images/0014_10752956.jpg'"
      ]
     },
     "execution_count": 8,
     "metadata": {
      "tags": []
     },
     "output_type": "execute_result"
    }
   ],
   "source": [
    "display(len(img_filename_list_fullpath))\n",
    "img_filename_list_fullpath[0]"
   ]
  },
  {
   "cell_type": "code",
   "execution_count": null,
   "metadata": {
    "colab": {},
    "colab_type": "code",
    "id": "2mzn3T8XUCL4"
   },
   "outputs": [],
   "source": [
    "sample_images_filenames = sample(img_filename_list_fullpath, 20)"
   ]
  },
  {
   "cell_type": "code",
   "execution_count": null,
   "metadata": {
    "colab": {},
    "colab_type": "code",
    "id": "MkTAcS9bUXb-"
   },
   "outputs": [],
   "source": [
    "imgs_in_mem_list = []\n",
    "\n",
    "for i in range(len(sample_images_filenames)):\n",
    "    imgs_in_mem_list.append(Image.open(sample_images_filenames[i]))"
   ]
  },
  {
   "cell_type": "code",
   "execution_count": 12,
   "metadata": {
    "colab": {
     "base_uri": "https://localhost:8080/",
     "height": 33
    },
    "colab_type": "code",
    "id": "Q-wDfkD4WuOh",
    "outputId": "bece2758-c96b-425e-ac60-94618f1ec6a1"
   },
   "outputs": [
    {
     "name": "stdout",
     "output_type": "stream",
     "text": [
      "1 loop, best of 3: 9.03 s per loop\n"
     ]
    }
   ],
   "source": [
    "# To run on the default CPU hardware - 20 images - around 0.445ms per image\n",
    "\n",
    "%%timeit\n",
    "\n",
    "hash_list = []\n",
    "\n",
    "for i in range(len(imgs_in_mem_list)):\n",
    "    temphash = find.fromImage(imgs_in_mem_list[i])\n",
    "    hash_list.append(temphash)\n",
    "    temphash = []"
   ]
  },
  {
   "cell_type": "code",
   "execution_count": 15,
   "metadata": {
    "colab": {
     "base_uri": "https://localhost:8080/",
     "height": 33
    },
    "colab_type": "code",
    "id": "WQaJfSU2WrOQ",
    "outputId": "6c1ab5ca-7a62-44ac-c1ca-a0ca3ed4c230"
   },
   "outputs": [
    {
     "name": "stdout",
     "output_type": "stream",
     "text": [
      "1 loop, best of 3: 7.63 s per loop\n"
     ]
    }
   ],
   "source": [
    "# RUn on the default GPU hardware - 20 images, around 0.382 seconds per image\n",
    "\n",
    "%%timeit\n",
    "\n",
    "hash_list = []\n",
    "\n",
    "for i in range(len(imgs_in_mem_list)):\n",
    "    temphash = find.fromImage(imgs_in_mem_list[i])\n",
    "    hash_list.append(temphash)\n",
    "    temphash = []"
   ]
  },
  {
   "cell_type": "code",
   "execution_count": 16,
   "metadata": {
    "colab": {
     "base_uri": "https://localhost:8080/",
     "height": 33
    },
    "colab_type": "code",
    "id": "fNCEOjbqZnNk",
    "outputId": "dcf1cdd8-f58c-4283-c433-551998764d31"
   },
   "outputs": [
    {
     "name": "stdout",
     "output_type": "stream",
     "text": [
      " "
     ]
    }
   ],
   "source": [
    "# This output comes up as a pop up window in GOogle Colab.\n",
    "# Shown in the PDF report\n",
    "\n",
    "%prun find.fromImage(imgs_in_mem_list[0])"
   ]
  },
  {
   "cell_type": "markdown",
   "metadata": {
    "colab_type": "text",
    "id": "3WcH0Vc7lgJC"
   },
   "source": [
    "## Fastest Run of Code - Numba Optimisation on Google's GPUs"
   ]
  },
  {
   "cell_type": "code",
   "execution_count": 22,
   "metadata": {
    "colab": {},
    "colab_type": "code",
    "id": "kYLayNlHbt6s"
   },
   "outputs": [],
   "source": [
    "find_1 = FINDHasher_1()"
   ]
  },
  {
   "cell_type": "code",
   "execution_count": 15,
   "metadata": {
    "colab": {
     "base_uri": "https://localhost:8080/",
     "height": 33
    },
    "colab_type": "code",
    "id": "IQ8giRrxaoUv",
    "outputId": "6bca0630-6fc9-447a-fc45-822437e0eea5"
   },
   "outputs": [
    {
     "name": "stdout",
     "output_type": "stream",
     "text": [
      "1 loop, best of 3: 4.4 s per loop\n"
     ]
    }
   ],
   "source": [
    "# RUn on the default GPU hardware - 20 images, numba optimised code, around 0.22 seconds per image\n",
    "\n",
    "%%timeit\n",
    "\n",
    "hash_list = []\n",
    "\n",
    "for i in range(len(imgs_in_mem_list)):\n",
    "    temphash = find_1.fromImage(imgs_in_mem_list[i])\n",
    "    hash_list.append(temphash)\n",
    "    temphash = []"
   ]
  },
  {
   "cell_type": "code",
   "execution_count": null,
   "metadata": {},
   "outputs": [],
   "source": []
  },
  {
   "cell_type": "markdown",
   "metadata": {},
   "source": [
    "# Accuracy Measurement and Comparisons"
   ]
  },
  {
   "cell_type": "markdown",
   "metadata": {},
   "source": [
    "## Accuracy for FINDHasher"
   ]
  },
  {
   "cell_type": "code",
   "execution_count": 14,
   "metadata": {},
   "outputs": [],
   "source": [
    "findHasher_1=FINDHasher_1()"
   ]
  },
  {
   "cell_type": "code",
   "execution_count": 6,
   "metadata": {},
   "outputs": [],
   "source": [
    "# I want to randomly sample from the list of images to for accuracy distributions\n",
    "# This code reads in a list of all the image filenames in the images folder\n",
    "\n",
    "img_filename_list = []\n",
    "for root, dirs, files in os.walk(r'C:/Users/benja/Desktop/Oxford/Summatives/das2019/das_images/das_images'):\n",
    "    for file in files:\n",
    "        if file.endswith('.jpg'):\n",
    "            img_filename_list.append(file)"
   ]
  },
  {
   "cell_type": "code",
   "execution_count": 8,
   "metadata": {},
   "outputs": [],
   "source": [
    "# generate a list of all the unique meme image groups from the filenames\n",
    "# The image group is specified by the first four digits of the file name\n",
    "\n",
    "list_image_prefixes = []\n",
    "\n",
    "for i in range(0, len(img_filename_list)):\n",
    "    temp_prefix = img_filename_list[i][0:4]\n",
    "    list_image_prefixes.append(temp_prefix)\n",
    "\n",
    "unique_image_groups = set(list_image_prefixes)"
   ]
  },
  {
   "cell_type": "code",
   "execution_count": 9,
   "metadata": {},
   "outputs": [],
   "source": [
    "# Sort the image filenames into their meme families in a dictionary\n",
    "\n",
    "meme_lord_dict = {}\n",
    "for file_name in img_filename_list:\n",
    "    if file_name[0:4] in meme_lord_dict:\n",
    "        meme_lord_dict[file_name[0:4]].append(file_name)\n",
    "    else:\n",
    "        meme_lord_dict[file_name[0:4]]=[file_name]"
   ]
  },
  {
   "cell_type": "code",
   "execution_count": 15,
   "metadata": {
    "collapsed": true,
    "jupyter": {
     "outputs_hidden": true
    }
   },
   "outputs": [
    {
     "name": "stderr",
     "output_type": "stream",
     "text": [
      "C:\\ProgramData\\Anaconda3\\lib\\site-packages\\numba\\ir_utils.py:1969: NumbaPendingDeprecationWarning: \u001b[1m\n",
      "Encountered the use of a type that is scheduled for deprecation: type 'reflected list' found for argument 'input' of function 'faster_boxFilter'.\n",
      "\n",
      "For more information visit http://numba.pydata.org/numba-doc/latest/reference/deprecation.html#deprecation-of-reflection-for-list-and-set-types\n",
      "\u001b[1m\n",
      "File \"FINd_numba.py\", line 15:\u001b[0m\n",
      "\u001b[1m@jit\n",
      "\u001b[1mdef faster_boxFilter(input,output,rows,cols,rowWin,colWin):\n",
      "\u001b[0m\u001b[1m^\u001b[0m\u001b[0m\n",
      "\u001b[0m\n",
      "  warnings.warn(NumbaPendingDeprecationWarning(msg, loc=loc))\n",
      "C:\\ProgramData\\Anaconda3\\lib\\site-packages\\numba\\ir_utils.py:1969: NumbaPendingDeprecationWarning: \u001b[1m\n",
      "Encountered the use of a type that is scheduled for deprecation: type 'reflected list' found for argument 'output' of function 'faster_boxFilter'.\n",
      "\n",
      "For more information visit http://numba.pydata.org/numba-doc/latest/reference/deprecation.html#deprecation-of-reflection-for-list-and-set-types\n",
      "\u001b[1m\n",
      "File \"FINd_numba.py\", line 15:\u001b[0m\n",
      "\u001b[1m@jit\n",
      "\u001b[1mdef faster_boxFilter(input,output,rows,cols,rowWin,colWin):\n",
      "\u001b[0m\u001b[1m^\u001b[0m\u001b[0m\n",
      "\u001b[0m\n",
      "  warnings.warn(NumbaPendingDeprecationWarning(msg, loc=loc))\n"
     ]
    }
   ],
   "source": [
    "# Choose a specified a number of meme families to test within\n",
    "sample_meme_types = sample(meme_lord_dict.keys(), 10)\n",
    "\n",
    "hash_output_dict = {}\n",
    "\n",
    "# Loop over the chosen meme families\n",
    "for i in range(0, len(sample_meme_types)):\n",
    "    \n",
    "    # Choose a specified number of images selected within each meme family to test\n",
    "    img_to_hash = sample(meme_lord_dict[sample_meme_types[i]], 10)\n",
    "    \n",
    "    # Loop over the images in each meme family and store the hashes\n",
    "    for j in range(0, len(img_to_hash)):\n",
    "        img_string_input = 'das_images/das_images/{}'.format(img_to_hash[j])\n",
    "        hash_temp = findHasher_1.fromFile(img_string_input)\n",
    "        \n",
    "        if img_to_hash[j][0:4] in hash_output_dict:\n",
    "            \n",
    "            # If the dictionary already has a key for that image family, just append the hash output\n",
    "            hash_output_dict[img_to_hash[j][0:4]].append(hash_temp)\n",
    "        else:\n",
    "            # If there is no key for that meme family yet, add it and put the hash_temp in\n",
    "            hash_output_dict[img_to_hash[j][0:4]]=[hash_temp]"
   ]
  },
  {
   "cell_type": "code",
   "execution_count": 16,
   "metadata": {},
   "outputs": [],
   "source": [
    "# Collect all unique-pair intra-meme-family distances\n",
    "\n",
    "# grab the list of meme family keys we \n",
    "keys_list = list(hash_output_dict.keys())\n",
    "\n",
    "hash_dist_temp = []\n",
    "distances_dict = {}\n",
    "\n",
    "for i in range(0, len(keys_list)):\n",
    "    \n",
    "    # Compute all unique distance combinations\n",
    "    for a, b in itertools.combinations(hash_output_dict[keys_list[i]], 2):\n",
    "        temp_dist = a - b\n",
    "        hash_dist_temp.append(temp_dist)\n",
    "    \n",
    "    # pop the hash distance list into the dictionary with the meme family key\n",
    "    distances_dict[keys_list[i]] = [hash_dist_temp]\n",
    "    \n",
    "    # clear hash_dist_temp for next iteration\n",
    "    hash_dist_temp = []"
   ]
  },
  {
   "cell_type": "code",
   "execution_count": 30,
   "metadata": {
    "collapsed": true,
    "jupyter": {
     "outputs_hidden": true
    }
   },
   "outputs": [
    {
     "data": {
      "image/png": "[encoded data removed]",
      "text/plain": [
       "<Figure size 432x288 with 1 Axes>"
      ]
     },
     "metadata": {
      "needs_background": "light"
     },
     "output_type": "display_data"
    },
    {
     "data": {
      "image/png": "[encoded data removed]",
      "text/plain": [
       "<Figure size 432x288 with 1 Axes>"
      ]
     },
     "metadata": {
      "needs_background": "light"
     },
     "output_type": "display_data"
    },
    {
     "data": {
      "image/png": "[encoded data removed]",
      "text/plain": [
       "<Figure size 432x288 with 1 Axes>"
      ]
     },
     "metadata": {
      "needs_background": "light"
     },
     "output_type": "display_data"
    },
    {
     "data": {
      "image/png": "[encoded data removed]",
      "text/plain": [
       "<Figure size 432x288 with 1 Axes>"
      ]
     },
     "metadata": {
      "needs_background": "light"
     },
     "output_type": "display_data"
    },
    {
     "data": {
      "image/png": "[encoded data removed]",
      "text/plain": [
       "<Figure size 432x288 with 1 Axes>"
      ]
     },
     "metadata": {
      "needs_background": "light"
     },
     "output_type": "display_data"
    },
    {
     "data": {
      "image/png": "[encoded data removed]",
      "text/plain": [
       "<Figure size 432x288 with 1 Axes>"
      ]
     },
     "metadata": {
      "needs_background": "light"
     },
     "output_type": "display_data"
    },
    {
     "data": {
      "image/png": "[encoded data removed]",
      "text/plain": [
       "<Figure size 432x288 with 1 Axes>"
      ]
     },
     "metadata": {
      "needs_background": "light"
     },
     "output_type": "display_data"
    },
    {
     "data": {
      "image/png": "[encoded data removed]",
      "text/plain": [
       "<Figure size 432x288 with 1 Axes>"
      ]
     },
     "metadata": {
      "needs_background": "light"
     },
     "output_type": "display_data"
    },
    {
     "data": {
      "image/png": "[encoded data removed]",
      "text/plain": [
       "<Figure size 432x288 with 1 Axes>"
      ]
     },
     "metadata": {
      "needs_background": "light"
     },
     "output_type": "display_data"
    },
    {
     "data": {
      "image/png": "[encoded data removed]",
      "text/plain": [
       "<Figure size 432x288 with 1 Axes>"
      ]
     },
     "metadata": {
      "needs_background": "light"
     },
     "output_type": "display_data"
    }
   ],
   "source": [
    "# Distribution graphs for FINDHasher\n",
    "\n",
    "for i in range(0, len(keys_list)):\n",
    "    plt.figure()\n",
    "    plt.hist(distances_dict[keys_list[i]][0], bins = 20)\n",
    "    plt.suptitle('Hamming Distance Sample Dist., Meme Family {}'.format(i+1), fontsize = 13)\n",
    "    plt.title('Pairwise Distances Within Meme Family', fontsize = 12)\n",
    "    plt.xlabel('Distance', fontsize = 14)\n",
    "    # plt.xticks(np.arange(0,60, 10))\n",
    "    plt.ylabel('Frequency',  fontsize = 14)\n",
    "    plt.savefig('image_docs/hamm_dist_{}.png'.format(i+1), bbox_inches = 'tight')\n",
    "plt.show()"
   ]
  },
  {
   "cell_type": "code",
   "execution_count": 92,
   "metadata": {},
   "outputs": [],
   "source": [
    "final_results_findhasher = []\n",
    "threshold = 50\n",
    "\n",
    "thresh_list = np.arange(0,105,5)\n",
    "\n",
    "for z in range(len(thresh_list)):\n",
    "\n",
    "    results_of_thresh_test = {}\n",
    "\n",
    "\n",
    "    for i in range(len(dist_keys)):\n",
    "\n",
    "        for j in range(len(distances_dict[dist_keys[i]][0])):\n",
    "\n",
    "            if distances_dict[dist_keys[i]][0][j] > thresh_list[z]:\n",
    "                result = 0\n",
    "            else: \n",
    "                result = 1\n",
    "\n",
    "            if dist_keys[i] in results_of_thresh_test:\n",
    "\n",
    "                # If the dictionary already has a key for that image family, just append the hash output\n",
    "                results_of_thresh_test[dist_keys[i]].append(result)\n",
    "            else:\n",
    "                # If there is no key for that meme family yet, add it and put the hash_temp in\n",
    "                results_of_thresh_test[dist_keys[i]]=[result]\n",
    "\n",
    "\n",
    "    result_flat = []\n",
    "    for q in range(len(dist_keys)):\n",
    "\n",
    "        result_array = np.array(results_of_thresh_test[dist_keys[q]])\n",
    "        per_cent = result_array.mean()\n",
    "        result_flat.append(per_cent)\n",
    "\n",
    "    result_flat_grab = np.array(result_flat)\n",
    "\n",
    "\n",
    "    final_results_findhasher.append(result_flat_grab.mean())\n",
    "    #final_results[thresh_list[z]]=[result_flat_grab.mean()]"
   ]
  },
  {
   "cell_type": "code",
   "execution_count": 93,
   "metadata": {
    "collapsed": true,
    "jupyter": {
     "outputs_hidden": true
    }
   },
   "outputs": [
    {
     "data": {
      "text/plain": [
       "[0.008888888888888889,\n",
       " 0.008888888888888889,\n",
       " 0.011111111111111112,\n",
       " 0.011111111111111112,\n",
       " 0.028888888888888888,\n",
       " 0.07555555555555554,\n",
       " 0.14888888888888888,\n",
       " 0.1866666666666667,\n",
       " 0.31111111111111117,\n",
       " 0.4066666666666666,\n",
       " 0.5177777777777777,\n",
       " 0.6266666666666667,\n",
       " 0.7377777777777778,\n",
       " 0.8266666666666665,\n",
       " 0.9066666666666668,\n",
       " 0.9400000000000001,\n",
       " 0.9822222222222223,\n",
       " 0.9911111111111112,\n",
       " 0.9977777777777778,\n",
       " 1.0,\n",
       " 1.0]"
      ]
     },
     "execution_count": 93,
     "metadata": {},
     "output_type": "execute_result"
    }
   ],
   "source": [
    "final_results_findhasher"
   ]
  },
  {
   "cell_type": "markdown",
   "metadata": {},
   "source": [
    "### Accuracy Metric for AverageHash"
   ]
  },
  {
   "cell_type": "code",
   "execution_count": null,
   "metadata": {},
   "outputs": [],
   "source": []
  },
  {
   "cell_type": "code",
   "execution_count": 95,
   "metadata": {},
   "outputs": [],
   "source": [
    "# I want to randomly sample from the list of images to for accuracy distributions\n",
    "# This code reads in a list of all the image filenames in the images folder\n",
    "\n",
    "img_filename_list = []\n",
    "for root, dirs, files in os.walk(r'C:/Users/benja/Desktop/Oxford/Summatives/das2019/das_images/das_images'):\n",
    "    for file in files:\n",
    "        if file.endswith('.jpg'):\n",
    "            img_filename_list.append(file)"
   ]
  },
  {
   "cell_type": "code",
   "execution_count": 96,
   "metadata": {},
   "outputs": [],
   "source": [
    "# generate a list of all the unique meme image groups from the filenames\n",
    "# The image group is specified by the first four digits of the file name\n",
    "\n",
    "list_image_prefixes = []\n",
    "\n",
    "for i in range(0, len(img_filename_list)):\n",
    "    temp_prefix = img_filename_list[i][0:4]\n",
    "    list_image_prefixes.append(temp_prefix)\n",
    "\n",
    "unique_image_groups = set(list_image_prefixes)"
   ]
  },
  {
   "cell_type": "code",
   "execution_count": 97,
   "metadata": {},
   "outputs": [],
   "source": [
    "# Sort the image filenames into their meme families in a dictionary\n",
    "\n",
    "meme_lord_dict = {}\n",
    "for file_name in img_filename_list:\n",
    "    if file_name[0:4] in meme_lord_dict:\n",
    "        meme_lord_dict[file_name[0:4]].append(file_name)\n",
    "    else:\n",
    "        meme_lord_dict[file_name[0:4]]=[file_name]"
   ]
  },
  {
   "cell_type": "code",
   "execution_count": 98,
   "metadata": {},
   "outputs": [],
   "source": [
    "# Choose a specified a number of meme families to test within\n",
    "sample_meme_types = sample(meme_lord_dict.keys(), 10)\n",
    "\n",
    "hash_output_dict = {}\n",
    "\n",
    "# Loop over the chosen meme families\n",
    "for i in range(0, len(sample_meme_types)):\n",
    "    \n",
    "    # Choose a specified number of images selected within each meme family to test\n",
    "    img_to_hash = sample(meme_lord_dict[sample_meme_types[i]], 10)\n",
    "    \n",
    "    # Loop over the images in each meme family and store the hashes\n",
    "    for j in range(0, len(img_to_hash)):\n",
    "        img_string_input = 'das_images/das_images/{}'.format(img_to_hash[j])\n",
    "        hash_temp = imagehash.average_hash(Image.open(img_string_input))\n",
    "        \n",
    "        if img_to_hash[j][0:4] in hash_output_dict:\n",
    "            \n",
    "            # If the dictionary already has a key for that image family, just append the hash output\n",
    "            hash_output_dict[img_to_hash[j][0:4]].append(hash_temp)\n",
    "        else:\n",
    "            # If there is no key for that meme family yet, add it and put the hash_temp in\n",
    "            hash_output_dict[img_to_hash[j][0:4]]=[hash_temp]"
   ]
  },
  {
   "cell_type": "code",
   "execution_count": 100,
   "metadata": {},
   "outputs": [],
   "source": [
    "import itertools\n",
    "\n",
    "# Collect all unique-pair intra-meme-family distances\n",
    "\n",
    "# grab the list of meme family keys we \n",
    "keys_list = list(hash_output_dict.keys())\n",
    "\n",
    "hash_dist_temp = []\n",
    "distances_dict = {}\n",
    "\n",
    "for i in range(0, len(keys_list)):\n",
    "    \n",
    "    # Compute all unique distance combinations\n",
    "    for a, b in itertools.combinations(hash_output_dict[keys_list[i]], 2):\n",
    "        temp_dist = a - b\n",
    "        hash_dist_temp.append(temp_dist)\n",
    "    \n",
    "    # pop the hash distance list into the dictionary with the meme family key\n",
    "    distances_dict[keys_list[i]] = [hash_dist_temp]\n",
    "    \n",
    "    # clear hash_dist_temp for next iteration\n",
    "    hash_dist_temp = []"
   ]
  },
  {
   "cell_type": "code",
   "execution_count": 106,
   "metadata": {},
   "outputs": [],
   "source": [
    "dist_keys = list(distances_dict.keys())\n",
    "\n",
    "final_results_avghash = []\n",
    "threshold = 50\n",
    "\n",
    "thresh_list = np.arange(0,105,5)\n",
    "\n",
    "for z in range(len(thresh_list)):\n",
    "\n",
    "    results_of_thresh_test = {}\n",
    "\n",
    "\n",
    "    for i in range(len(dist_keys)):\n",
    "\n",
    "        for j in range(len(distances_dict[dist_keys[i]][0])):\n",
    "\n",
    "            if distances_dict[dist_keys[i]][0][j] > thresh_list[z]:\n",
    "                result = 0\n",
    "            else: \n",
    "                result = 1\n",
    "\n",
    "            if dist_keys[i] in results_of_thresh_test:\n",
    "\n",
    "                # If the dictionary already has a key for that image family, just append the hash output\n",
    "                results_of_thresh_test[dist_keys[i]].append(result)\n",
    "            else:\n",
    "                # If there is no key for that meme family yet, add it and put the hash_temp in\n",
    "                results_of_thresh_test[dist_keys[i]]=[result]\n",
    "\n",
    "\n",
    "    result_flat = []\n",
    "    for q in range(len(dist_keys)):\n",
    "\n",
    "        result_array = np.array(results_of_thresh_test[dist_keys[q]])\n",
    "        per_cent = result_array.mean()\n",
    "        result_flat.append(per_cent)\n",
    "\n",
    "    result_flat_grab = np.array(result_flat)\n",
    "\n",
    "\n",
    "    final_results_avghash.append(result_flat_grab.mean())\n",
    "    #final_results[thresh_list[z]]=[result_flat_grab.mean()]"
   ]
  },
  {
   "cell_type": "code",
   "execution_count": 107,
   "metadata": {
    "collapsed": true,
    "jupyter": {
     "outputs_hidden": true
    }
   },
   "outputs": [
    {
     "data": {
      "text/plain": [
       "[0.01111111111111111,\n",
       " 0.42000000000000004,\n",
       " 0.8355555555555556,\n",
       " 0.9666666666666668,\n",
       " 0.9911111111111112,\n",
       " 1.0,\n",
       " 1.0,\n",
       " 1.0,\n",
       " 1.0,\n",
       " 1.0,\n",
       " 1.0,\n",
       " 1.0,\n",
       " 1.0,\n",
       " 1.0,\n",
       " 1.0,\n",
       " 1.0,\n",
       " 1.0,\n",
       " 1.0,\n",
       " 1.0,\n",
       " 1.0,\n",
       " 1.0]"
      ]
     },
     "execution_count": 107,
     "metadata": {},
     "output_type": "execute_result"
    }
   ],
   "source": [
    "final_results_avghash"
   ]
  },
  {
   "cell_type": "markdown",
   "metadata": {},
   "source": [
    "## Accuracy Test Phash"
   ]
  },
  {
   "cell_type": "code",
   "execution_count": 111,
   "metadata": {},
   "outputs": [],
   "source": [
    "# I want to randomly sample from the list of images to for accuracy distributions\n",
    "# This code reads in a list of all the image filenames in the images folder\n",
    "\n",
    "img_filename_list = []\n",
    "for root, dirs, files in os.walk(r'C:/Users/benja/Desktop/Oxford/Summatives/das2019/das_images/das_images'):\n",
    "    for file in files:\n",
    "        if file.endswith('.jpg'):\n",
    "            img_filename_list.append(file)"
   ]
  },
  {
   "cell_type": "code",
   "execution_count": 112,
   "metadata": {},
   "outputs": [],
   "source": [
    "# generate a list of all the unique meme image groups from the filenames\n",
    "# The image group is specified by the first four digits of the file name\n",
    "\n",
    "list_image_prefixes = []\n",
    "\n",
    "for i in range(0, len(img_filename_list)):\n",
    "    temp_prefix = img_filename_list[i][0:4]\n",
    "    list_image_prefixes.append(temp_prefix)\n",
    "\n",
    "unique_image_groups = set(list_image_prefixes)"
   ]
  },
  {
   "cell_type": "code",
   "execution_count": 113,
   "metadata": {},
   "outputs": [],
   "source": [
    "# Sort the image filenames into their meme families in a dictionary\n",
    "\n",
    "meme_lord_dict = {}\n",
    "for file_name in img_filename_list:\n",
    "    if file_name[0:4] in meme_lord_dict:\n",
    "        meme_lord_dict[file_name[0:4]].append(file_name)\n",
    "    else:\n",
    "        meme_lord_dict[file_name[0:4]]=[file_name]"
   ]
  },
  {
   "cell_type": "code",
   "execution_count": 117,
   "metadata": {},
   "outputs": [],
   "source": [
    "# Choose a specified a number of meme families to test within\n",
    "sample_meme_types = sample(meme_lord_dict.keys(), 10)\n",
    "\n",
    "hash_output_dict = {}\n",
    "\n",
    "# Loop over the chosen meme families\n",
    "for i in range(0, len(sample_meme_types)):\n",
    "    \n",
    "    # Choose a specified number of images selected within each meme family to test\n",
    "    img_to_hash = sample(meme_lord_dict[sample_meme_types[i]], 10)\n",
    "    \n",
    "    # Loop over the images in each meme family and store the hashes\n",
    "    for j in range(0, len(img_to_hash)):\n",
    "        img_string_input = 'das_images/das_images/{}'.format(img_to_hash[j])\n",
    "        hash_temp = imagehash.phash(Image.open(img_string_input))\n",
    "        \n",
    "        if img_to_hash[j][0:4] in hash_output_dict:\n",
    "            \n",
    "            # If the dictionary already has a key for that image family, just append the hash output\n",
    "            hash_output_dict[img_to_hash[j][0:4]].append(hash_temp)\n",
    "        else:\n",
    "            # If there is no key for that meme family yet, add it and put the hash_temp in\n",
    "            hash_output_dict[img_to_hash[j][0:4]]=[hash_temp]"
   ]
  },
  {
   "cell_type": "code",
   "execution_count": 118,
   "metadata": {},
   "outputs": [],
   "source": [
    "import itertools\n",
    "\n",
    "# Collect all unique-pair intra-meme-family distances\n",
    "\n",
    "# grab the list of meme family keys we \n",
    "keys_list = list(hash_output_dict.keys())\n",
    "\n",
    "hash_dist_temp = []\n",
    "distances_dict = {}\n",
    "\n",
    "for i in range(0, len(keys_list)):\n",
    "    \n",
    "    # Compute all unique distance combinations\n",
    "    for a, b in itertools.combinations(hash_output_dict[keys_list[i]], 2):\n",
    "        temp_dist = a - b\n",
    "        hash_dist_temp.append(temp_dist)\n",
    "    \n",
    "    # pop the hash distance list into the dictionary with the meme family key\n",
    "    distances_dict[keys_list[i]] = [hash_dist_temp]\n",
    "    \n",
    "    # clear hash_dist_temp for next iteration\n",
    "    hash_dist_temp = []"
   ]
  },
  {
   "cell_type": "code",
   "execution_count": null,
   "metadata": {},
   "outputs": [],
   "source": [
    "\n",
    "for i in range(0, len(keys_list)):\n",
    "    plt.figure()\n",
    "    plt.hist(distances_dict[keys_list[i]][0], bins = 20)\n",
    "    plt.suptitle('Hamming Distance Sample Dist., Meme Family {}'.format(i+1), fontsize = 13)\n",
    "    plt.title('Pairwise Distances Within Meme Family', fontsize = 12)\n",
    "    plt.xlabel('Distance', fontsize = 14)\n",
    "    # plt.xticks(np.arange(0,60, 10))\n",
    "    plt.ylabel('Frequency',  fontsize = 14)\n",
    "    plt.savefig('image_docs/hamm_dist_{}.png'.format(i+1), bbox_inches = 'tight')\n",
    "plt.show()"
   ]
  },
  {
   "cell_type": "code",
   "execution_count": 120,
   "metadata": {},
   "outputs": [],
   "source": [
    "dist_keys = list(distances_dict.keys())\n",
    "\n",
    "final_results_phash = []\n",
    "threshold = 50\n",
    "\n",
    "thresh_list = np.arange(0,105,5)\n",
    "\n",
    "for z in range(len(thresh_list)):\n",
    "\n",
    "    results_of_thresh_test = {}\n",
    "\n",
    "\n",
    "    for i in range(len(dist_keys)):\n",
    "\n",
    "        for j in range(len(distances_dict[dist_keys[i]][0])):\n",
    "\n",
    "            if distances_dict[dist_keys[i]][0][j] > thresh_list[z]:\n",
    "                result = 0\n",
    "            else: \n",
    "                result = 1\n",
    "\n",
    "            if dist_keys[i] in results_of_thresh_test:\n",
    "\n",
    "                # If the dictionary already has a key for that image family, just append the hash output\n",
    "                results_of_thresh_test[dist_keys[i]].append(result)\n",
    "            else:\n",
    "                # If there is no key for that meme family yet, add it and put the hash_temp in\n",
    "                results_of_thresh_test[dist_keys[i]]=[result]\n",
    "\n",
    "\n",
    "    result_flat = []\n",
    "    for q in range(len(dist_keys)):\n",
    "\n",
    "        result_array = np.array(results_of_thresh_test[dist_keys[q]])\n",
    "        per_cent = result_array.mean()\n",
    "        result_flat.append(per_cent)\n",
    "\n",
    "    result_flat_grab = np.array(result_flat)\n",
    "\n",
    "\n",
    "    final_results_phash.append(result_flat_grab.mean())\n",
    "    #final_results[thresh_list[z]]=[result_flat_grab.mean()]"
   ]
  },
  {
   "cell_type": "code",
   "execution_count": 121,
   "metadata": {
    "collapsed": true,
    "jupyter": {
     "outputs_hidden": true
    }
   },
   "outputs": [
    {
     "data": {
      "text/plain": [
       "[0.013333333333333332,\n",
       " 0.21777777777777776,\n",
       " 0.7044444444444444,\n",
       " 0.9355555555555555,\n",
       " 0.9800000000000001,\n",
       " 0.9800000000000001,\n",
       " 0.9888888888888889,\n",
       " 1.0,\n",
       " 1.0,\n",
       " 1.0,\n",
       " 1.0,\n",
       " 1.0,\n",
       " 1.0,\n",
       " 1.0,\n",
       " 1.0,\n",
       " 1.0,\n",
       " 1.0,\n",
       " 1.0,\n",
       " 1.0,\n",
       " 1.0,\n",
       " 1.0]"
      ]
     },
     "execution_count": 121,
     "metadata": {},
     "output_type": "execute_result"
    }
   ],
   "source": [
    "final_results_phash"
   ]
  },
  {
   "cell_type": "markdown",
   "metadata": {},
   "source": [
    "## Accuracy Summary"
   ]
  },
  {
   "cell_type": "code",
   "execution_count": 148,
   "metadata": {},
   "outputs": [
    {
     "data": {
      "image/png": "[encoded data removed]",
      "text/plain": [
       "<Figure size 648x432 with 1 Axes>"
      ]
     },
     "metadata": {
      "needs_background": "light"
     },
     "output_type": "display_data"
    }
   ],
   "source": [
    "plt.figure(1, figsize = (9,6))\n",
    "plt.plot(np.arange(0,105,5), final_results_findhasher,)\n",
    "plt.plot(np.arange(0,105,5), final_results_avghash)\n",
    "plt.plot(np.arange(0,105,5), final_results_phash)\n",
    "plt.xticks(np.arange(0,105,5),np.arange(0,105,5))\n",
    "plt.legend(('FINDHasher', 'Average Hash', 'Perception Hash'))\n",
    "plt.suptitle('Within-Meme Family Classification Accuracy Based on Threshold Variance', fontsize = 18)\n",
    "plt.title('Threshold for Hamming Distance to Classify Two Images in Same Family', fontsize = 14)\n",
    "plt.xlabel('Value of Threshold for Hamming Distance', fontsize = 14)\n",
    "plt.ylabel('Accuracy (Share of Images Correctly\\nClassified as Within-Family)',  fontsize = 14)\n",
    "\n",
    "plt.savefig('image_docs/accuracy_measure.png', bbox_inches = 'tight')\n",
    "plt.show()"
   ]
  },
  {
   "cell_type": "code",
   "execution_count": null,
   "metadata": {},
   "outputs": [],
   "source": []
  }
 ],
 "metadata": {
  "kernelspec": {
   "display_name": "Python 3",
   "language": "python",
   "name": "python3"
  },
  "language_info": {
   "codemirror_mode": {
    "name": "ipython",
    "version": 3
   },
   "file_extension": ".py",
   "mimetype": "text/x-python",
   "name": "python",
   "nbconvert_exporter": "python",
   "pygments_lexer": "ipython3",
   "version": "3.7.3"
  }
 },
 "nbformat": 4,
 "nbformat_minor": 4
}
