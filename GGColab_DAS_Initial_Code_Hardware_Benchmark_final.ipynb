{
  "nbformat": 4,
  "nbformat_minor": 0,
  "metadata": {
    "colab": {
      "name": "GGColab - DAS - Initial Code Hardware Benchmark.ipynb",
      "provenance": [],
      "collapsed_sections": []
    },
    "kernelspec": {
      "name": "python3",
      "display_name": "Python 3"
    }
  },
  "cells": [
    {
      "cell_type": "code",
      "metadata": {
        "id": "uVYTdQxYoqcY",
        "colab_type": "code",
        "outputId": "dacf8d8d-7c92-41d4-9591-19268ddcfae8",
        "colab": {
          "base_uri": "https://localhost:8080/",
          "height": 118
        }
      },
      "source": [
        "from google.colab import drive\n",
        "drive.mount('/content/gdrive')"
      ],
      "execution_count": 1,
      "outputs": [
        {
          "output_type": "stream",
          "text": [
            "Go to this URL in a browser: https://accounts.google.com/o/oauth2/auth?client_id=947318989803-6bn6qk8qdgf4n4g3pfee6491hc0brc4i.apps.googleusercontent.com&redirect_uri=urn%3aietf%3awg%3aoauth%3a2.0%3aoob&response_type=code&scope=email%20https%3a%2f%2fwww.googleapis.com%2fauth%2fdocs.test%20https%3a%2f%2fwww.googleapis.com%2fauth%2fdrive%20https%3a%2f%2fwww.googleapis.com%2fauth%2fdrive.photos.readonly%20https%3a%2f%2fwww.googleapis.com%2fauth%2fpeopleapi.readonly\n",
            "\n",
            "Enter your authorization code:\n",
            "··········\n",
            "Mounted at /content/gdrive\n"
          ],
          "name": "stdout"
        }
      ]
    },
    {
      "cell_type": "code",
      "metadata": {
        "id": "gTnIhg2Xo5nN",
        "colab_type": "code",
        "colab": {}
      },
      "source": [
        "import os, os.path\n",
        "from random import sample"
      ],
      "execution_count": 0,
      "outputs": []
    },
    {
      "cell_type": "code",
      "metadata": {
        "id": "TnrhVW2Cpw9j",
        "colab_type": "code",
        "outputId": "2bad273a-5874-4736-f98c-c1585b964d92",
        "colab": {
          "base_uri": "https://localhost:8080/",
          "height": 33
        }
      },
      "source": [
        "# Checking the sample of images I managed to upload - I had issues with Google Drive syncing a large number of files. This sample is reasonable enough.\n",
        "# An alternative to test this might be to upload the files to Git and downloading from there (although you might need a public repo for that). \n",
        "\n",
        "list = os.listdir('/content/gdrive/My Drive/DAS Summative/das_images/das_images')\n",
        "number_files = len(list)\n",
        "print(number_files)"
      ],
      "execution_count": 4,
      "outputs": [
        {
          "output_type": "stream",
          "text": [
            "15057\n"
          ],
          "name": "stdout"
        }
      ]
    },
    {
      "cell_type": "code",
      "metadata": {
        "id": "t9w3D5TaQLSV",
        "colab_type": "code",
        "colab": {}
      },
      "source": [
        "# List of full paths to sample and load into memory\n",
        "\n",
        "img_filename_list_fullpath = []\n",
        "for root, dirs, files in os.walk('/content/gdrive/My Drive/DAS Summative/das_images/das_images'):\n",
        "    for file in files:\n",
        "        if file.endswith('.jpg'):\n",
        "            file_full = '/content/gdrive/My Drive/DAS Summative/das_images/das_images/' + file\n",
        "            img_filename_list_fullpath.append(file_full)"
      ],
      "execution_count": 0,
      "outputs": []
    },
    {
      "cell_type": "code",
      "metadata": {
        "id": "7ynAGtVxf-DJ",
        "colab_type": "code",
        "colab": {}
      },
      "source": [
        "# List of filenames only\n",
        "\n",
        "img_filename_list = []\n",
        "for root, dirs, files in os.walk('/content/gdrive/My Drive/DAS Summative/das_images/das_images'):\n",
        "    for file in files:\n",
        "        if file.endswith('.jpg'):\n",
        "            img_filename_list.append(file)"
      ],
      "execution_count": 0,
      "outputs": []
    },
    {
      "cell_type": "code",
      "metadata": {
        "id": "0TswUAM5U23q",
        "colab_type": "code",
        "colab": {
          "base_uri": "https://localhost:8080/",
          "height": 50
        },
        "outputId": "761a74a8-a711-4957-9c12-25c3c7ce3783"
      },
      "source": [
        "display(len(img_filename_list_fullpath))\n",
        "img_filename_list_fullpath[0]"
      ],
      "execution_count": 8,
      "outputs": [
        {
          "output_type": "display_data",
          "data": {
            "text/plain": [
              "15056"
            ]
          },
          "metadata": {
            "tags": []
          }
        },
        {
          "output_type": "execute_result",
          "data": {
            "text/plain": [
              "'/content/gdrive/My Drive/DAS Summative/das_images/das_images/0014_10752956.jpg'"
            ]
          },
          "metadata": {
            "tags": []
          },
          "execution_count": 8
        }
      ]
    },
    {
      "cell_type": "code",
      "metadata": {
        "id": "EnBPZJCzqRVW",
        "colab_type": "code",
        "colab": {}
      },
      "source": [
        "# Set directory to get code\n",
        "os.chdir('/content/gdrive/My Drive/DAS Summative/')"
      ],
      "execution_count": 0,
      "outputs": []
    },
    {
      "cell_type": "code",
      "metadata": {
        "id": "gEiEMrBlwlJc",
        "colab_type": "code",
        "outputId": "5a6f7ace-1932-4f41-f4c9-33164185c232",
        "colab": {
          "base_uri": "https://localhost:8080/",
          "height": 33
        }
      },
      "source": [
        "# Check we have what we need\n",
        "list = os.listdir('/content/gdrive/My Drive/DAS Summative')\n",
        "print(list)"
      ],
      "execution_count": 10,
      "outputs": [
        {
          "output_type": "stream",
          "text": [
            "['das_images', 'matrix.py', 'FINd_gg.py', '__pycache__', 'FINd_numba_gg.py']\n"
          ],
          "name": "stdout"
        }
      ]
    },
    {
      "cell_type": "code",
      "metadata": {
        "id": "L0ZmNEv-uRin",
        "colab_type": "code",
        "outputId": "2449d96d-e8fd-4057-ec37-09ae842da7a5",
        "colab": {
          "base_uri": "https://localhost:8080/",
          "height": 180
        }
      },
      "source": [
        "# Install imagehash\n",
        "!pip install ImageHash"
      ],
      "execution_count": 11,
      "outputs": [
        {
          "output_type": "stream",
          "text": [
            "Collecting ImageHash\n",
            "\u001b[?25l  Downloading https://files.pythonhosted.org/packages/58/47/e639093d67f54e59163f9d259575a10bd16e4d0ff3bb1259ba64b9c77a42/ImageHash-4.0-py2.py3-none-any.whl (295kB)\n",
            "\r\u001b[K     |█                               | 10kB 26.5MB/s eta 0:00:01\r\u001b[K     |██▏                             | 20kB 6.1MB/s eta 0:00:01\r\u001b[K     |███▎                            | 30kB 8.6MB/s eta 0:00:01\r\u001b[K     |████▍                           | 40kB 5.6MB/s eta 0:00:01\r\u001b[K     |█████▌                          | 51kB 6.8MB/s eta 0:00:01\r\u001b[K     |██████▋                         | 61kB 8.0MB/s eta 0:00:01\r\u001b[K     |███████▊                        | 71kB 9.1MB/s eta 0:00:01\r\u001b[K     |████████▉                       | 81kB 10.2MB/s eta 0:00:01\r\u001b[K     |██████████                      | 92kB 11.2MB/s eta 0:00:01\r\u001b[K     |███████████                     | 102kB 9.2MB/s eta 0:00:01\r\u001b[K     |████████████▏                   | 112kB 9.2MB/s eta 0:00:01\r\u001b[K     |█████████████▎                  | 122kB 9.2MB/s eta 0:00:01\r\u001b[K     |██████████████▍                 | 133kB 9.2MB/s eta 0:00:01\r\u001b[K     |███████████████▌                | 143kB 9.2MB/s eta 0:00:01\r\u001b[K     |████████████████▋               | 153kB 9.2MB/s eta 0:00:01\r\u001b[K     |█████████████████▊              | 163kB 9.2MB/s eta 0:00:01\r\u001b[K     |██████████████████▉             | 174kB 9.2MB/s eta 0:00:01\r\u001b[K     |████████████████████            | 184kB 9.2MB/s eta 0:00:01\r\u001b[K     |█████████████████████           | 194kB 9.2MB/s eta 0:00:01\r\u001b[K     |██████████████████████▏         | 204kB 9.2MB/s eta 0:00:01\r\u001b[K     |███████████████████████▎        | 215kB 9.2MB/s eta 0:00:01\r\u001b[K     |████████████████████████▍       | 225kB 9.2MB/s eta 0:00:01\r\u001b[K     |█████████████████████████▌      | 235kB 9.2MB/s eta 0:00:01\r\u001b[K     |██████████████████████████▋     | 245kB 9.2MB/s eta 0:00:01\r\u001b[K     |███████████████████████████▊    | 256kB 9.2MB/s eta 0:00:01\r\u001b[K     |████████████████████████████▉   | 266kB 9.2MB/s eta 0:00:01\r\u001b[K     |██████████████████████████████  | 276kB 9.2MB/s eta 0:00:01\r\u001b[K     |███████████████████████████████ | 286kB 9.2MB/s eta 0:00:01\r\u001b[K     |████████████████████████████████| 296kB 9.2MB/s \n",
            "\u001b[?25hRequirement already satisfied: pywavelets in /usr/local/lib/python3.6/dist-packages (from ImageHash) (1.1.1)\n",
            "Requirement already satisfied: numpy in /usr/local/lib/python3.6/dist-packages (from ImageHash) (1.17.5)\n",
            "Requirement already satisfied: pillow in /usr/local/lib/python3.6/dist-packages (from ImageHash) (6.2.2)\n",
            "Requirement already satisfied: scipy in /usr/local/lib/python3.6/dist-packages (from ImageHash) (1.4.1)\n",
            "Requirement already satisfied: six in /usr/local/lib/python3.6/dist-packages (from ImageHash) (1.12.0)\n",
            "Installing collected packages: ImageHash\n",
            "Successfully installed ImageHash-4.0\n"
          ],
          "name": "stdout"
        }
      ]
    },
    {
      "cell_type": "code",
      "metadata": {
        "id": "iSy2LDK4tewp",
        "colab_type": "code",
        "outputId": "a443c256-9cf8-47ea-8c64-51c411b3e708",
        "colab": {
          "base_uri": "https://localhost:8080/",
          "height": 82
        }
      },
      "source": [
        "# Typical preamble\n",
        "\n",
        "%pylab inline\n",
        "\n",
        "# %load_ext memory_profiler\n",
        "\n",
        "from FINd_gg import FINDHasher\n",
        "from FINd_gg import benchmarking_basic\n",
        "\n",
        "from FINd_numba_gg import FINDHasher_1\n",
        "from FINd_numba_gg import benchmarking_basic_1\n",
        "\n",
        "import imagehash\n",
        "from PIL import Image\n",
        "\n",
        "import time\n",
        "import os\n",
        "from random import sample\n",
        "import numpy as np\n",
        "\n",
        "import multiprocessing\n",
        "\n",
        "import matplotlib.pyplot as plt\n",
        "\n",
        "import itertools"
      ],
      "execution_count": 12,
      "outputs": [
        {
          "output_type": "stream",
          "text": [
            "Populating the interactive namespace from numpy and matplotlib\n"
          ],
          "name": "stdout"
        },
        {
          "output_type": "stream",
          "text": [
            "/usr/local/lib/python3.6/dist-packages/IPython/core/magics/pylab.py:161: UserWarning: pylab import has clobbered these variables: ['sample']\n",
            "`%matplotlib` prevents importing * from pylab and numpy\n",
            "  \"\\n`%matplotlib` prevents importing * from pylab and numpy\"\n"
          ],
          "name": "stderr"
        }
      ]
    },
    {
      "cell_type": "markdown",
      "metadata": {
        "id": "0WYJ7nSHl-OY",
        "colab_type": "text"
      },
      "source": [
        "Loading Files into Google Collab Memory and Working That Way"
      ]
    },
    {
      "cell_type": "code",
      "metadata": {
        "id": "R8WfLeNmS7Gq",
        "colab_type": "code",
        "colab": {}
      },
      "source": [
        "find = FINDHasher()"
      ],
      "execution_count": 0,
      "outputs": []
    },
    {
      "cell_type": "code",
      "metadata": {
        "id": "2mzn3T8XUCL4",
        "colab_type": "code",
        "colab": {}
      },
      "source": [
        "sample_images_filenames = sample(img_filename_list_fullpath, 20)"
      ],
      "execution_count": 0,
      "outputs": []
    },
    {
      "cell_type": "code",
      "metadata": {
        "id": "MkTAcS9bUXb-",
        "colab_type": "code",
        "colab": {}
      },
      "source": [
        "imgs_in_mem_list = []\n",
        "\n",
        "for i in range(len(sample_images_filenames)):\n",
        "  imgs_in_mem_list.append(Image.open(sample_images_filenames[i]))"
      ],
      "execution_count": 0,
      "outputs": []
    },
    {
      "cell_type": "code",
      "metadata": {
        "id": "Ozn-CRaLS-Hs",
        "colab_type": "code",
        "colab": {
          "base_uri": "https://localhost:8080/",
          "height": 33
        },
        "outputId": "8456d135-510b-41b7-c5d5-f2ab388bf4ca"
      },
      "source": [
        "# RUn on with TPU hardware acceleration, original code - around 0.445 ms per image\n",
        "\n",
        "%%timeit\n",
        "\n",
        "hash_list = []\n",
        "\n",
        "for i in range(len(imgs_in_mem_list)):\n",
        "  temphash = find.fromImage(imgs_in_mem_list[i])\n",
        "  hash_list.append(temphash)\n",
        "  temphash = []"
      ],
      "execution_count": 51,
      "outputs": [
        {
          "output_type": "stream",
          "text": [
            "1 loop, best of 3: 8.9 s per loop\n"
          ],
          "name": "stdout"
        }
      ]
    },
    {
      "cell_type": "code",
      "metadata": {
        "id": "Q-wDfkD4WuOh",
        "colab_type": "code",
        "colab": {
          "base_uri": "https://localhost:8080/",
          "height": 33
        },
        "outputId": "bece2758-c96b-425e-ac60-94618f1ec6a1"
      },
      "source": [
        "# To run on the default CPU hardware - 20 images - around 0.445ms per image\n",
        "\n",
        "%%timeit\n",
        "\n",
        "hash_list = []\n",
        "\n",
        "for i in range(len(imgs_in_mem_list)):\n",
        "  temphash = find.fromImage(imgs_in_mem_list[i])\n",
        "  hash_list.append(temphash)\n",
        "  temphash = []"
      ],
      "execution_count": 12,
      "outputs": [
        {
          "output_type": "stream",
          "text": [
            "1 loop, best of 3: 9.03 s per loop\n"
          ],
          "name": "stdout"
        }
      ]
    },
    {
      "cell_type": "code",
      "metadata": {
        "id": "WQaJfSU2WrOQ",
        "colab_type": "code",
        "colab": {
          "base_uri": "https://localhost:8080/",
          "height": 33
        },
        "outputId": "6c1ab5ca-7a62-44ac-c1ca-a0ca3ed4c230"
      },
      "source": [
        "# RUn on the default GPU hardware - 20 images, around 0.382 seconds per image\n",
        "\n",
        "%%timeit\n",
        "\n",
        "hash_list = []\n",
        "\n",
        "for i in range(len(imgs_in_mem_list)):\n",
        "  temphash = find.fromImage(imgs_in_mem_list[i])\n",
        "  hash_list.append(temphash)\n",
        "  temphash = []"
      ],
      "execution_count": 15,
      "outputs": [
        {
          "output_type": "stream",
          "text": [
            "1 loop, best of 3: 7.63 s per loop\n"
          ],
          "name": "stdout"
        }
      ]
    },
    {
      "cell_type": "code",
      "metadata": {
        "id": "fNCEOjbqZnNk",
        "colab_type": "code",
        "colab": {
          "base_uri": "https://localhost:8080/",
          "height": 33
        },
        "outputId": "dcf1cdd8-f58c-4283-c433-551998764d31"
      },
      "source": [
        "# This output comes up as a pop up window in GOogle Colab.\n",
        "# Shown in the workbook\n",
        "\n",
        "%prun find.fromImage(imgs_in_mem_list[0])"
      ],
      "execution_count": 16,
      "outputs": [
        {
          "output_type": "stream",
          "text": [
            " "
          ],
          "name": "stdout"
        }
      ]
    },
    {
      "cell_type": "markdown",
      "metadata": {
        "id": "Zxko60GYjgSf",
        "colab_type": "text"
      },
      "source": [
        "Default Code On Google HardWare Comparison - Loading Files from Google Drive"
      ]
    },
    {
      "cell_type": "code",
      "metadata": {
        "id": "Az0BYW1etplX",
        "colab_type": "code",
        "outputId": "70b0a0c5-0269-4758-cd12-a57ab7790008",
        "colab": {
          "base_uri": "https://localhost:8080/",
          "height": 82
        }
      },
      "source": [
        "# Google CPU hardware\n",
        "\n",
        "# Image numbers to hash and result list\n",
        "image_counts = [5, 10, 20, 40]\n",
        "results = []\n",
        "\n",
        "# Loop through the different numbers of hashes and store the %timeit results\n",
        "for i in image_counts:\n",
        "    result = %timeit -o rand_hashes = benchmarking_basic(i)\n",
        "    results.append(result)\n",
        "\n",
        "# Extract the mean run times from the %timeit object\n",
        "mean_times = []\n",
        "for i in range(0, len(results)):\n",
        "    mean_times.append(np.mean(results[i].all_runs))\n",
        "\n"
      ],
      "execution_count": 14,
      "outputs": [
        {
          "output_type": "stream",
          "text": [
            "1 loop, best of 3: 3.3 s per loop\n",
            "1 loop, best of 3: 7.41 s per loop\n",
            "1 loop, best of 3: 14.4 s per loop\n",
            "1 loop, best of 3: 27.5 s per loop\n"
          ],
          "name": "stdout"
        }
      ]
    },
    {
      "cell_type": "code",
      "metadata": {
        "id": "7rcKCSEDRP_9",
        "colab_type": "code",
        "colab": {}
      },
      "source": [
        "# plt.figure(1, figsize = (9,6))\n",
        "# plt.plot(image_counts, mean_times)\n",
        "# plt.suptitle('Growth in FINd Image Hashing Algorithm (Original Provided)', fontsize = 20)\n",
        "# plt.title('Mean Time of Runs', fontsize = 14)\n",
        "# plt.xlabel('Number of Images', fontsize = 14)\n",
        "# plt.xticks(np.arange(0,60, 10))\n",
        "# plt.ylabel('Time',  fontsize = 14)\n",
        "\n",
        "# # plt.savefig('mean_times_gg_drive.png', bbox_inches = 'tight')\n",
        "# plt.show()"
      ],
      "execution_count": 0,
      "outputs": []
    },
    {
      "cell_type": "code",
      "metadata": {
        "id": "PURXl0rGucX6",
        "colab_type": "code",
        "outputId": "0bfb8c43-a2cd-4aff-cdb3-34255047fd94",
        "colab": {
          "base_uri": "https://localhost:8080/",
          "height": 346
        }
      },
      "source": [
        "# Run on Google's Provided TPU Hardware\n",
        "\n",
        "# Image numbers to hash and result list\n",
        "image_counts = [5, 10, 20, 40]\n",
        "results = []\n",
        "\n",
        "# Loop through the different numbers of hashes and store the %timeit results\n",
        "for i in image_counts:\n",
        "    result = %timeit -o rand_hashes = benchmarking_basic(i)\n",
        "    results.append(result)\n",
        "\n",
        "# Extract the mean run times from the %timeit object\n",
        "mean_times_TPU = []\n",
        "for i in range(0, len(results)):\n",
        "    mean_times_TPU.append(np.mean(results[i].all_runs))\n",
        "\n",
        "# plt.plot(mean_times)"
      ],
      "execution_count": 0,
      "outputs": [
        {
          "output_type": "stream",
          "text": [
            "1 loop, best of 3: 5.42 s per loop\n",
            "1 loop, best of 3: 10.6 s per loop\n",
            "1 loop, best of 3: 20.6 s per loop\n",
            "1 loop, best of 3: 41.7 s per loop\n"
          ],
          "name": "stdout"
        },
        {
          "output_type": "execute_result",
          "data": {
            "text/plain": [
              "[<matplotlib.lines.Line2D at 0x7f38d0c53cc0>]"
            ]
          },
          "metadata": {
            "tags": []
          },
          "execution_count": 13
        },
        {
          "output_type": "display_data",
          "data": {
            "image/png": "[encoded data removed]",
            "text/plain": [
              "<Figure size 432x288 with 1 Axes>"
            ]
          },
          "metadata": {
            "tags": []
          }
        }
      ]
    },
    {
      "cell_type": "code",
      "metadata": {
        "id": "Z31vfBgVwAsr",
        "colab_type": "code",
        "outputId": "119644de-ec34-44b0-d355-434e6e74a529",
        "colab": {
          "base_uri": "https://localhost:8080/",
          "height": 82
        }
      },
      "source": [
        "# Run on Google's Provided GPU Hardware\n",
        "\n",
        "# Image numbers to hash and result list\n",
        "image_counts = [5, 10, 20, 40]\n",
        "results = []\n",
        "\n",
        "# Loop through the different numbers of hashes and store the %timeit results\n",
        "for i in image_counts:\n",
        "    result = %timeit -o rand_hashes = benchmarking_basic(i)\n",
        "    results.append(result)\n",
        "\n",
        "# Extract the mean run times from the %timeit object\n",
        "mean_times_GPU = []\n",
        "for i in range(0, len(results)):\n",
        "    mean_times_GPU.append(np.mean(results[i].all_runs))\n",
        "\n",
        "# plt.plot(mean_times)"
      ],
      "execution_count": 16,
      "outputs": [
        {
          "output_type": "stream",
          "text": [
            "1 loop, best of 3: 3.62 s per loop\n",
            "1 loop, best of 3: 7.04 s per loop\n",
            "1 loop, best of 3: 14 s per loop\n",
            "1 loop, best of 3: 27.5 s per loop\n"
          ],
          "name": "stdout"
        }
      ]
    },
    {
      "cell_type": "code",
      "metadata": {
        "id": "2K7touyb00sV",
        "colab_type": "code",
        "outputId": "ff3f5dec-7bb8-47c4-acd1-dacc377e979f",
        "colab": {
          "base_uri": "https://localhost:8080/",
          "height": 33
        }
      },
      "source": [
        "%prun test_output = benchmarking_basic(1)"
      ],
      "execution_count": 0,
      "outputs": [
        {
          "output_type": "stream",
          "text": [
            " "
          ],
          "name": "stdout"
        }
      ]
    },
    {
      "cell_type": "markdown",
      "metadata": {
        "id": "3WcH0Vc7lgJC",
        "colab_type": "text"
      },
      "source": [
        "Fastest Run of Code - Numba Optimisation on Google's GPUs"
      ]
    },
    {
      "cell_type": "code",
      "metadata": {
        "id": "kYLayNlHbt6s",
        "colab_type": "code",
        "colab": {}
      },
      "source": [
        "find_1 = FINDHasher_1()"
      ],
      "execution_count": 0,
      "outputs": []
    },
    {
      "cell_type": "code",
      "metadata": {
        "id": "IQ8giRrxaoUv",
        "colab_type": "code",
        "colab": {
          "base_uri": "https://localhost:8080/",
          "height": 33
        },
        "outputId": "6bca0630-6fc9-447a-fc45-822437e0eea5"
      },
      "source": [
        "# RUn on the default GPU hardware - 20 images, numba optimised code, around 0.22 seconds per image\n",
        "\n",
        "%%timeit\n",
        "\n",
        "hash_list = []\n",
        "\n",
        "for i in range(len(imgs_in_mem_list)):\n",
        "  temphash = find_1.fromImage(imgs_in_mem_list[i])\n",
        "  hash_list.append(temphash)\n",
        "  temphash = []"
      ],
      "execution_count": 15,
      "outputs": [
        {
          "output_type": "stream",
          "text": [
            "1 loop, best of 3: 4.4 s per loop\n"
          ],
          "name": "stdout"
        }
      ]
    },
    {
      "cell_type": "markdown",
      "metadata": {
        "id": "tgQlcNG_htXI",
        "colab_type": "text"
      },
      "source": [
        "Multiprocess on Google CPUs - Note we only have 1 GPU, so cannot multiprocess there"
      ]
    },
    {
      "cell_type": "code",
      "metadata": {
        "id": "JPc6KNp0ctjY",
        "colab_type": "code",
        "colab": {
          "base_uri": "https://localhost:8080/",
          "height": 33
        },
        "outputId": "3e6254d4-1a8e-42fc-be40-56ea9c49a2a7"
      },
      "source": [
        "# Google CPU multiprocessing comparison - run on the Google CPU (only 1 process)\n",
        "\n",
        "# This was run on Google Colab\n",
        "\n",
        "%%timeit \n",
        "\n",
        "\n",
        "test = benchmarking_basic_1(40)"
      ],
      "execution_count": 11,
      "outputs": [
        {
          "output_type": "stream",
          "text": [
            "1 loop, best of 3: 22.1 s per loop\n"
          ],
          "name": "stdout"
        }
      ]
    },
    {
      "cell_type": "code",
      "metadata": {
        "id": "3MGFLEHifmxc",
        "colab_type": "code",
        "colab": {
          "base_uri": "https://localhost:8080/",
          "height": 33
        },
        "outputId": "8b5da0d6-895e-47b5-f54b-0bf737a5dad2"
      },
      "source": [
        "# Multiprocessing on the Google CPU\n",
        "\n",
        "# This was run on Google Colab\n",
        "\n",
        "%%timeit\n",
        "\n",
        "# split jobs\n",
        "map_list = [20, 20]\n",
        "\n",
        "with multiprocessing.Pool(2) as pool:\n",
        "        test = pool.map(benchmarking_basic_1, map_list)"
      ],
      "execution_count": 10,
      "outputs": [
        {
          "output_type": "stream",
          "text": [
            "1 loop, best of 3: 12.5 s per loop\n"
          ],
          "name": "stdout"
        }
      ]
    },
    {
      "cell_type": "code",
      "metadata": {
        "id": "hEV0xNf4n5ag",
        "colab_type": "code",
        "colab": {}
      },
      "source": [
        ""
      ],
      "execution_count": 0,
      "outputs": []
    },
    {
      "cell_type": "code",
      "metadata": {
        "id": "SIoI6lZBhNxq",
        "colab_type": "code",
        "colab": {}
      },
      "source": [
        ""
      ],
      "execution_count": 0,
      "outputs": []
    }
  ]
}