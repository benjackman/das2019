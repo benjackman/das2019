{
 "cells": [
  {
   "cell_type": "code",
   "execution_count": 1,
   "metadata": {},
   "outputs": [
    {
     "name": "stdout",
     "output_type": "stream",
     "text": [
      "Populating the interactive namespace from numpy and matplotlib\n"
     ]
    }
   ],
   "source": [
    "%pylab inline"
   ]
  },
  {
   "cell_type": "code",
   "execution_count": 7,
   "metadata": {},
   "outputs": [],
   "source": [
    "%load_ext memory_profiler"
   ]
  },
  {
   "cell_type": "code",
   "execution_count": 1,
   "metadata": {},
   "outputs": [],
   "source": [
    "from FINd import FINDHasher\n",
    "from FINd import benchmarking_basic\n",
    "from FINd import read_images_from_file\n",
    "import imagehash\n",
    "from PIL import Image"
   ]
  },
  {
   "cell_type": "code",
   "execution_count": 2,
   "metadata": {},
   "outputs": [],
   "source": [
    "import time\n",
    "import os\n",
    "from random import sample\n",
    "import numpy as np\n",
    "\n",
    "import matplotlib.pyplot as plt\n",
    "\n",
    "import itertools"
   ]
  },
  {
   "cell_type": "code",
   "execution_count": 3,
   "metadata": {},
   "outputs": [],
   "source": [
    "path = 'C:/Users/benja/Desktop/Oxford/Summatives/das2019/das_images/das_images'\n",
    "\n",
    "# This might work if I have issues in future?\n",
    "%run FINd.py\n",
    "from FINd import benchmarking_basic"
   ]
  },
  {
   "cell_type": "code",
   "execution_count": 4,
   "metadata": {},
   "outputs": [
    {
     "data": {
      "text/plain": [
       "['0020_23668691.jpg',\n",
       " '0086_20178976.jpg',\n",
       " '0189_10325064.jpg',\n",
       " '0716_33962768.jpg',\n",
       " '0939_26906529.jpg']"
      ]
     },
     "execution_count": 4,
     "metadata": {},
     "output_type": "execute_result"
    }
   ],
   "source": [
    "read_images_from_file(5, path)"
   ]
  },
  {
   "cell_type": "code",
   "execution_count": 5,
   "metadata": {},
   "outputs": [],
   "source": [
    "test = benchmarking_basic(5)"
   ]
  },
  {
   "cell_type": "code",
   "execution_count": null,
   "metadata": {},
   "outputs": [],
   "source": [
    "timing_results = []"
   ]
  },
  {
   "cell_type": "code",
   "execution_count": 13,
   "metadata": {},
   "outputs": [
    {
     "name": "stdout",
     "output_type": "stream",
     "text": [
      "1.67 s ± 167 ms per loop (mean ± std. dev. of 7 runs, 1 loop each)\n",
      "2.9 s ± 214 ms per loop (mean ± std. dev. of 7 runs, 1 loop each)\n",
      "5.51 s ± 654 ms per loop (mean ± std. dev. of 7 runs, 1 loop each)\n"
     ]
    },
    {
     "data": {
      "text/plain": [
       "[<TimeitResult : 1.67 s ± 167 ms per loop (mean ± std. dev. of 7 runs, 1 loop each)>,\n",
       " <TimeitResult : 2.9 s ± 214 ms per loop (mean ± std. dev. of 7 runs, 1 loop each)>,\n",
       " <TimeitResult : 5.51 s ± 654 ms per loop (mean ± std. dev. of 7 runs, 1 loop each)>]"
      ]
     },
     "execution_count": 13,
     "metadata": {},
     "output_type": "execute_result"
    }
   ],
   "source": [
    "# %%timeit -o\n",
    "results = []\n",
    "list_hash = [2,4,6]\n",
    "for i in list_hash:\n",
    "    result = %timeit -o rand_hashes = benchmarking_basic(i)\n",
    "    results.append(result)\n",
    "\n",
    "results"
   ]
  },
  {
   "cell_type": "code",
   "execution_count": 30,
   "metadata": {},
   "outputs": [
    {
     "data": {
      "text/plain": [
       "[1.6685338428571543, 2.9048667999999713, 5.506070414285692]"
      ]
     },
     "execution_count": 30,
     "metadata": {},
     "output_type": "execute_result"
    }
   ],
   "source": [
    "mean_times = []\n",
    "for i in range(0, len(results)):\n",
    "    mean_times.append(np.mean(results[i].all_runs))\n",
    "\n",
    "mean_times"
   ]
  },
  {
   "cell_type": "code",
   "execution_count": 31,
   "metadata": {},
   "outputs": [
    {
     "data": {
      "text/plain": [
       "[<matplotlib.lines.Line2D at 0x26981b1ccf8>]"
      ]
     },
     "execution_count": 31,
     "metadata": {},
     "output_type": "execute_result"
    },
    {
     "data": {
      "image/png": "[encoded data removed]",
      "text/plain": [
       "<Figure size 432x288 with 1 Axes>"
      ]
     },
     "metadata": {
      "needs_background": "light"
     },
     "output_type": "display_data"
    }
   ],
   "source": [
    "plt.plot(mean_times)"
   ]
  },
  {
   "cell_type": "code",
   "execution_count": 28,
   "metadata": {},
   "outputs": [
    {
     "data": {
      "text/plain": [
       "0.763237628571395"
      ]
     },
     "execution_count": 28,
     "metadata": {},
     "output_type": "execute_result"
    }
   ],
   "source": [
    "np.mean(result.all_runs)"
   ]
  },
  {
   "cell_type": "code",
   "execution_count": 15,
   "metadata": {},
   "outputs": [],
   "source": [
    "findHasher=FINDHasher()"
   ]
  },
  {
   "cell_type": "code",
   "execution_count": 9,
   "metadata": {},
   "outputs": [
    {
     "ename": "NameError",
     "evalue": "name 'TimeitResult' is not defined",
     "output_type": "error",
     "traceback": [
      "\u001b[1;31m---------------------------------------------------------------------------\u001b[0m",
      "\u001b[1;31mNameError\u001b[0m                                 Traceback (most recent call last)",
      "\u001b[1;32m<ipython-input-9-6a83cc5f0f6c>\u001b[0m in \u001b[0;36m<module>\u001b[1;34m\u001b[0m\n\u001b[1;32m----> 1\u001b[1;33m \u001b[0mTimeitResult\u001b[0m\u001b[1;33m\u001b[0m\u001b[1;33m\u001b[0m\u001b[0m\n\u001b[0m",
      "\u001b[1;31mNameError\u001b[0m: name 'TimeitResult' is not defined"
     ]
    }
   ],
   "source": [
    "TimeitResult"
   ]
  },
  {
   "cell_type": "code",
   "execution_count": 5,
   "metadata": {},
   "outputs": [],
   "source": [
    "ex1=findHasher.fromFile(\"das_images/das_images/0040_10318987.jpg\")\n",
    "ex2=findHasher.fromFile(\"das_images/das_images/0040_10321701.jpg\")\n",
    "\n",
    "ex3=findHasher.fromFile(\"das_images/das_images/0120_27768345.jpg\")\n",
    "\n",
    "img=Image.open(\"das_images/das_images/0120_28335973.jpg\")\n",
    "ex4=findHasher.fromImage(img)"
   ]
  },
  {
   "cell_type": "code",
   "execution_count": 6,
   "metadata": {},
   "outputs": [
    {
     "data": {
      "text/plain": [
       "array([1, 0, 0, 1, 1, 1, 0, 0, 1, 1, 1, 0, 0, 1, 0, 0, 1, 1, 1, 0, 0, 1,\n",
       "       1, 0, 0, 0, 1, 0, 0, 1, 0, 1, 0, 1, 0, 1, 1, 0, 0, 0, 1, 1, 0, 1,\n",
       "       0, 0, 1, 0, 1, 1, 1, 0, 0, 0, 1, 1, 0, 0, 1, 1, 1, 1, 0, 0, 0, 0,\n",
       "       1, 1, 1, 1, 0, 0, 0, 1, 0, 0, 0, 0, 1, 0, 1, 1, 0, 0, 1, 1, 0, 0,\n",
       "       0, 0, 1, 1, 1, 0, 0, 1, 0, 1, 1, 0, 0, 0, 1, 1, 1, 0, 1, 0, 0, 1,\n",
       "       0, 0, 0, 0, 1, 0, 1, 0, 1, 1, 0, 1, 0, 1, 1, 1, 1, 0, 1, 1, 1, 0,\n",
       "       0, 1, 0, 1, 1, 1, 0, 1, 0, 0, 1, 0, 0, 1, 0, 1, 0, 0, 0, 1, 0, 0,\n",
       "       1, 0, 1, 1, 0, 1, 0, 0, 1, 1, 1, 0, 1, 0, 1, 0, 1, 0, 1, 1, 0, 1,\n",
       "       0, 0, 1, 0, 0, 1, 1, 0, 0, 1, 1, 1, 0, 1, 1, 0, 0, 0, 0, 1, 0, 1,\n",
       "       1, 1, 0, 0, 0, 1, 1, 1, 1, 0, 1, 1, 1, 1, 1, 1, 0, 1, 1, 1, 0, 0,\n",
       "       1, 1, 0, 0, 0, 0, 0, 0, 0, 0, 1, 0, 1, 1, 1, 1, 0, 1, 1, 1, 1, 1,\n",
       "       0, 1, 1, 0, 0, 0, 0, 0, 1, 0, 0, 0, 0, 1])"
      ]
     },
     "execution_count": 6,
     "metadata": {},
     "output_type": "execute_result"
    }
   ],
   "source": [
    "ex1.hash"
   ]
  },
  {
   "cell_type": "code",
   "execution_count": 7,
   "metadata": {},
   "outputs": [
    {
     "name": "stdout",
     "output_type": "stream",
     "text": [
      "9ce4e62558d2e33c3c42cc3963a42b5ee5d2512d3aad2676171efdcc02f7d821\n"
     ]
    }
   ],
   "source": [
    "print(ex1)"
   ]
  },
  {
   "cell_type": "code",
   "execution_count": 8,
   "metadata": {},
   "outputs": [
    {
     "name": "stdout",
     "output_type": "stream",
     "text": [
      "8deec46d6bbe897c64668aa965a1a35ec752d5813aac3653970e7f8400c7f521\n"
     ]
    }
   ],
   "source": [
    "print(ex2)"
   ]
  },
  {
   "cell_type": "code",
   "execution_count": 9,
   "metadata": {},
   "outputs": [
    {
     "data": {
      "text/plain": [
       "64"
      ]
     },
     "execution_count": 9,
     "metadata": {},
     "output_type": "execute_result"
    }
   ],
   "source": [
    "ex1-ex2"
   ]
  },
  {
   "cell_type": "code",
   "execution_count": 10,
   "metadata": {},
   "outputs": [
    {
     "data": {
      "text/plain": [
       "48"
      ]
     },
     "execution_count": 10,
     "metadata": {},
     "output_type": "execute_result"
    }
   ],
   "source": [
    "ex3-ex4"
   ]
  },
  {
   "cell_type": "code",
   "execution_count": 11,
   "metadata": {},
   "outputs": [
    {
     "data": {
      "text/plain": [
       "132"
      ]
     },
     "execution_count": 11,
     "metadata": {},
     "output_type": "execute_result"
    }
   ],
   "source": [
    "ex1-ex3"
   ]
  },
  {
   "cell_type": "code",
   "execution_count": 10,
   "metadata": {},
   "outputs": [
    {
     "name": "stdout",
     "output_type": "stream",
     "text": [
      "619 ms ± 93.8 ms per loop (mean ± std. dev. of 7 runs, 1 loop each)\n"
     ]
    }
   ],
   "source": [
    "%timeit findHasher.fromFile(\"das_images/das_images/0120_27768345.jpg\")"
   ]
  },
  {
   "cell_type": "code",
   "execution_count": 11,
   "metadata": {
    "collapsed": true,
    "jupyter": {
     "outputs_hidden": true
    }
   },
   "outputs": [
    {
     "name": "stdout",
     "output_type": "stream",
     "text": [
      " "
     ]
    },
    {
     "data": {
      "text/plain": [
       "         500248 function calls in 0.735 seconds\n",
       "\n",
       "   Ordered by: internal time\n",
       "\n",
       "   ncalls  tottime  percall  cumtime  percall filename:lineno(function)\n",
       "        1    0.501    0.501    0.548    0.548 FINd.py:167(boxFilter)\n",
       "        1    0.065    0.065    0.170    0.170 FINd.py:66(fillFloatLumaFromBufferImage)\n",
       "    62500    0.040    0.000    0.104    0.000 Image.py:1360(getpixel)\n",
       "    62504    0.037    0.000    0.050    0.000 Image.py:838(load)\n",
       "   125000    0.024    0.000    0.024    0.000 {built-in method builtins.max}\n",
       "   125000    0.023    0.000    0.023    0.000 {built-in method builtins.min}\n",
       "    62500    0.015    0.000    0.015    0.000 {method 'getpixel' of 'ImagingCore' objects}\n",
       "    62503    0.013    0.000    0.013    0.000 {method 'pixel_access' of 'ImagingCore' objects}\n",
       "        1    0.010    0.010    0.010    0.010 FINd.py:110(dct64To16)\n",
       "        1    0.002    0.002    0.002    0.002 FINd.py:100(decimateFloat)\n",
       "        1    0.002    0.002    0.735    0.735 FINd.py:39(fromFile)\n",
       "        1    0.001    0.001    0.001    0.001 {method 'decode' of 'ImagingDecoder' objects}\n",
       "        2    0.001    0.001    0.001    0.001 matrix.py:12(allocateMatrixAsRowMajorArray)\n",
       "        2    0.001    0.000    0.001    0.000 {method 'copy' of 'ImagingCore' objects}\n",
       "        1    0.000    0.000    0.000    0.000 matrix.py:16(torben)\n",
       "        1    0.000    0.000    0.000    0.000 {built-in method io.open}\n",
       "       40    0.000    0.000    0.000    0.000 {method 'read' of '_io.BufferedReader' objects}\n",
       "        1    0.000    0.000    0.000    0.000 FINd.py:146(dctOutput2hash)\n",
       "        3    0.000    0.000    0.000    0.000 matrix.py:5(allocateMatrix)\n",
       "        1    0.000    0.000    0.735    0.735 {built-in method builtins.exec}\n",
       "        1    0.000    0.000    0.002    0.002 ImageFile.py:142(load)\n",
       "        1    0.000    0.000    0.000    0.000 {built-in method PIL._imaging.new}\n",
       "        1    0.000    0.000    0.000    0.000 {method 'close' of '_io.BufferedReader' objects}\n",
       "        1    0.000    0.000    0.000    0.000 JpegImagePlugin.py:343(_open)\n",
       "        1    0.000    0.000    0.000    0.000 {built-in method numpy.zeros}\n",
       "        1    0.000    0.000    0.732    0.732 FINd.py:47(fromImage)\n",
       "        1    0.000    0.000    0.001    0.001 Image.py:2735(open)\n",
       "        1    0.000    0.000    0.000    0.000 Image.py:2781(_open_core)\n",
       "        3    0.000    0.000    0.000    0.000 Image.py:547(__init__)\n",
       "        2    0.000    0.000    0.002    0.001 Image.py:1133(copy)\n",
       "        2    0.000    0.000    0.000    0.000 JpegImagePlugin.py:237(DQT)\n",
       "        1    0.000    0.000    0.000    0.000 JpegImagePlugin.py:61(APP)\n",
       "        2    0.000    0.000    0.000    0.000 Image.py:572(_new)\n",
       "        1    0.000    0.000    0.000    0.000 JpegImagePlugin.py:189(SOF)\n",
       "        1    0.000    0.000    0.735    0.735 <string>:1(<module>)\n",
       "        1    0.000    0.000    0.559    0.559 FINd.py:79(findHash256FromFloatLuma)\n",
       "       25    0.000    0.000    0.000    0.000 {built-in method _struct.unpack_from}\n",
       "        3    0.000    0.000    0.000    0.000 {method 'seek' of '_io.BufferedReader' objects}\n",
       "       24    0.000    0.000    0.000    0.000 _binary.py:77(i16be)\n",
       "        1    0.000    0.000    0.000    0.000 Image.py:440(_getdecoder)\n",
       "        1    0.000    0.000    0.000    0.000 ImageFile.py:276(load_prepare)\n",
       "       25    0.000    0.000    0.000    0.000 _binary.py:20(i8)\n",
       "        1    0.000    0.000    0.000    0.000 JpegImagePlugin.py:788(jpeg_factory)\n",
       "        1    0.000    0.000    0.000    0.000 ImageFile.py:80(__init__)\n",
       "        5    0.000    0.000    0.000    0.000 JpegImagePlugin.py:56(Skip)\n",
       "        9    0.000    0.000    0.000    0.000 ImageFile.py:538(_safe_read)\n",
       "        1    0.000    0.000    0.000    0.000 _binary.py:57(i32le)\n",
       "        3    0.000    0.000    0.000    0.000 Image.py:591(__exit__)\n",
       "        3    0.000    0.000    0.000    0.000 Image.py:629(__del__)\n",
       "        5    0.000    0.000    0.000    0.000 {built-in method builtins.hasattr}\n",
       "        2    0.000    0.000    0.000    0.000 FINd.py:159(computeBoxFilterWindowSize)\n",
       "        1    0.000    0.000    0.000    0.000 Image.py:888(convert)\n",
       "        1    0.000    0.000    0.000    0.000 {built-in method PIL._imaging.jpeg_decoder}\n",
       "        1    0.000    0.000    0.000    0.000 Image.py:2180(thumbnail)\n",
       "        1    0.000    0.000    0.000    0.000 JpegImagePlugin.py:493(_getmp)\n",
       "       10    0.000    0.000    0.000    0.000 Image.py:568(size)\n",
       "        2    0.000    0.000    0.000    0.000 _util.py:15(isPath)\n",
       "        1    0.000    0.000    0.000    0.000 BmpImagePlugin.py:53(_dib_accept)\n",
       "        1    0.000    0.000    0.000    0.000 {method 'setimage' of 'ImagingDecoder' objects}\n",
       "        4    0.000    0.000    0.000    0.000 {built-in method builtins.isinstance}\n",
       "        2    0.000    0.000    0.000    0.000 {built-in method builtins.getattr}\n",
       "        1    0.000    0.000    0.000    0.000 BmpImagePlugin.py:49(_accept)\n",
       "        1    0.000    0.000    0.000    0.000 {method 'sort' of 'list' objects}\n",
       "        1    0.000    0.000    0.000    0.000 {method 'reshape' of 'numpy.ndarray' objects}\n",
       "        2    0.000    0.000    0.000    0.000 {method 'copy' of 'dict' objects}\n",
       "        1    0.000    0.000    0.000    0.000 Image.py:2715(_decompression_bomb_check)\n",
       "        1    0.000    0.000    0.000    0.000 JpegImagePlugin.py:393(load_read)\n",
       "        1    0.000    0.000    0.000    0.000 JpegImagePlugin.py:330(_accept)\n",
       "        1    0.000    0.000    0.000    0.000 TiffImagePlugin.py:272(_accept)\n",
       "        1    0.000    0.000    0.000    0.000 JpegImagePlugin.py:476(_getmp)\n",
       "        1    0.000    0.000    0.000    0.000 GifImagePlugin.py:41(_accept)\n",
       "        1    0.000    0.000    0.000    0.000 Image.py:368(preinit)\n",
       "        1    0.000    0.000    0.000    0.000 __init__.py:58(__init__)\n",
       "        1    0.000    0.000    0.000    0.000 {built-in method builtins.divmod}\n",
       "        8    0.000    0.000    0.000    0.000 {built-in method builtins.len}\n",
       "        1    0.000    0.000    0.000    0.000 ImageFile.py:67(_tilesort)\n",
       "        1    0.000    0.000    0.000    0.000 {method 'cleanup' of 'ImagingDecoder' objects}\n",
       "        4    0.000    0.000    0.000    0.000 {method 'append' of 'list' objects}\n",
       "        1    0.000    0.000    0.000    0.000 ImageFile.py:284(load_end)\n",
       "        1    0.000    0.000    0.000    0.000 {method 'disable' of '_lsprof.Profiler' objects}"
      ]
     },
     "metadata": {},
     "output_type": "display_data"
    }
   ],
   "source": [
    "%prun findHasher.fromFile(\"das_images/das_images/0120_27768345.jpg\")"
   ]
  },
  {
   "cell_type": "code",
   "execution_count": 11,
   "metadata": {},
   "outputs": [],
   "source": [
    "# I want to randomly sample from the list of images to do some bigger scale time testing of the findHasher algorithm\n",
    "# This code reads in a list of all the image filenames in the images folder\n",
    "\n",
    "img_filename_list = []\n",
    "for root, dirs, files in os.walk(r'C:/Users/benja/Desktop/Oxford/Summatives/das2019/das_images/das_images'):\n",
    "    for file in files:\n",
    "        if file.endswith('.jpg'):\n",
    "            img_filename_list.append(file)"
   ]
  },
  {
   "cell_type": "code",
   "execution_count": 12,
   "metadata": {},
   "outputs": [
    {
     "data": {
      "text/plain": [
       "'0000_12268686.jpg'"
      ]
     },
     "execution_count": 12,
     "metadata": {},
     "output_type": "execute_result"
    }
   ],
   "source": [
    "img_filename_list[0]"
   ]
  },
  {
   "cell_type": "code",
   "execution_count": 15,
   "metadata": {},
   "outputs": [],
   "source": [
    "# generate all the unique meme image groups\n",
    "# The image group is specified by the first four digits of the file name\n",
    "\n",
    "\n",
    "list_image_prefixes = []\n",
    "\n",
    "for i in range(0, len(img_filename_list)):\n",
    "    temp_prefix = img_filename_list[i][0:4]\n",
    "    list_image_prefixes.append(temp_prefix)\n",
    "\n",
    "unique_image_groups = set(list_image_prefixes)"
   ]
  },
  {
   "cell_type": "code",
   "execution_count": 16,
   "metadata": {},
   "outputs": [],
   "source": [
    "meme_lord_dict = {}\n",
    "for file_name in img_filename_list:\n",
    "    if file_name[0:4] in meme_lord_dict:\n",
    "        meme_lord_dict[file_name[0:4]].append(file_name)\n",
    "    else:\n",
    "        meme_lord_dict[file_name[0:4]]=[file_name]"
   ]
  },
  {
   "cell_type": "code",
   "execution_count": 17,
   "metadata": {},
   "outputs": [
    {
     "data": {
      "text/plain": [
       "dict_keys"
      ]
     },
     "execution_count": 17,
     "metadata": {},
     "output_type": "execute_result"
    }
   ],
   "source": [
    "type(meme_lord_dict.keys())"
   ]
  },
  {
   "cell_type": "code",
   "execution_count": 18,
   "metadata": {},
   "outputs": [],
   "source": [
    "# Make sure to include: from random import sample\n",
    "\n",
    "# Change the last number to choose a number of meme families\n",
    "sample_meme_types = sample(meme_lord_dict.keys(), 10)\n",
    "\n",
    "hash_output_dict = {}\n",
    "\n",
    "# Loop over the chosen meme families\n",
    "for i in range(0, len(sample_meme_types)):\n",
    "    \n",
    "    # Change the last number to change the number of images selected within each meme family\n",
    "    img_to_hash = sample(meme_lord_dict[sample_meme_types[i]], 10)\n",
    "    \n",
    "    # Loop over the images in each meme family\n",
    "    for j in range(0, len(img_to_hash)):\n",
    "        img_string_input = 'das_images/das_images/{}'.format(img_to_hash[j])\n",
    "        hash_temp = findHasher.fromFile(img_string_input)\n",
    "        \n",
    "        if img_to_hash[j][0:4] in hash_output_dict:\n",
    "            \n",
    "            # If the dictionary already has a key for that image family, just append the hash output\n",
    "            hash_output_dict[img_to_hash[j][0:4]].append(hash_temp)\n",
    "        else:\n",
    "            # If there is no key for that meme family yet, add it and put the hash_temp in\n",
    "            hash_output_dict[img_to_hash[j][0:4]]=[hash_temp]"
   ]
  },
  {
   "cell_type": "code",
   "execution_count": 26,
   "metadata": {},
   "outputs": [],
   "source": [
    "import itertools\n",
    "\n",
    "# Collect all unique-pair intra-meme-family distances\n",
    "\n",
    "# grab the list of meme family keys we \n",
    "keys_list = list(hash_output_dict.keys())\n",
    "\n",
    "hash_dist_temp = []\n",
    "distances_dict = {}\n",
    "\n",
    "for i in range(0, len(keys_list)):\n",
    "    \n",
    "    # Compute all unique distance combinations\n",
    "    for a, b in itertools.combinations(hash_output_dict[keys_list[i]], 2):\n",
    "        temp_dist = a - b\n",
    "        hash_dist_temp.append(temp_dist)\n",
    "    \n",
    "    # pop the hash distance list into the dictionary with the meme family key\n",
    "    distances_dict[keys_list[i]] = [hash_dist_temp]\n",
    "    \n",
    "    # clear hash_dist_temp for next iteration\n",
    "    hash_dist_temp = []"
   ]
  },
  {
   "cell_type": "code",
   "execution_count": null,
   "metadata": {},
   "outputs": [],
   "source": []
  },
  {
   "cell_type": "code",
   "execution_count": 23,
   "metadata": {},
   "outputs": [
    {
     "data": {
      "text/plain": [
       "['0682',\n",
       " '0828',\n",
       " '0483',\n",
       " '0509',\n",
       " '0274',\n",
       " '0462',\n",
       " '0526',\n",
       " '0765',\n",
       " '0060',\n",
       " '0689']"
      ]
     },
     "execution_count": 23,
     "metadata": {},
     "output_type": "execute_result"
    }
   ],
   "source": [
    "keys_list"
   ]
  },
  {
   "cell_type": "code",
   "execution_count": 24,
   "metadata": {},
   "outputs": [
    {
     "data": {
      "text/plain": [
       "122"
      ]
     },
     "execution_count": 24,
     "metadata": {},
     "output_type": "execute_result"
    }
   ],
   "source": [
    "# hash_output_dict\n",
    "\n",
    "hash_output_dict['0682'][0] - hash_output_dict['0828'][0]"
   ]
  },
  {
   "cell_type": "code",
   "execution_count": 144,
   "metadata": {
    "collapsed": true,
    "jupyter": {
     "outputs_hidden": true
    }
   },
   "outputs": [
    {
     "data": {
      "image/png": "[encoded data removed]",
      "text/plain": [
       "<Figure size 432x288 with 1 Axes>"
      ]
     },
     "metadata": {
      "needs_background": "light"
     },
     "output_type": "display_data"
    },
    {
     "data": {
      "image/png": "[encoded data removed]",
      "text/plain": [
       "<Figure size 432x288 with 1 Axes>"
      ]
     },
     "metadata": {
      "needs_background": "light"
     },
     "output_type": "display_data"
    },
    {
     "data": {
      "image/png": "[encoded data removed]",
      "text/plain": [
       "<Figure size 432x288 with 1 Axes>"
      ]
     },
     "metadata": {
      "needs_background": "light"
     },
     "output_type": "display_data"
    },
    {
     "data": {
      "image/png": "[encoded data removed]",
      "text/plain": [
       "<Figure size 432x288 with 1 Axes>"
      ]
     },
     "metadata": {
      "needs_background": "light"
     },
     "output_type": "display_data"
    },
    {
     "data": {
      "image/png": "[encoded data removed]",
      "text/plain": [
       "<Figure size 432x288 with 1 Axes>"
      ]
     },
     "metadata": {
      "needs_background": "light"
     },
     "output_type": "display_data"
    },
    {
     "data": {
      "image/png": "[encoded data removed]",
      "text/plain": [
       "<Figure size 432x288 with 1 Axes>"
      ]
     },
     "metadata": {
      "needs_background": "light"
     },
     "output_type": "display_data"
    },
    {
     "data": {
      "image/png": "[encoded data removed]",
      "text/plain": [
       "<Figure size 432x288 with 1 Axes>"
      ]
     },
     "metadata": {
      "needs_background": "light"
     },
     "output_type": "display_data"
    },
    {
     "data": {
      "image/png": "[encoded data removed]",
      "text/plain": [
       "<Figure size 432x288 with 1 Axes>"
      ]
     },
     "metadata": {
      "needs_background": "light"
     },
     "output_type": "display_data"
    },
    {
     "data": {
      "image/png": "[encoded data removed]",
      "text/plain": [
       "<Figure size 432x288 with 1 Axes>"
      ]
     },
     "metadata": {
      "needs_background": "light"
     },
     "output_type": "display_data"
    },
    {
     "data": {
      "image/png": "[encoded data removed]",
      "text/plain": [
       "<Figure size 432x288 with 1 Axes>"
      ]
     },
     "metadata": {
      "needs_background": "light"
     },
     "output_type": "display_data"
    }
   ],
   "source": [
    "# Graphs a histogram of the distances between images within meme family. Graphs as many historgrams as meme families you selected above. \n",
    "\n",
    "# Make sure you run %pylab inline\n",
    "# And make sure you import matplotlib.pyplot as plt\n",
    "\n",
    "for i in range(0, len(keys_list)):\n",
    "    plt.figure()\n",
    "    plt.hist(distances_dict[keys_list[i]][0], bins = 20)\n",
    "\n",
    "plt.show()"
   ]
  },
  {
   "cell_type": "code",
   "execution_count": 145,
   "metadata": {
    "collapsed": true,
    "jupyter": {
     "outputs_hidden": true
    }
   },
   "outputs": [
    {
     "data": {
      "text/plain": [
       "{'0256': [[66,\n",
       "   52,\n",
       "   48,\n",
       "   42,\n",
       "   50,\n",
       "   54,\n",
       "   44,\n",
       "   58,\n",
       "   50,\n",
       "   68,\n",
       "   80,\n",
       "   84,\n",
       "   70,\n",
       "   70,\n",
       "   64,\n",
       "   72,\n",
       "   62,\n",
       "   60,\n",
       "   62,\n",
       "   60,\n",
       "   30,\n",
       "   66,\n",
       "   62,\n",
       "   58,\n",
       "   50,\n",
       "   46,\n",
       "   58,\n",
       "   56,\n",
       "   64,\n",
       "   54,\n",
       "   48,\n",
       "   62,\n",
       "   64,\n",
       "   56,\n",
       "   58,\n",
       "   50,\n",
       "   44,\n",
       "   48,\n",
       "   34,\n",
       "   62,\n",
       "   62,\n",
       "   54,\n",
       "   54,\n",
       "   46,\n",
       "   60]],\n",
       " '0650': [[70,\n",
       "   60,\n",
       "   60,\n",
       "   72,\n",
       "   78,\n",
       "   54,\n",
       "   64,\n",
       "   22,\n",
       "   66,\n",
       "   48,\n",
       "   36,\n",
       "   56,\n",
       "   56,\n",
       "   72,\n",
       "   46,\n",
       "   72,\n",
       "   38,\n",
       "   42,\n",
       "   44,\n",
       "   50,\n",
       "   88,\n",
       "   58,\n",
       "   56,\n",
       "   50,\n",
       "   48,\n",
       "   52,\n",
       "   78,\n",
       "   52,\n",
       "   64,\n",
       "   46,\n",
       "   56,\n",
       "   80,\n",
       "   46,\n",
       "   76,\n",
       "   58,\n",
       "   90,\n",
       "   48,\n",
       "   80,\n",
       "   56,\n",
       "   76,\n",
       "   62,\n",
       "   76,\n",
       "   68,\n",
       "   54,\n",
       "   68]],\n",
       " '0195': [[64,\n",
       "   64,\n",
       "   70,\n",
       "   56,\n",
       "   54,\n",
       "   62,\n",
       "   58,\n",
       "   62,\n",
       "   66,\n",
       "   48,\n",
       "   52,\n",
       "   50,\n",
       "   36,\n",
       "   60,\n",
       "   46,\n",
       "   44,\n",
       "   42,\n",
       "   48,\n",
       "   50,\n",
       "   36,\n",
       "   62,\n",
       "   50,\n",
       "   26,\n",
       "   40,\n",
       "   48,\n",
       "   40,\n",
       "   58,\n",
       "   44,\n",
       "   52,\n",
       "   46,\n",
       "   42,\n",
       "   60,\n",
       "   36,\n",
       "   50,\n",
       "   44,\n",
       "   56,\n",
       "   36,\n",
       "   38,\n",
       "   40,\n",
       "   48,\n",
       "   60,\n",
       "   52,\n",
       "   44,\n",
       "   40,\n",
       "   28]],\n",
       " '0674': [[40,\n",
       "   48,\n",
       "   44,\n",
       "   38,\n",
       "   34,\n",
       "   32,\n",
       "   40,\n",
       "   82,\n",
       "   46,\n",
       "   32,\n",
       "   18,\n",
       "   30,\n",
       "   18,\n",
       "   28,\n",
       "   8,\n",
       "   72,\n",
       "   18,\n",
       "   32,\n",
       "   36,\n",
       "   28,\n",
       "   38,\n",
       "   30,\n",
       "   70,\n",
       "   34,\n",
       "   30,\n",
       "   24,\n",
       "   30,\n",
       "   18,\n",
       "   72,\n",
       "   16,\n",
       "   30,\n",
       "   38,\n",
       "   32,\n",
       "   78,\n",
       "   32,\n",
       "   24,\n",
       "   18,\n",
       "   76,\n",
       "   28,\n",
       "   24,\n",
       "   76,\n",
       "   28,\n",
       "   70,\n",
       "   18,\n",
       "   74]],\n",
       " '0838': [[82,\n",
       "   78,\n",
       "   92,\n",
       "   82,\n",
       "   90,\n",
       "   92,\n",
       "   86,\n",
       "   82,\n",
       "   88,\n",
       "   92,\n",
       "   82,\n",
       "   60,\n",
       "   82,\n",
       "   72,\n",
       "   72,\n",
       "   84,\n",
       "   72,\n",
       "   82,\n",
       "   88,\n",
       "   84,\n",
       "   86,\n",
       "   84,\n",
       "   72,\n",
       "   82,\n",
       "   86,\n",
       "   92,\n",
       "   88,\n",
       "   84,\n",
       "   100,\n",
       "   84,\n",
       "   68,\n",
       "   62,\n",
       "   82,\n",
       "   66,\n",
       "   64,\n",
       "   74,\n",
       "   94,\n",
       "   88,\n",
       "   38,\n",
       "   84,\n",
       "   80,\n",
       "   66,\n",
       "   84,\n",
       "   88,\n",
       "   82]],\n",
       " '0378': [[56,\n",
       "   42,\n",
       "   40,\n",
       "   42,\n",
       "   74,\n",
       "   58,\n",
       "   50,\n",
       "   62,\n",
       "   32,\n",
       "   56,\n",
       "   68,\n",
       "   74,\n",
       "   78,\n",
       "   66,\n",
       "   66,\n",
       "   66,\n",
       "   66,\n",
       "   60,\n",
       "   60,\n",
       "   64,\n",
       "   66,\n",
       "   60,\n",
       "   56,\n",
       "   40,\n",
       "   50,\n",
       "   72,\n",
       "   64,\n",
       "   58,\n",
       "   62,\n",
       "   42,\n",
       "   70,\n",
       "   62,\n",
       "   44,\n",
       "   70,\n",
       "   44,\n",
       "   78,\n",
       "   72,\n",
       "   72,\n",
       "   74,\n",
       "   56,\n",
       "   62,\n",
       "   60,\n",
       "   58,\n",
       "   44,\n",
       "   60]],\n",
       " '0472': [[74,\n",
       "   76,\n",
       "   82,\n",
       "   78,\n",
       "   70,\n",
       "   66,\n",
       "   70,\n",
       "   86,\n",
       "   66,\n",
       "   56,\n",
       "   58,\n",
       "   38,\n",
       "   52,\n",
       "   52,\n",
       "   56,\n",
       "   60,\n",
       "   42,\n",
       "   66,\n",
       "   52,\n",
       "   52,\n",
       "   62,\n",
       "   32,\n",
       "   52,\n",
       "   44,\n",
       "   62,\n",
       "   48,\n",
       "   52,\n",
       "   56,\n",
       "   64,\n",
       "   64,\n",
       "   50,\n",
       "   54,\n",
       "   48,\n",
       "   46,\n",
       "   44,\n",
       "   54,\n",
       "   54,\n",
       "   66,\n",
       "   48,\n",
       "   48,\n",
       "   64,\n",
       "   54,\n",
       "   50,\n",
       "   48,\n",
       "   58]],\n",
       " '0446': [[66,\n",
       "   44,\n",
       "   10,\n",
       "   80,\n",
       "   58,\n",
       "   58,\n",
       "   2,\n",
       "   56,\n",
       "   56,\n",
       "   56,\n",
       "   64,\n",
       "   50,\n",
       "   36,\n",
       "   36,\n",
       "   66,\n",
       "   40,\n",
       "   32,\n",
       "   40,\n",
       "   64,\n",
       "   40,\n",
       "   40,\n",
       "   42,\n",
       "   48,\n",
       "   52,\n",
       "   78,\n",
       "   56,\n",
       "   56,\n",
       "   10,\n",
       "   54,\n",
       "   58,\n",
       "   46,\n",
       "   46,\n",
       "   80,\n",
       "   52,\n",
       "   52,\n",
       "   0,\n",
       "   58,\n",
       "   32,\n",
       "   32,\n",
       "   58,\n",
       "   32,\n",
       "   32,\n",
       "   54,\n",
       "   56,\n",
       "   36]],\n",
       " '0915': [[44,\n",
       "   24,\n",
       "   32,\n",
       "   40,\n",
       "   54,\n",
       "   56,\n",
       "   56,\n",
       "   46,\n",
       "   32,\n",
       "   54,\n",
       "   54,\n",
       "   66,\n",
       "   72,\n",
       "   64,\n",
       "   68,\n",
       "   70,\n",
       "   62,\n",
       "   32,\n",
       "   34,\n",
       "   60,\n",
       "   58,\n",
       "   64,\n",
       "   46,\n",
       "   34,\n",
       "   52,\n",
       "   50,\n",
       "   60,\n",
       "   66,\n",
       "   46,\n",
       "   50,\n",
       "   70,\n",
       "   66,\n",
       "   68,\n",
       "   56,\n",
       "   44,\n",
       "   62,\n",
       "   66,\n",
       "   60,\n",
       "   60,\n",
       "   74,\n",
       "   66,\n",
       "   68,\n",
       "   80,\n",
       "   70,\n",
       "   48]],\n",
       " '0858': [[34,\n",
       "   60,\n",
       "   48,\n",
       "   34,\n",
       "   48,\n",
       "   40,\n",
       "   30,\n",
       "   44,\n",
       "   34,\n",
       "   54,\n",
       "   36,\n",
       "   42,\n",
       "   40,\n",
       "   40,\n",
       "   44,\n",
       "   48,\n",
       "   50,\n",
       "   50,\n",
       "   58,\n",
       "   56,\n",
       "   58,\n",
       "   58,\n",
       "   58,\n",
       "   62,\n",
       "   54,\n",
       "   50,\n",
       "   42,\n",
       "   52,\n",
       "   38,\n",
       "   54,\n",
       "   60,\n",
       "   36,\n",
       "   36,\n",
       "   48,\n",
       "   36,\n",
       "   54,\n",
       "   56,\n",
       "   54,\n",
       "   52,\n",
       "   38,\n",
       "   44,\n",
       "   44,\n",
       "   44,\n",
       "   34,\n",
       "   48]]}"
      ]
     },
     "execution_count": 145,
     "metadata": {},
     "output_type": "execute_result"
    }
   ],
   "source": [
    "distances_dict"
   ]
  },
  {
   "cell_type": "code",
   "execution_count": 127,
   "metadata": {
    "collapsed": true,
    "jupyter": {
     "outputs_hidden": true
    }
   },
   "outputs": [
    {
     "data": {
      "text/plain": [
       "[array([0, 1, 0, 0, 1, 0, 0, 1, 1, 1, 0, 0, 1, 0, 0, 0, 1, 0, 0, 1, 1, 1,\n",
       "        0, 0, 0, 0, 1, 1, 0, 0, 1, 1, 1, 1, 1, 0, 0, 0, 0, 1, 0, 0, 1, 1,\n",
       "        1, 1, 1, 0, 0, 0, 1, 1, 0, 0, 1, 1, 1, 1, 0, 0, 1, 1, 0, 0, 0, 0,\n",
       "        0, 0, 1, 1, 0, 0, 0, 0, 1, 1, 1, 0, 1, 0, 0, 0, 1, 0, 1, 1, 0, 1,\n",
       "        0, 0, 1, 1, 0, 0, 1, 1, 1, 0, 0, 1, 0, 1, 0, 0, 1, 0, 0, 1, 1, 1,\n",
       "        1, 0, 1, 1, 0, 0, 1, 1, 0, 1, 0, 1, 1, 0, 0, 0, 1, 1, 1, 1, 0, 0,\n",
       "        1, 0, 1, 1, 0, 0, 1, 1, 0, 0, 1, 1, 0, 1, 0, 1, 0, 1, 1, 0, 1, 0,\n",
       "        0, 1, 1, 1, 0, 1, 0, 0, 1, 1, 1, 1, 0, 1, 0, 1, 0, 0, 1, 1, 1, 0,\n",
       "        1, 1, 0, 0, 0, 0, 1, 0, 1, 0, 1, 1, 0, 0, 0, 1, 0, 0, 1, 1, 1, 0,\n",
       "        0, 1, 1, 0, 0, 1, 0, 0, 1, 0, 0, 1, 0, 1, 1, 0, 1, 0, 0, 0, 0, 0,\n",
       "        0, 1, 1, 1, 1, 0, 0, 1, 0, 1, 1, 0, 1, 1, 1, 1, 0, 1, 0, 0, 0, 0,\n",
       "        1, 1, 1, 1, 0, 1, 0, 1, 0, 0, 1, 0, 1, 1]),\n",
       " array([1, 0, 0, 1, 1, 0, 1, 0, 1, 1, 0, 1, 1, 1, 0, 0, 1, 1, 0, 0, 1, 1,\n",
       "        0, 0, 1, 0, 1, 1, 1, 0, 1, 1, 1, 1, 0, 0, 0, 0, 1, 1, 0, 0, 1, 1,\n",
       "        1, 1, 0, 0, 0, 0, 1, 1, 0, 1, 1, 0, 1, 1, 0, 1, 1, 1, 0, 0, 0, 0,\n",
       "        1, 0, 1, 1, 0, 1, 1, 0, 0, 1, 1, 0, 1, 0, 0, 0, 0, 0, 1, 1, 1, 1,\n",
       "        1, 1, 1, 1, 0, 0, 0, 0, 1, 0, 1, 1, 0, 1, 0, 0, 1, 1, 0, 0, 1, 1,\n",
       "        1, 1, 1, 1, 0, 0, 1, 1, 0, 0, 1, 1, 1, 0, 0, 0, 0, 1, 1, 1, 0, 0,\n",
       "        1, 0, 0, 1, 0, 0, 1, 1, 0, 0, 1, 1, 0, 0, 1, 1, 1, 0, 1, 0, 0, 1,\n",
       "        0, 0, 0, 1, 0, 1, 0, 0, 1, 1, 1, 1, 1, 0, 0, 1, 0, 0, 0, 1, 1, 0,\n",
       "        1, 1, 0, 0, 1, 0, 0, 0, 0, 0, 1, 1, 0, 0, 1, 1, 0, 1, 1, 0, 0, 0,\n",
       "        0, 1, 1, 0, 0, 1, 0, 1, 0, 0, 0, 1, 1, 1, 0, 0, 0, 1, 0, 0, 0, 1,\n",
       "        1, 1, 1, 1, 0, 0, 1, 1, 0, 1, 1, 0, 0, 1, 0, 1, 0, 1, 0, 0, 0, 0,\n",
       "        1, 0, 0, 1, 0, 1, 0, 1, 0, 1, 1, 0, 0, 0]),\n",
       " array([0, 0, 0, 1, 1, 0, 1, 0, 0, 1, 0, 1, 1, 1, 0, 0, 1, 0, 0, 1, 1, 1,\n",
       "        0, 0, 0, 0, 1, 0, 0, 0, 1, 1, 1, 1, 1, 0, 0, 0, 1, 0, 0, 0, 1, 1,\n",
       "        1, 1, 1, 0, 0, 0, 1, 1, 0, 1, 1, 0, 1, 1, 0, 0, 1, 1, 0, 0, 0, 1,\n",
       "        1, 0, 1, 1, 0, 0, 0, 0, 1, 1, 1, 0, 1, 0, 0, 1, 0, 0, 1, 1, 1, 0,\n",
       "        0, 1, 0, 0, 0, 0, 1, 0, 1, 1, 1, 1, 0, 0, 0, 0, 1, 1, 0, 0, 1, 0,\n",
       "        1, 1, 1, 1, 0, 0, 1, 1, 1, 0, 1, 1, 1, 0, 0, 0, 0, 1, 1, 1, 0, 0,\n",
       "        1, 0, 1, 1, 0, 0, 1, 1, 1, 0, 1, 1, 0, 1, 1, 1, 0, 0, 1, 0, 0, 1,\n",
       "        0, 0, 1, 0, 0, 1, 1, 0, 1, 1, 1, 1, 1, 0, 0, 1, 0, 0, 1, 1, 1, 0,\n",
       "        1, 0, 0, 0, 0, 0, 0, 0, 1, 0, 1, 1, 0, 0, 1, 1, 0, 0, 1, 1, 0, 0,\n",
       "        0, 1, 1, 0, 0, 1, 0, 1, 1, 0, 0, 1, 1, 1, 0, 0, 0, 0, 0, 0, 1, 1,\n",
       "        0, 1, 1, 1, 0, 0, 0, 1, 0, 1, 1, 0, 1, 1, 1, 1, 0, 1, 0, 0, 0, 0,\n",
       "        1, 1, 0, 1, 0, 1, 1, 1, 1, 1, 1, 0, 0, 0]),\n",
       " array([0, 0, 1, 1, 1, 0, 1, 0, 1, 1, 0, 0, 1, 0, 0, 0, 1, 1, 0, 0, 1, 1,\n",
       "        0, 0, 1, 0, 1, 1, 0, 0, 1, 1, 1, 1, 1, 0, 0, 0, 1, 1, 0, 0, 1, 0,\n",
       "        1, 1, 1, 0, 0, 0, 1, 1, 0, 1, 1, 1, 1, 1, 0, 0, 1, 1, 0, 0, 0, 0,\n",
       "        1, 0, 1, 1, 0, 0, 1, 0, 1, 1, 1, 0, 1, 0, 0, 1, 0, 0, 1, 1, 1, 1,\n",
       "        0, 1, 1, 1, 0, 0, 0, 0, 1, 0, 1, 1, 0, 1, 0, 0, 1, 1, 0, 0, 1, 1,\n",
       "        1, 1, 0, 1, 0, 0, 1, 1, 1, 0, 1, 1, 1, 0, 0, 0, 0, 1, 1, 1, 0, 0,\n",
       "        0, 0, 0, 1, 0, 0, 1, 1, 0, 0, 1, 1, 0, 1, 1, 1, 0, 0, 1, 0, 0, 1,\n",
       "        0, 0, 1, 1, 0, 1, 1, 0, 1, 1, 1, 1, 0, 0, 0, 1, 0, 0, 1, 1, 0, 0,\n",
       "        1, 1, 0, 0, 0, 0, 0, 0, 0, 0, 0, 1, 0, 0, 1, 1, 0, 1, 1, 0, 0, 0,\n",
       "        0, 1, 1, 0, 0, 1, 0, 1, 0, 0, 1, 1, 1, 1, 0, 0, 0, 0, 0, 0, 0, 1,\n",
       "        1, 1, 1, 1, 0, 0, 0, 1, 0, 1, 0, 0, 0, 1, 1, 1, 0, 1, 0, 0, 1, 0,\n",
       "        1, 1, 0, 1, 0, 1, 0, 1, 1, 1, 1, 0, 1, 1]),\n",
       " array([0, 0, 1, 1, 0, 0, 1, 0, 0, 1, 0, 1, 1, 0, 0, 0, 1, 1, 0, 1, 1, 1,\n",
       "        1, 0, 0, 0, 1, 0, 0, 1, 1, 1, 1, 1, 0, 0, 0, 0, 1, 1, 0, 0, 1, 0,\n",
       "        1, 0, 1, 1, 1, 0, 1, 1, 0, 0, 1, 0, 0, 1, 0, 0, 1, 1, 0, 0, 0, 0,\n",
       "        0, 0, 1, 1, 0, 0, 0, 1, 0, 1, 1, 0, 1, 1, 0, 0, 0, 1, 1, 1, 1, 1,\n",
       "        0, 0, 1, 1, 0, 1, 1, 0, 1, 0, 1, 1, 1, 1, 0, 0, 1, 1, 0, 0, 1, 1,\n",
       "        1, 1, 0, 1, 0, 0, 1, 1, 1, 0, 0, 1, 1, 0, 0, 0, 0, 1, 1, 1, 0, 0,\n",
       "        1, 0, 1, 1, 0, 0, 1, 1, 1, 0, 0, 1, 0, 0, 1, 1, 0, 0, 1, 0, 0, 1,\n",
       "        0, 0, 1, 0, 0, 1, 1, 0, 1, 1, 1, 1, 1, 0, 0, 1, 0, 0, 1, 1, 1, 0,\n",
       "        1, 1, 0, 0, 0, 0, 0, 0, 1, 0, 1, 1, 0, 0, 1, 1, 1, 1, 1, 0, 0, 0,\n",
       "        0, 1, 1, 0, 0, 1, 0, 1, 1, 0, 1, 1, 1, 0, 0, 0, 0, 0, 1, 0, 0, 1,\n",
       "        0, 1, 1, 1, 0, 0, 0, 1, 0, 1, 0, 0, 1, 1, 1, 1, 0, 1, 0, 0, 0, 0,\n",
       "        1, 0, 0, 1, 0, 1, 1, 1, 1, 1, 1, 0, 0, 0]),\n",
       " array([0, 0, 0, 1, 1, 1, 0, 0, 0, 0, 0, 1, 1, 1, 0, 0, 0, 1, 0, 1, 1, 1,\n",
       "        0, 0, 0, 0, 1, 1, 0, 1, 1, 1, 1, 1, 0, 1, 0, 0, 0, 1, 0, 0, 1, 1,\n",
       "        1, 0, 1, 1, 0, 0, 1, 1, 0, 1, 1, 0, 0, 1, 0, 0, 1, 1, 0, 0, 0, 0,\n",
       "        1, 0, 1, 0, 0, 1, 1, 0, 0, 1, 1, 0, 1, 1, 0, 1, 0, 0, 1, 1, 1, 1,\n",
       "        0, 0, 1, 1, 0, 1, 0, 0, 1, 1, 1, 1, 0, 0, 0, 1, 1, 1, 0, 0, 1, 0,\n",
       "        1, 1, 1, 1, 0, 0, 1, 1, 0, 0, 1, 1, 1, 0, 0, 0, 0, 1, 1, 1, 1, 0,\n",
       "        1, 0, 0, 1, 0, 0, 1, 1, 1, 0, 1, 1, 0, 1, 1, 0, 0, 0, 1, 0, 0, 1,\n",
       "        0, 0, 1, 1, 1, 1, 1, 1, 1, 1, 1, 1, 0, 0, 0, 1, 0, 0, 1, 1, 1, 0,\n",
       "        1, 1, 0, 0, 0, 0, 0, 0, 0, 0, 0, 1, 1, 0, 1, 1, 0, 0, 1, 0, 0, 0,\n",
       "        0, 1, 1, 0, 0, 1, 0, 1, 0, 0, 1, 0, 1, 1, 0, 0, 1, 0, 0, 0, 0, 1,\n",
       "        1, 1, 1, 1, 0, 0, 0, 1, 0, 1, 1, 0, 1, 1, 1, 1, 0, 1, 0, 0, 0, 0,\n",
       "        0, 1, 0, 1, 1, 1, 1, 1, 1, 0, 0, 0, 0, 0]),\n",
       " array([1, 0, 0, 1, 0, 0, 0, 0, 1, 1, 0, 1, 0, 0, 0, 1, 0, 1, 1, 0, 1, 1,\n",
       "        0, 1, 0, 0, 1, 1, 0, 0, 1, 1, 1, 0, 0, 1, 0, 0, 0, 1, 0, 0, 1, 1,\n",
       "        1, 1, 1, 0, 1, 0, 1, 1, 0, 0, 0, 1, 1, 1, 0, 1, 1, 1, 0, 0, 0, 0,\n",
       "        1, 0, 1, 1, 0, 1, 0, 0, 1, 1, 1, 1, 1, 0, 1, 0, 1, 0, 0, 1, 0, 1,\n",
       "        1, 0, 1, 1, 1, 0, 1, 1, 1, 0, 1, 1, 1, 1, 0, 0, 1, 1, 0, 0, 1, 1,\n",
       "        1, 0, 1, 0, 0, 1, 0, 0, 0, 1, 0, 1, 1, 0, 1, 0, 1, 1, 1, 1, 1, 0,\n",
       "        0, 0, 0, 1, 0, 0, 1, 1, 0, 0, 1, 1, 0, 0, 0, 1, 0, 0, 1, 0, 0, 0,\n",
       "        0, 0, 1, 1, 0, 1, 0, 0, 1, 1, 1, 1, 0, 0, 0, 1, 0, 0, 1, 1, 1, 0,\n",
       "        1, 1, 0, 0, 1, 0, 1, 0, 1, 0, 1, 1, 0, 1, 0, 1, 0, 1, 1, 0, 0, 0,\n",
       "        0, 1, 0, 0, 0, 1, 0, 0, 1, 0, 0, 1, 0, 0, 1, 1, 1, 0, 1, 0, 0, 0,\n",
       "        0, 1, 0, 1, 1, 0, 0, 1, 0, 1, 1, 0, 1, 1, 1, 1, 0, 1, 0, 0, 0, 0,\n",
       "        1, 0, 1, 1, 0, 1, 0, 1, 0, 0, 1, 0, 1, 1]),\n",
       " array([1, 0, 0, 1, 1, 0, 0, 1, 1, 1, 0, 1, 1, 0, 1, 1, 0, 1, 1, 1, 1, 1,\n",
       "        0, 0, 0, 0, 1, 1, 0, 1, 1, 1, 1, 1, 0, 0, 0, 0, 0, 1, 0, 0, 1, 1,\n",
       "        1, 0, 1, 1, 0, 0, 1, 1, 0, 0, 1, 0, 0, 1, 0, 1, 1, 1, 0, 0, 0, 1,\n",
       "        0, 0, 1, 1, 0, 1, 1, 0, 0, 1, 1, 0, 1, 1, 0, 0, 0, 0, 1, 1, 1, 1,\n",
       "        0, 0, 1, 1, 0, 1, 0, 0, 1, 0, 1, 1, 0, 1, 0, 0, 1, 1, 0, 0, 1, 1,\n",
       "        1, 1, 0, 1, 0, 0, 1, 1, 0, 0, 1, 1, 1, 0, 0, 0, 0, 1, 1, 1, 0, 0,\n",
       "        1, 0, 1, 1, 0, 0, 1, 1, 0, 0, 0, 1, 0, 0, 1, 1, 0, 0, 1, 0, 1, 1,\n",
       "        0, 0, 1, 1, 0, 1, 0, 0, 0, 1, 1, 1, 1, 0, 0, 1, 0, 0, 1, 1, 0, 0,\n",
       "        1, 1, 0, 0, 1, 0, 0, 0, 1, 0, 1, 1, 0, 0, 1, 1, 0, 0, 1, 1, 0, 0,\n",
       "        0, 1, 1, 0, 0, 1, 0, 1, 0, 0, 1, 1, 1, 1, 0, 0, 0, 0, 0, 0, 0, 0,\n",
       "        1, 1, 1, 1, 0, 0, 0, 1, 0, 1, 1, 0, 0, 1, 1, 1, 0, 1, 0, 0, 1, 0,\n",
       "        0, 0, 1, 1, 0, 1, 1, 1, 1, 0, 1, 0, 0, 0]),\n",
       " array([0, 1, 0, 0, 1, 0, 0, 0, 1, 1, 0, 0, 1, 1, 0, 0, 1, 0, 0, 1, 1, 1,\n",
       "        1, 0, 0, 0, 0, 1, 0, 0, 1, 1, 1, 1, 1, 0, 0, 0, 0, 0, 0, 0, 1, 1,\n",
       "        1, 1, 1, 0, 0, 0, 1, 1, 0, 0, 1, 1, 1, 1, 0, 0, 1, 1, 0, 0, 0, 1,\n",
       "        0, 0, 1, 1, 1, 0, 0, 0, 0, 1, 1, 0, 1, 0, 0, 0, 1, 0, 1, 0, 1, 1,\n",
       "        0, 1, 1, 0, 0, 0, 1, 1, 1, 0, 0, 1, 0, 1, 0, 0, 1, 1, 0, 0, 1, 1,\n",
       "        1, 0, 1, 1, 0, 0, 1, 0, 0, 1, 1, 1, 1, 0, 0, 0, 0, 1, 1, 1, 0, 0,\n",
       "        1, 0, 1, 1, 0, 0, 1, 1, 0, 0, 1, 1, 0, 1, 0, 1, 0, 1, 1, 0, 1, 0,\n",
       "        0, 0, 1, 1, 0, 1, 0, 0, 1, 1, 1, 1, 0, 1, 0, 1, 0, 0, 1, 1, 1, 0,\n",
       "        1, 1, 0, 0, 0, 1, 1, 0, 1, 0, 1, 1, 0, 0, 0, 1, 0, 0, 1, 1, 1, 0,\n",
       "        0, 1, 1, 0, 0, 1, 0, 0, 1, 0, 0, 1, 0, 1, 1, 1, 1, 0, 0, 0, 0, 0,\n",
       "        0, 1, 0, 1, 1, 0, 0, 1, 0, 1, 1, 0, 1, 1, 1, 1, 0, 1, 0, 0, 0, 0,\n",
       "        1, 1, 1, 1, 0, 1, 0, 1, 1, 0, 1, 0, 1, 1]),\n",
       " array([0, 0, 0, 1, 0, 0, 0, 0, 1, 1, 1, 0, 1, 1, 1, 0, 1, 1, 0, 1, 1, 1,\n",
       "        0, 0, 0, 0, 1, 1, 0, 0, 1, 1, 1, 1, 0, 0, 0, 0, 1, 1, 0, 0, 1, 1,\n",
       "        1, 1, 1, 0, 1, 0, 1, 1, 0, 0, 1, 1, 1, 1, 0, 1, 1, 1, 0, 0, 1, 0,\n",
       "        1, 0, 0, 0, 0, 1, 0, 0, 0, 1, 1, 0, 1, 0, 0, 1, 0, 0, 0, 1, 1, 1,\n",
       "        0, 0, 0, 1, 0, 0, 0, 0, 1, 0, 1, 1, 0, 0, 0, 0, 1, 1, 0, 0, 1, 1,\n",
       "        1, 1, 0, 1, 0, 0, 1, 1, 1, 0, 1, 1, 1, 0, 0, 0, 0, 1, 1, 1, 0, 0,\n",
       "        1, 0, 0, 1, 0, 0, 1, 1, 0, 0, 1, 1, 0, 1, 1, 1, 1, 0, 1, 0, 1, 1,\n",
       "        0, 0, 0, 1, 0, 1, 0, 0, 1, 1, 1, 1, 0, 0, 0, 1, 0, 0, 0, 1, 1, 0,\n",
       "        1, 1, 0, 0, 1, 0, 0, 0, 1, 0, 1, 1, 0, 0, 1, 1, 0, 1, 1, 0, 1, 0,\n",
       "        0, 1, 1, 0, 0, 1, 0, 1, 0, 0, 0, 1, 1, 1, 0, 1, 0, 0, 0, 0, 0, 1,\n",
       "        1, 1, 1, 1, 0, 0, 0, 1, 1, 1, 1, 0, 1, 1, 0, 1, 0, 1, 0, 0, 0, 0,\n",
       "        1, 1, 0, 1, 1, 1, 1, 1, 0, 1, 1, 0, 0, 0])]"
      ]
     },
     "execution_count": 127,
     "metadata": {},
     "output_type": "execute_result"
    }
   ],
   "source": [
    "hash_output_dict[keys_list[1]]"
   ]
  },
  {
   "cell_type": "code",
   "execution_count": 108,
   "metadata": {},
   "outputs": [],
   "source": [
    "array_hash_list = list(hash_output_dict[keys_list[0]])"
   ]
  },
  {
   "cell_type": "code",
   "execution_count": 25,
   "metadata": {},
   "outputs": [
    {
     "ename": "NameError",
     "evalue": "name 'array_hash_list' is not defined",
     "output_type": "error",
     "traceback": [
      "\u001b[1;31m---------------------------------------------------------------------------\u001b[0m",
      "\u001b[1;31mNameError\u001b[0m                                 Traceback (most recent call last)",
      "\u001b[1;32m<ipython-input-25-81340d8d3a15>\u001b[0m in \u001b[0;36m<module>\u001b[1;34m\u001b[0m\n\u001b[0;32m      2\u001b[0m \u001b[1;33m\u001b[0m\u001b[0m\n\u001b[0;32m      3\u001b[0m \u001b[0mhash_dist_store\u001b[0m \u001b[1;33m=\u001b[0m \u001b[1;33m[\u001b[0m\u001b[1;33m]\u001b[0m\u001b[1;33m\u001b[0m\u001b[1;33m\u001b[0m\u001b[0m\n\u001b[1;32m----> 4\u001b[1;33m \u001b[1;32mfor\u001b[0m \u001b[0ma\u001b[0m\u001b[1;33m,\u001b[0m \u001b[0mb\u001b[0m \u001b[1;32min\u001b[0m \u001b[0mitertools\u001b[0m\u001b[1;33m.\u001b[0m\u001b[0mcombinations\u001b[0m\u001b[1;33m(\u001b[0m\u001b[0marray_hash_list\u001b[0m\u001b[1;33m,\u001b[0m \u001b[1;36m2\u001b[0m\u001b[1;33m)\u001b[0m\u001b[1;33m:\u001b[0m\u001b[1;33m\u001b[0m\u001b[1;33m\u001b[0m\u001b[0m\n\u001b[0m\u001b[0;32m      5\u001b[0m     \u001b[0mtemp_dist\u001b[0m \u001b[1;33m=\u001b[0m \u001b[0ma\u001b[0m \u001b[1;33m-\u001b[0m \u001b[0mb\u001b[0m\u001b[1;33m\u001b[0m\u001b[1;33m\u001b[0m\u001b[0m\n\u001b[0;32m      6\u001b[0m     \u001b[0mhash_dist_store\u001b[0m\u001b[1;33m.\u001b[0m\u001b[0mappend\u001b[0m\u001b[1;33m(\u001b[0m\u001b[0mtemp_dist\u001b[0m\u001b[1;33m)\u001b[0m\u001b[1;33m\u001b[0m\u001b[1;33m\u001b[0m\u001b[0m\n",
      "\u001b[1;31mNameError\u001b[0m: name 'array_hash_list' is not defined"
     ]
    }
   ],
   "source": [
    "import itertools\n",
    "\n",
    "hash_dist_store = []\n",
    "for a, b in itertools.combinations(array_hash_list, 2):\n",
    "    temp_dist = a - b\n",
    "    hash_dist_store.append(temp_dist)"
   ]
  },
  {
   "cell_type": "code",
   "execution_count": 118,
   "metadata": {},
   "outputs": [
    {
     "data": {
      "text/plain": [
       "(array([1., 1., 0., 0., 1., 4., 3., 4., 5., 2., 4., 9., 3., 2., 3., 1., 0.,\n",
       "        0., 1., 1.]),\n",
       " array([30. , 32.7, 35.4, 38.1, 40.8, 43.5, 46.2, 48.9, 51.6, 54.3, 57. ,\n",
       "        59.7, 62.4, 65.1, 67.8, 70.5, 73.2, 75.9, 78.6, 81.3, 84. ]),\n",
       " <a list of 20 Patch objects>)"
      ]
     },
     "execution_count": 118,
     "metadata": {},
     "output_type": "execute_result"
    },
    {
     "data": {
      "image/png": "[encoded data removed]",
      "text/plain": [
       "<Figure size 432x288 with 1 Axes>"
      ]
     },
     "metadata": {
      "needs_background": "light"
     },
     "output_type": "display_data"
    }
   ],
   "source": [
    "plt.hist(hash_dist_store, bins = 20)"
   ]
  },
  {
   "cell_type": "code",
   "execution_count": null,
   "metadata": {},
   "outputs": [],
   "source": []
  },
  {
   "cell_type": "code",
   "execution_count": 14,
   "metadata": {},
   "outputs": [
    {
     "data": {
      "text/plain": [
       "10"
      ]
     },
     "execution_count": 14,
     "metadata": {},
     "output_type": "execute_result"
    }
   ],
   "source": [
    "img_sample = sample(img_filename_list, 10)\n",
    "\n",
    "\n",
    "img_sample[0]\n",
    "len(img_sample)"
   ]
  },
  {
   "cell_type": "code",
   "execution_count": 22,
   "metadata": {},
   "outputs": [
    {
     "data": {
      "text/plain": [
       "'C:/Users/benja/Desktop/Oxford/Summatives/das2019/das_images/das_images'"
      ]
     },
     "execution_count": 22,
     "metadata": {},
     "output_type": "execute_result"
    }
   ],
   "source": [
    "path"
   ]
  },
  {
   "cell_type": "code",
   "execution_count": 16,
   "metadata": {},
   "outputs": [],
   "source": [
    "img_string_input = path + '/{}'.format(img_sample[0])\n",
    "\n",
    "#img_string_input = 'das_images/das_images/{}'.format(img_sample[i])\n",
    "\n",
    "#hash_temp = findHasher.fromFile(img_string_input)"
   ]
  },
  {
   "cell_type": "code",
   "execution_count": 23,
   "metadata": {},
   "outputs": [
    {
     "data": {
      "text/plain": [
       "array([1, 1, 0, 1, 1, 0, 0, 1, 0, 0, 0, 1, 1, 1, 1, 1, 1, 0, 1, 1, 1, 0,\n",
       "       0, 0, 0, 0, 1, 1, 1, 0, 1, 0, 1, 1, 0, 1, 1, 1, 0, 1, 0, 0, 1, 1,\n",
       "       1, 1, 1, 0, 0, 0, 1, 1, 1, 0, 0, 0, 0, 0, 0, 1, 1, 1, 1, 0, 1, 0,\n",
       "       1, 0, 1, 0, 0, 1, 1, 1, 0, 1, 1, 0, 1, 0, 1, 0, 0, 1, 1, 1, 1, 1,\n",
       "       0, 0, 0, 1, 1, 0, 1, 0, 0, 1, 1, 1, 1, 0, 0, 0, 0, 0, 1, 1, 1, 1,\n",
       "       1, 0, 1, 1, 1, 1, 1, 0, 0, 0, 0, 1, 0, 1, 1, 1, 1, 1, 0, 0, 0, 1,\n",
       "       0, 1, 1, 0, 0, 0, 0, 0, 1, 1, 1, 1, 0, 1, 0, 0, 1, 0, 1, 1, 1, 1,\n",
       "       0, 1, 0, 0, 1, 0, 0, 0, 0, 0, 0, 0, 0, 1, 1, 1, 0, 0, 0, 0, 1, 0,\n",
       "       1, 1, 0, 0, 1, 1, 1, 0, 0, 0, 1, 1, 1, 1, 0, 0, 0, 1, 0, 0, 0, 0,\n",
       "       1, 0, 0, 1, 0, 0, 0, 0, 0, 0, 1, 1, 0, 0, 0, 0, 1, 1, 1, 1, 0, 0,\n",
       "       0, 0, 1, 1, 0, 0, 0, 1, 1, 1, 1, 0, 1, 1, 1, 1, 1, 1, 0, 0, 0, 0,\n",
       "       0, 0, 0, 0, 0, 0, 0, 1, 1, 1, 1, 1, 0, 0])"
      ]
     },
     "execution_count": 23,
     "metadata": {},
     "output_type": "execute_result"
    }
   ],
   "source": [
    "img_string_input\n",
    "hash_temp = findHasher.fromFile(img_string_input)\n",
    "hash_temp"
   ]
  },
  {
   "cell_type": "code",
   "execution_count": 17,
   "metadata": {},
   "outputs": [
    {
     "name": "stdout",
     "output_type": "stream",
     "text": [
      "2.83 s ± 226 ms per loop (mean ± std. dev. of 7 runs, 1 loop each)\n"
     ]
    }
   ],
   "source": [
    "%%timeit\n",
    "\n",
    "img_sample = sample(img_filename_list, 5)\n",
    "hash_output = []\n",
    "\n",
    "for i in range(0,len(img_sample)):\n",
    "    \n",
    "    img_string_input = 'das_images/das_images/{}'.format(img_sample[i])\n",
    "\n",
    "    hash_temp = findHasher.fromFile(img_string_input)\n",
    "    \n",
    "    hash_output.append(hash_temp)"
   ]
  },
  {
   "cell_type": "code",
   "execution_count": 50,
   "metadata": {
    "collapsed": true,
    "jupyter": {
     "outputs_hidden": true
    }
   },
   "outputs": [
    {
     "name": "stdout",
     "output_type": "stream",
     "text": [
      " "
     ]
    },
    {
     "data": {
      "text/plain": [
       "         5002527 function calls in 7.107 seconds\n",
       "\n",
       "   Ordered by: internal time\n",
       "\n",
       "   ncalls  tottime  percall  cumtime  percall filename:lineno(function)\n",
       "       10    5.167    0.517    5.633    0.563 FINd.py:167(boxFilter)\n",
       "       10    0.454    0.045    1.202    0.120 FINd.py:66(fillFloatLumaFromBufferImage)\n",
       "   625000    0.285    0.000    0.746    0.000 Image.py:1360(getpixel)\n",
       "   625040    0.258    0.000    0.354    0.000 Image.py:838(load)\n",
       "  1250000    0.238    0.000    0.238    0.000 {built-in method builtins.max}\n",
       "  1250000    0.228    0.000    0.228    0.000 {built-in method builtins.min}\n",
       "       10    0.115    0.012    0.115    0.012 FINd.py:110(dct64To16)\n",
       "   625000    0.108    0.000    0.108    0.000 {method 'getpixel' of 'ImagingCore' objects}\n",
       "   625030    0.095    0.000    0.095    0.000 {method 'pixel_access' of 'ImagingCore' objects}\n",
       "       10    0.089    0.009    0.089    0.009 {built-in method io.open}\n",
       "       10    0.021    0.002    0.021    0.002 FINd.py:100(decimateFloat)\n",
       "       10    0.016    0.002    7.107    0.711 FINd.py:39(fromFile)\n",
       "       10    0.010    0.001    0.010    0.001 {method 'decode' of 'ImagingDecoder' objects}\n",
       "       20    0.008    0.000    0.008    0.000 matrix.py:12(allocateMatrixAsRowMajorArray)\n",
       "       10    0.005    0.001    0.005    0.001 matrix.py:16(torben)\n",
       "       20    0.004    0.000    0.004    0.000 {method 'copy' of 'ImagingCore' objects}\n",
       "      400    0.001    0.000    0.001    0.000 {method 'read' of '_io.BufferedReader' objects}\n",
       "       10    0.001    0.000    0.006    0.001 FINd.py:146(dctOutput2hash)\n",
       "       10    0.000    0.000    0.000    0.000 {built-in method PIL._imaging.new}\n",
       "       30    0.000    0.000    0.000    0.000 matrix.py:5(allocateMatrix)\n",
       "       10    0.000    0.000    0.001    0.000 JpegImagePlugin.py:343(_open)\n",
       "       10    0.000    0.000    0.011    0.001 ImageFile.py:142(load)\n",
       "       10    0.000    0.000    0.000    0.000 {method 'close' of '_io.BufferedReader' objects}\n",
       "       10    0.000    0.000    6.999    0.700 FINd.py:47(fromImage)\n",
       "       10    0.000    0.000    0.000    0.000 {built-in method numpy.zeros}\n",
       "        1    0.000    0.000    7.107    7.107 <string>:1(<module>)\n",
       "       10    0.000    0.000    5.776    0.578 FINd.py:79(findHash256FromFloatLuma)\n",
       "       10    0.000    0.000    0.002    0.000 Image.py:2781(_open_core)\n",
       "        1    0.000    0.000    7.107    7.107 {built-in method builtins.exec}\n",
       "       10    0.000    0.000    0.091    0.009 Image.py:2735(open)\n",
       "       10    0.000    0.000    0.000    0.000 JpegImagePlugin.py:61(APP)\n",
       "       10    0.000    0.000    0.000    0.000 JpegImagePlugin.py:189(SOF)\n",
       "       20    0.000    0.000    0.000    0.000 JpegImagePlugin.py:237(DQT)\n",
       "       20    0.000    0.000    0.015    0.001 Image.py:1133(copy)\n",
       "       10    0.000    0.000    0.001    0.000 ImageFile.py:80(__init__)\n",
       "      250    0.000    0.000    0.000    0.000 {built-in method _struct.unpack_from}\n",
       "       30    0.000    0.000    0.000    0.000 Image.py:547(__init__)\n",
       "       20    0.000    0.000    0.000    0.000 Image.py:572(_new)\n",
       "       10    0.000    0.000    0.001    0.000 JpegImagePlugin.py:788(jpeg_factory)\n",
       "      240    0.000    0.000    0.000    0.000 _binary.py:77(i16be)\n",
       "       50    0.000    0.000    0.000    0.000 JpegImagePlugin.py:56(Skip)\n",
       "       30    0.000    0.000    0.000    0.000 {method 'seek' of '_io.BufferedReader' objects}\n",
       "      250    0.000    0.000    0.000    0.000 _binary.py:20(i8)\n",
       "       30    0.000    0.000    0.000    0.000 Image.py:591(__exit__)\n",
       "       50    0.000    0.000    0.000    0.000 {built-in method builtins.hasattr}\n",
       "       10    0.000    0.000    0.000    0.000 Image.py:440(_getdecoder)\n",
       "       90    0.000    0.000    0.000    0.000 ImageFile.py:538(_safe_read)\n",
       "        1    0.000    0.000    0.000    0.000 random.py:286(sample)\n",
       "       30    0.000    0.000    0.000    0.000 Image.py:629(__del__)\n",
       "       20    0.000    0.000    0.000    0.000 FINd.py:159(computeBoxFilterWindowSize)\n",
       "       10    0.000    0.000    0.000    0.000 BmpImagePlugin.py:53(_dib_accept)\n",
       "       10    0.000    0.000    0.000    0.000 {built-in method PIL._imaging.jpeg_decoder}\n",
       "       10    0.000    0.000    0.000    0.000 {method 'format' of 'str' objects}\n",
       "       10    0.000    0.000    0.000    0.000 ImageFile.py:276(load_prepare)\n",
       "       10    0.000    0.000    0.000    0.000 {method 'reshape' of 'numpy.ndarray' objects}\n",
       "       10    0.000    0.000    0.000    0.000 JpegImagePlugin.py:493(_getmp)\n",
       "       20    0.000    0.000    0.000    0.000 _util.py:15(isPath)\n",
       "       42    0.000    0.000    0.000    0.000 {built-in method builtins.isinstance}\n",
       "       10    0.000    0.000    0.000    0.000 GifImagePlugin.py:41(_accept)\n",
       "       10    0.000    0.000    0.000    0.000 Image.py:2180(thumbnail)\n",
       "       10    0.000    0.000    0.002    0.000 Image.py:888(convert)\n",
       "       10    0.000    0.000    0.000    0.000 random.py:224(_randbelow)\n",
       "      100    0.000    0.000    0.000    0.000 Image.py:568(size)\n",
       "       10    0.000    0.000    0.000    0.000 {method 'setimage' of 'ImagingDecoder' objects}\n",
       "       10    0.000    0.000    0.000    0.000 _binary.py:57(i32le)\n",
       "       20    0.000    0.000    0.000    0.000 {built-in method builtins.getattr}\n",
       "       10    0.000    0.000    0.000    0.000 {method 'sort' of 'list' objects}\n",
       "       10    0.000    0.000    0.000    0.000 BmpImagePlugin.py:49(_accept)\n",
       "       20    0.000    0.000    0.000    0.000 {method 'copy' of 'dict' objects}\n",
       "       10    0.000    0.000    0.000    0.000 Image.py:368(preinit)\n",
       "       82    0.000    0.000    0.000    0.000 {built-in method builtins.len}\n",
       "       10    0.000    0.000    0.000    0.000 Image.py:2715(_decompression_bomb_check)\n",
       "       10    0.000    0.000    0.000    0.000 TiffImagePlugin.py:272(_accept)\n",
       "       10    0.000    0.000    0.000    0.000 __init__.py:58(__init__)\n",
       "       10    0.000    0.000    0.000    0.000 JpegImagePlugin.py:476(_getmp)\n",
       "       10    0.000    0.000    0.000    0.000 {built-in method builtins.divmod}\n",
       "       50    0.000    0.000    0.000    0.000 {method 'append' of 'list' objects}\n",
       "       10    0.000    0.000    0.000    0.000 JpegImagePlugin.py:393(load_read)\n",
       "        1    0.000    0.000    0.000    0.000 {built-in method math.ceil}\n",
       "       10    0.000    0.000    0.000    0.000 JpegImagePlugin.py:330(_accept)\n",
       "        2    0.000    0.000    0.000    0.000 {built-in method _abc._abc_instancecheck}\n",
       "        1    0.000    0.000    0.000    0.000 {built-in method math.log}\n",
       "       13    0.000    0.000    0.000    0.000 {method 'getrandbits' of '_random.Random' objects}\n",
       "       10    0.000    0.000    0.000    0.000 ImageFile.py:67(_tilesort)\n",
       "       10    0.000    0.000    0.000    0.000 {method 'cleanup' of 'ImagingDecoder' objects}\n",
       "       10    0.000    0.000    0.000    0.000 ImageFile.py:284(load_end)\n",
       "        2    0.000    0.000    0.000    0.000 abc.py:137(__instancecheck__)\n",
       "       10    0.000    0.000    0.000    0.000 {method 'add' of 'set' objects}\n",
       "       10    0.000    0.000    0.000    0.000 {method 'bit_length' of 'int' objects}\n",
       "        1    0.000    0.000    0.000    0.000 {method 'disable' of '_lsprof.Profiler' objects}"
      ]
     },
     "metadata": {},
     "output_type": "display_data"
    }
   ],
   "source": [
    "%%prun\n",
    "\n",
    "img_sample = sample(img_list, 10)\n",
    "hash_output = []\n",
    "\n",
    "for i in range(0,len(img_sample)):\n",
    "    \n",
    "    img_string_input = 'das_images/das_images/{}'.format(img_sample[i])\n",
    "\n",
    "    hash_temp = findHasher.fromFile(img_string_input)\n",
    "    \n",
    "    hash_output.append(hash_temp)"
   ]
  },
  {
   "cell_type": "code",
   "execution_count": 48,
   "metadata": {
    "collapsed": true,
    "jupyter": {
     "outputs_hidden": true
    }
   },
   "outputs": [
    {
     "data": {
      "text/plain": [
       "10"
      ]
     },
     "metadata": {},
     "output_type": "display_data"
    },
    {
     "data": {
      "text/plain": [
       "array([0, 0, 0, 0, 0, 0, 1, 0, 1, 1, 0, 0, 1, 0, 0, 1, 1, 1, 1, 1, 1, 0,\n",
       "       0, 1, 1, 0, 1, 1, 0, 1, 1, 0, 0, 1, 0, 0, 1, 0, 1, 0, 0, 1, 1, 1,\n",
       "       0, 0, 1, 1, 1, 1, 1, 1, 0, 1, 1, 0, 0, 0, 0, 0, 0, 1, 0, 0, 1, 1,\n",
       "       0, 1, 1, 1, 0, 1, 1, 0, 0, 1, 1, 0, 0, 1, 0, 1, 0, 0, 0, 0, 0, 0,\n",
       "       0, 1, 1, 0, 0, 1, 0, 0, 0, 1, 1, 1, 1, 1, 1, 1, 0, 0, 1, 1, 0, 0,\n",
       "       1, 1, 1, 0, 0, 0, 1, 0, 0, 1, 1, 1, 1, 1, 1, 1, 0, 1, 1, 1, 1, 1,\n",
       "       1, 0, 1, 0, 0, 1, 0, 0, 1, 1, 0, 0, 0, 0, 1, 0, 0, 1, 1, 1, 1, 0,\n",
       "       1, 1, 0, 0, 1, 1, 0, 1, 0, 0, 0, 0, 0, 0, 0, 0, 1, 0, 0, 1, 0, 1,\n",
       "       1, 0, 1, 1, 0, 1, 1, 0, 0, 1, 0, 0, 1, 0, 0, 0, 1, 1, 0, 1, 1, 1,\n",
       "       0, 0, 1, 0, 1, 1, 0, 1, 1, 0, 0, 1, 0, 0, 1, 0, 0, 1, 0, 0, 0, 1,\n",
       "       0, 0, 1, 1, 1, 0, 1, 1, 0, 1, 1, 0, 0, 1, 0, 0, 1, 1, 0, 0, 1, 0,\n",
       "       1, 1, 0, 1, 1, 0, 1, 1, 0, 0, 1, 1, 0, 0])"
      ]
     },
     "execution_count": 48,
     "metadata": {},
     "output_type": "execute_result"
    }
   ],
   "source": [
    "display(len(hash_output))\n",
    "\n",
    "hash_output[0]"
   ]
  },
  {
   "cell_type": "code",
   "execution_count": 26,
   "metadata": {},
   "outputs": [],
   "source": [
    "img_string_input = 'das_images/das_images/{}'.format(img_sample[1])"
   ]
  },
  {
   "cell_type": "code",
   "execution_count": 46,
   "metadata": {
    "collapsed": true,
    "jupyter": {
     "outputs_hidden": true
    }
   },
   "outputs": [
    {
     "data": {
      "text/plain": [
       "array([[0, 1, 1, 1, 1, 0, 0, 1, 1, 0, 1, 0, 0, 1, 1, 0],\n",
       "       [1, 0, 1, 0, 0, 1, 0, 0, 1, 0, 1, 1, 1, 0, 0, 1],\n",
       "       [1, 0, 1, 1, 0, 0, 1, 0, 1, 1, 0, 1, 0, 1, 1, 0],\n",
       "       [1, 0, 0, 1, 1, 0, 1, 1, 0, 0, 1, 0, 0, 0, 1, 1],\n",
       "       [1, 0, 0, 1, 0, 0, 1, 1, 0, 0, 0, 0, 1, 1, 0, 1],\n",
       "       [1, 0, 1, 1, 0, 0, 0, 1, 1, 0, 0, 1, 0, 0, 1, 0],\n",
       "       [0, 0, 1, 0, 1, 1, 0, 1, 0, 0, 1, 1, 1, 0, 1, 1],\n",
       "       [1, 1, 0, 0, 1, 1, 0, 0, 1, 1, 0, 0, 1, 1, 0, 1],\n",
       "       [1, 0, 1, 0, 0, 1, 0, 0, 0, 1, 0, 0, 1, 0, 1, 1],\n",
       "       [1, 1, 0, 0, 1, 0, 0, 1, 0, 0, 1, 1, 0, 1, 0, 0],\n",
       "       [1, 0, 1, 1, 1, 0, 0, 1, 0, 1, 0, 0, 1, 0, 1, 1],\n",
       "       [0, 1, 1, 1, 0, 0, 1, 1, 1, 0, 0, 1, 0, 1, 1, 1],\n",
       "       [0, 0, 0, 0, 1, 1, 1, 1, 0, 0, 1, 1, 0, 1, 0, 0],\n",
       "       [0, 0, 0, 0, 1, 1, 0, 0, 0, 1, 1, 0, 1, 1, 0, 1],\n",
       "       [0, 1, 0, 0, 1, 1, 1, 0, 1, 1, 1, 1, 0, 0, 0, 1],\n",
       "       [0, 0, 0, 1, 0, 0, 1, 1, 0, 0, 1, 1, 0, 0, 1, 0]])"
      ]
     },
     "execution_count": 46,
     "metadata": {},
     "output_type": "execute_result"
    }
   ],
   "source": [
    "# Print them in a 16*16 format\n",
    "findHasher.prettyHash(hash_output[0])"
   ]
  },
  {
   "cell_type": "code",
   "execution_count": null,
   "metadata": {},
   "outputs": [],
   "source": [
    "import multiprocessing\n",
    "\n",
    "p = multiprocessing.pool()\n",
    "\n",
    "\n",
    "\n",
    "\n"
   ]
  },
  {
   "cell_type": "code",
   "execution_count": null,
   "metadata": {},
   "outputs": [],
   "source": [
    "# first pip install opencv or pip install cv2 but probably conda install opencv\n",
    "# then import cv2\n",
    "\n",
    "# "
   ]
  },
  {
   "cell_type": "code",
   "execution_count": null,
   "metadata": {},
   "outputs": [],
   "source": [
    "# Accuracy of the box filter vs the other filters \n",
    "\n",
    "# The simplest way might be to randomly pull Y from the list of X different meme classes (say 30 from each of the classes we pick) and then compute the hashes \n",
    "# After computing the hashes "
   ]
  },
  {
   "cell_type": "markdown",
   "metadata": {},
   "source": [
    "# Note that old mate recommended optimising fill float luma with a numpy dot product rather than just the repeated loops\n",
    "\n",
    "\n",
    "### benchmarking\n",
    "\n",
    "# recommended creating functions \n",
    "\n",
    "# each file you've got a function thatyou would from find_dcopy.py such as thisversion_call \n",
    "\n",
    "# got read images as a function\n",
    "\n",
    "# benchmakring that calls read iages for a specified  number of calls. recall that assignment said to  \n",
    "\n",
    "\n",
    "\n",
    "\n",
    "seems pretty clear there is an IO bottleneck and a CPU bottleneck, but no memory bottleneck"
   ]
  }
 ],
 "metadata": {
  "kernelspec": {
   "display_name": "Python 3",
   "language": "python",
   "name": "python3"
  },
  "language_info": {
   "codemirror_mode": {
    "name": "ipython",
    "version": 3
   },
   "file_extension": ".py",
   "mimetype": "text/x-python",
   "name": "python",
   "nbconvert_exporter": "python",
   "pygments_lexer": "ipython3",
   "version": "3.7.3"
  }
 },
 "nbformat": 4,
 "nbformat_minor": 4
}
