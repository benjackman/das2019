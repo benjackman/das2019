{
 "cells": [
  {
   "cell_type": "code",
   "execution_count": null,
   "metadata": {},
   "outputs": [],
   "source": [
    "%pylab inline"
   ]
  },
  {
   "cell_type": "code",
   "execution_count": null,
   "metadata": {},
   "outputs": [],
   "source": [
    "%load_ext memory_profiler"
   ]
  },
  {
   "cell_type": "code",
   "execution_count": 1,
   "metadata": {},
   "outputs": [],
   "source": [
    "from FINd import FINDHasher\n",
    "from FINd import benchmarking_basic\n",
    "from FINd import read_images_from_file\n",
    "import imagehash\n",
    "from PIL import Image\n"
   ]
  },
  {
   "cell_type": "code",
   "execution_count": 2,
   "metadata": {},
   "outputs": [],
   "source": [
    "from FINd_numba import FINDHasher_1\n",
    "from FINd_numba import benchmarking_basic_1"
   ]
  },
  {
   "cell_type": "code",
   "execution_count": 3,
   "metadata": {},
   "outputs": [],
   "source": [
    "from FINd_fillfloatluma import FINDHasher_2\n",
    "from FINd_fillfloatluma import benchmarking_basic_2"
   ]
  },
  {
   "cell_type": "code",
   "execution_count": 16,
   "metadata": {},
   "outputs": [],
   "source": [
    "from FINd_Copy4 import FINDHasher_4\n",
    "from FINd_Copy4 import benchmarking_basic_4"
   ]
  },
  {
   "cell_type": "code",
   "execution_count": 17,
   "metadata": {},
   "outputs": [],
   "source": [
    "import time\n",
    "import os\n",
    "from random import sample\n",
    "import numpy as np\n",
    "\n",
    "import matplotlib.pyplot as plt\n",
    "\n",
    "import itertools\n",
    "\n",
    "import multiprocessing"
   ]
  },
  {
   "cell_type": "code",
   "execution_count": null,
   "metadata": {},
   "outputs": [],
   "source": [
    "path = 'C:/Users/benja/Desktop/Oxford/Summatives/das2019/das_images/das_images'\n",
    "\n",
    "# This might work if I have issues in future?\n",
    "%run FINd.py\n",
    "from FINd import benchmarking_basic"
   ]
  },
  {
   "cell_type": "markdown",
   "metadata": {},
   "source": [
    "Optimisation Numba Profile"
   ]
  },
  {
   "cell_type": "code",
   "execution_count": 4,
   "metadata": {},
   "outputs": [
    {
     "name": "stdout",
     "output_type": "stream",
     "text": [
      "3.52 s ± 97.4 ms per loop (mean ± std. dev. of 7 runs, 1 loop each)\n"
     ]
    },
    {
     "ename": "KeyboardInterrupt",
     "evalue": "",
     "output_type": "error",
     "traceback": [
      "\u001b[1;31m---------------------------------------------------------------------------\u001b[0m",
      "\u001b[1;31mKeyboardInterrupt\u001b[0m                         Traceback (most recent call last)",
      "\u001b[1;32m<ipython-input-4-665a840fd3e6>\u001b[0m in \u001b[0;36m<module>\u001b[1;34m\u001b[0m\n\u001b[0;32m      5\u001b[0m \u001b[1;31m# Loop through the different numbers of hashes and store the %timeit results\u001b[0m\u001b[1;33m\u001b[0m\u001b[1;33m\u001b[0m\u001b[1;33m\u001b[0m\u001b[0m\n\u001b[0;32m      6\u001b[0m \u001b[1;32mfor\u001b[0m \u001b[0mi\u001b[0m \u001b[1;32min\u001b[0m \u001b[0mimage_counts\u001b[0m\u001b[1;33m:\u001b[0m\u001b[1;33m\u001b[0m\u001b[1;33m\u001b[0m\u001b[0m\n\u001b[1;32m----> 7\u001b[1;33m     \u001b[0mresult\u001b[0m \u001b[1;33m=\u001b[0m \u001b[0mget_ipython\u001b[0m\u001b[1;33m(\u001b[0m\u001b[1;33m)\u001b[0m\u001b[1;33m.\u001b[0m\u001b[0mrun_line_magic\u001b[0m\u001b[1;33m(\u001b[0m\u001b[1;34m'timeit'\u001b[0m\u001b[1;33m,\u001b[0m \u001b[1;34m'-o rand_hashes = benchmarking_basic(i)'\u001b[0m\u001b[1;33m)\u001b[0m\u001b[1;33m\u001b[0m\u001b[1;33m\u001b[0m\u001b[0m\n\u001b[0m\u001b[0;32m      8\u001b[0m     \u001b[0mresults\u001b[0m\u001b[1;33m.\u001b[0m\u001b[0mappend\u001b[0m\u001b[1;33m(\u001b[0m\u001b[0mresult\u001b[0m\u001b[1;33m)\u001b[0m\u001b[1;33m\u001b[0m\u001b[1;33m\u001b[0m\u001b[0m\n\u001b[0;32m      9\u001b[0m \u001b[1;33m\u001b[0m\u001b[0m\n",
      "\u001b[1;32mC:\\ProgramData\\Anaconda3\\lib\\site-packages\\IPython\\core\\interactiveshell.py\u001b[0m in \u001b[0;36mrun_line_magic\u001b[1;34m(self, magic_name, line, _stack_depth)\u001b[0m\n\u001b[0;32m   2312\u001b[0m                 \u001b[0mkwargs\u001b[0m\u001b[1;33m[\u001b[0m\u001b[1;34m'local_ns'\u001b[0m\u001b[1;33m]\u001b[0m \u001b[1;33m=\u001b[0m \u001b[0msys\u001b[0m\u001b[1;33m.\u001b[0m\u001b[0m_getframe\u001b[0m\u001b[1;33m(\u001b[0m\u001b[0mstack_depth\u001b[0m\u001b[1;33m)\u001b[0m\u001b[1;33m.\u001b[0m\u001b[0mf_locals\u001b[0m\u001b[1;33m\u001b[0m\u001b[1;33m\u001b[0m\u001b[0m\n\u001b[0;32m   2313\u001b[0m             \u001b[1;32mwith\u001b[0m \u001b[0mself\u001b[0m\u001b[1;33m.\u001b[0m\u001b[0mbuiltin_trap\u001b[0m\u001b[1;33m:\u001b[0m\u001b[1;33m\u001b[0m\u001b[1;33m\u001b[0m\u001b[0m\n\u001b[1;32m-> 2314\u001b[1;33m                 \u001b[0mresult\u001b[0m \u001b[1;33m=\u001b[0m \u001b[0mfn\u001b[0m\u001b[1;33m(\u001b[0m\u001b[1;33m*\u001b[0m\u001b[0margs\u001b[0m\u001b[1;33m,\u001b[0m \u001b[1;33m**\u001b[0m\u001b[0mkwargs\u001b[0m\u001b[1;33m)\u001b[0m\u001b[1;33m\u001b[0m\u001b[1;33m\u001b[0m\u001b[0m\n\u001b[0m\u001b[0;32m   2315\u001b[0m             \u001b[1;32mreturn\u001b[0m \u001b[0mresult\u001b[0m\u001b[1;33m\u001b[0m\u001b[1;33m\u001b[0m\u001b[0m\n\u001b[0;32m   2316\u001b[0m \u001b[1;33m\u001b[0m\u001b[0m\n",
      "\u001b[1;32m<C:\\ProgramData\\Anaconda3\\lib\\site-packages\\decorator.py:decorator-gen-61>\u001b[0m in \u001b[0;36mtimeit\u001b[1;34m(self, line, cell, local_ns)\u001b[0m\n",
      "\u001b[1;32mC:\\ProgramData\\Anaconda3\\lib\\site-packages\\IPython\\core\\magic.py\u001b[0m in \u001b[0;36m<lambda>\u001b[1;34m(f, *a, **k)\u001b[0m\n\u001b[0;32m    185\u001b[0m     \u001b[1;31m# but it's overkill for just that one bit of state.\u001b[0m\u001b[1;33m\u001b[0m\u001b[1;33m\u001b[0m\u001b[1;33m\u001b[0m\u001b[0m\n\u001b[0;32m    186\u001b[0m     \u001b[1;32mdef\u001b[0m \u001b[0mmagic_deco\u001b[0m\u001b[1;33m(\u001b[0m\u001b[0marg\u001b[0m\u001b[1;33m)\u001b[0m\u001b[1;33m:\u001b[0m\u001b[1;33m\u001b[0m\u001b[1;33m\u001b[0m\u001b[0m\n\u001b[1;32m--> 187\u001b[1;33m         \u001b[0mcall\u001b[0m \u001b[1;33m=\u001b[0m \u001b[1;32mlambda\u001b[0m \u001b[0mf\u001b[0m\u001b[1;33m,\u001b[0m \u001b[1;33m*\u001b[0m\u001b[0ma\u001b[0m\u001b[1;33m,\u001b[0m \u001b[1;33m**\u001b[0m\u001b[0mk\u001b[0m\u001b[1;33m:\u001b[0m \u001b[0mf\u001b[0m\u001b[1;33m(\u001b[0m\u001b[1;33m*\u001b[0m\u001b[0ma\u001b[0m\u001b[1;33m,\u001b[0m \u001b[1;33m**\u001b[0m\u001b[0mk\u001b[0m\u001b[1;33m)\u001b[0m\u001b[1;33m\u001b[0m\u001b[1;33m\u001b[0m\u001b[0m\n\u001b[0m\u001b[0;32m    188\u001b[0m \u001b[1;33m\u001b[0m\u001b[0m\n\u001b[0;32m    189\u001b[0m         \u001b[1;32mif\u001b[0m \u001b[0mcallable\u001b[0m\u001b[1;33m(\u001b[0m\u001b[0marg\u001b[0m\u001b[1;33m)\u001b[0m\u001b[1;33m:\u001b[0m\u001b[1;33m\u001b[0m\u001b[1;33m\u001b[0m\u001b[0m\n",
      "\u001b[1;32mC:\\ProgramData\\Anaconda3\\lib\\site-packages\\IPython\\core\\magics\\execution.py\u001b[0m in \u001b[0;36mtimeit\u001b[1;34m(self, line, cell, local_ns)\u001b[0m\n\u001b[0;32m   1160\u001b[0m                     \u001b[1;32mbreak\u001b[0m\u001b[1;33m\u001b[0m\u001b[1;33m\u001b[0m\u001b[0m\n\u001b[0;32m   1161\u001b[0m \u001b[1;33m\u001b[0m\u001b[0m\n\u001b[1;32m-> 1162\u001b[1;33m         \u001b[0mall_runs\u001b[0m \u001b[1;33m=\u001b[0m \u001b[0mtimer\u001b[0m\u001b[1;33m.\u001b[0m\u001b[0mrepeat\u001b[0m\u001b[1;33m(\u001b[0m\u001b[0mrepeat\u001b[0m\u001b[1;33m,\u001b[0m \u001b[0mnumber\u001b[0m\u001b[1;33m)\u001b[0m\u001b[1;33m\u001b[0m\u001b[1;33m\u001b[0m\u001b[0m\n\u001b[0m\u001b[0;32m   1163\u001b[0m         \u001b[0mbest\u001b[0m \u001b[1;33m=\u001b[0m \u001b[0mmin\u001b[0m\u001b[1;33m(\u001b[0m\u001b[0mall_runs\u001b[0m\u001b[1;33m)\u001b[0m \u001b[1;33m/\u001b[0m \u001b[0mnumber\u001b[0m\u001b[1;33m\u001b[0m\u001b[1;33m\u001b[0m\u001b[0m\n\u001b[0;32m   1164\u001b[0m         \u001b[0mworst\u001b[0m \u001b[1;33m=\u001b[0m \u001b[0mmax\u001b[0m\u001b[1;33m(\u001b[0m\u001b[0mall_runs\u001b[0m\u001b[1;33m)\u001b[0m \u001b[1;33m/\u001b[0m \u001b[0mnumber\u001b[0m\u001b[1;33m\u001b[0m\u001b[1;33m\u001b[0m\u001b[0m\n",
      "\u001b[1;32mC:\\ProgramData\\Anaconda3\\lib\\timeit.py\u001b[0m in \u001b[0;36mrepeat\u001b[1;34m(self, repeat, number)\u001b[0m\n\u001b[0;32m    202\u001b[0m         \u001b[0mr\u001b[0m \u001b[1;33m=\u001b[0m \u001b[1;33m[\u001b[0m\u001b[1;33m]\u001b[0m\u001b[1;33m\u001b[0m\u001b[1;33m\u001b[0m\u001b[0m\n\u001b[0;32m    203\u001b[0m         \u001b[1;32mfor\u001b[0m \u001b[0mi\u001b[0m \u001b[1;32min\u001b[0m \u001b[0mrange\u001b[0m\u001b[1;33m(\u001b[0m\u001b[0mrepeat\u001b[0m\u001b[1;33m)\u001b[0m\u001b[1;33m:\u001b[0m\u001b[1;33m\u001b[0m\u001b[1;33m\u001b[0m\u001b[0m\n\u001b[1;32m--> 204\u001b[1;33m             \u001b[0mt\u001b[0m \u001b[1;33m=\u001b[0m \u001b[0mself\u001b[0m\u001b[1;33m.\u001b[0m\u001b[0mtimeit\u001b[0m\u001b[1;33m(\u001b[0m\u001b[0mnumber\u001b[0m\u001b[1;33m)\u001b[0m\u001b[1;33m\u001b[0m\u001b[1;33m\u001b[0m\u001b[0m\n\u001b[0m\u001b[0;32m    205\u001b[0m             \u001b[0mr\u001b[0m\u001b[1;33m.\u001b[0m\u001b[0mappend\u001b[0m\u001b[1;33m(\u001b[0m\u001b[0mt\u001b[0m\u001b[1;33m)\u001b[0m\u001b[1;33m\u001b[0m\u001b[1;33m\u001b[0m\u001b[0m\n\u001b[0;32m    206\u001b[0m         \u001b[1;32mreturn\u001b[0m \u001b[0mr\u001b[0m\u001b[1;33m\u001b[0m\u001b[1;33m\u001b[0m\u001b[0m\n",
      "\u001b[1;32mC:\\ProgramData\\Anaconda3\\lib\\site-packages\\IPython\\core\\magics\\execution.py\u001b[0m in \u001b[0;36mtimeit\u001b[1;34m(self, number)\u001b[0m\n\u001b[0;32m    167\u001b[0m         \u001b[0mgc\u001b[0m\u001b[1;33m.\u001b[0m\u001b[0mdisable\u001b[0m\u001b[1;33m(\u001b[0m\u001b[1;33m)\u001b[0m\u001b[1;33m\u001b[0m\u001b[1;33m\u001b[0m\u001b[0m\n\u001b[0;32m    168\u001b[0m         \u001b[1;32mtry\u001b[0m\u001b[1;33m:\u001b[0m\u001b[1;33m\u001b[0m\u001b[1;33m\u001b[0m\u001b[0m\n\u001b[1;32m--> 169\u001b[1;33m             \u001b[0mtiming\u001b[0m \u001b[1;33m=\u001b[0m \u001b[0mself\u001b[0m\u001b[1;33m.\u001b[0m\u001b[0minner\u001b[0m\u001b[1;33m(\u001b[0m\u001b[0mit\u001b[0m\u001b[1;33m,\u001b[0m \u001b[0mself\u001b[0m\u001b[1;33m.\u001b[0m\u001b[0mtimer\u001b[0m\u001b[1;33m)\u001b[0m\u001b[1;33m\u001b[0m\u001b[1;33m\u001b[0m\u001b[0m\n\u001b[0m\u001b[0;32m    170\u001b[0m         \u001b[1;32mfinally\u001b[0m\u001b[1;33m:\u001b[0m\u001b[1;33m\u001b[0m\u001b[1;33m\u001b[0m\u001b[0m\n\u001b[0;32m    171\u001b[0m             \u001b[1;32mif\u001b[0m \u001b[0mgcold\u001b[0m\u001b[1;33m:\u001b[0m\u001b[1;33m\u001b[0m\u001b[1;33m\u001b[0m\u001b[0m\n",
      "\u001b[1;32m<magic-timeit>\u001b[0m in \u001b[0;36minner\u001b[1;34m(_it, _timer)\u001b[0m\n",
      "\u001b[1;32m~\\Desktop\\Oxford\\Summatives\\das2019\\FINd.py\u001b[0m in \u001b[0;36mbenchmarking_basic\u001b[1;34m(nums, path)\u001b[0m\n\u001b[0;32m    217\u001b[0m     \u001b[1;32mfor\u001b[0m \u001b[0mi\u001b[0m \u001b[1;32min\u001b[0m \u001b[0mrange\u001b[0m\u001b[1;33m(\u001b[0m\u001b[1;36m0\u001b[0m\u001b[1;33m,\u001b[0m \u001b[0mlen\u001b[0m\u001b[1;33m(\u001b[0m\u001b[0mimg_sample\u001b[0m\u001b[1;33m)\u001b[0m\u001b[1;33m)\u001b[0m\u001b[1;33m:\u001b[0m\u001b[1;33m\u001b[0m\u001b[1;33m\u001b[0m\u001b[0m\n\u001b[0;32m    218\u001b[0m         \u001b[0mimg_string_input\u001b[0m \u001b[1;33m=\u001b[0m \u001b[0mpath\u001b[0m \u001b[1;33m+\u001b[0m \u001b[1;34m'/{}'\u001b[0m\u001b[1;33m.\u001b[0m\u001b[0mformat\u001b[0m\u001b[1;33m(\u001b[0m\u001b[0mimg_sample\u001b[0m\u001b[1;33m[\u001b[0m\u001b[0mi\u001b[0m\u001b[1;33m]\u001b[0m\u001b[1;33m)\u001b[0m\u001b[1;33m\u001b[0m\u001b[1;33m\u001b[0m\u001b[0m\n\u001b[1;32m--> 219\u001b[1;33m         \u001b[0mtemp_hash\u001b[0m \u001b[1;33m=\u001b[0m \u001b[0mhasher\u001b[0m\u001b[1;33m.\u001b[0m\u001b[0mfromFile\u001b[0m\u001b[1;33m(\u001b[0m\u001b[0mimg_string_input\u001b[0m\u001b[1;33m)\u001b[0m\u001b[1;33m\u001b[0m\u001b[1;33m\u001b[0m\u001b[0m\n\u001b[0m\u001b[0;32m    220\u001b[0m         \u001b[0mhash_list\u001b[0m\u001b[1;33m.\u001b[0m\u001b[0mappend\u001b[0m\u001b[1;33m(\u001b[0m\u001b[0mtemp_hash\u001b[0m\u001b[1;33m)\u001b[0m\u001b[1;33m\u001b[0m\u001b[1;33m\u001b[0m\u001b[0m\n\u001b[0;32m    221\u001b[0m         \u001b[0mtemp_hash\u001b[0m \u001b[1;33m=\u001b[0m \u001b[1;33m[\u001b[0m\u001b[1;33m]\u001b[0m\u001b[1;33m\u001b[0m\u001b[1;33m\u001b[0m\u001b[0m\n",
      "\u001b[1;32m~\\Desktop\\Oxford\\Summatives\\das2019\\FINd.py\u001b[0m in \u001b[0;36mfromFile\u001b[1;34m(self, filepath)\u001b[0m\n\u001b[0;32m     45\u001b[0m                 \u001b[1;32mexcept\u001b[0m \u001b[0mIOError\u001b[0m \u001b[1;32mas\u001b[0m \u001b[0me\u001b[0m\u001b[1;33m:\u001b[0m\u001b[1;33m\u001b[0m\u001b[1;33m\u001b[0m\u001b[0m\n\u001b[0;32m     46\u001b[0m                         \u001b[1;32mraise\u001b[0m \u001b[0me\u001b[0m\u001b[1;33m\u001b[0m\u001b[1;33m\u001b[0m\u001b[0m\n\u001b[1;32m---> 47\u001b[1;33m                 \u001b[1;32mreturn\u001b[0m \u001b[0mself\u001b[0m\u001b[1;33m.\u001b[0m\u001b[0mfromImage\u001b[0m\u001b[1;33m(\u001b[0m\u001b[0mimg\u001b[0m\u001b[1;33m)\u001b[0m\u001b[1;33m\u001b[0m\u001b[1;33m\u001b[0m\u001b[0m\n\u001b[0m\u001b[0;32m     48\u001b[0m \u001b[1;33m\u001b[0m\u001b[0m\n\u001b[0;32m     49\u001b[0m         \u001b[1;32mdef\u001b[0m \u001b[0mfromImage\u001b[0m\u001b[1;33m(\u001b[0m\u001b[0mself\u001b[0m\u001b[1;33m,\u001b[0m\u001b[0mimg\u001b[0m\u001b[1;33m)\u001b[0m\u001b[1;33m:\u001b[0m\u001b[1;33m\u001b[0m\u001b[1;33m\u001b[0m\u001b[0m\n",
      "\u001b[1;32m~\\Desktop\\Oxford\\Summatives\\das2019\\FINd.py\u001b[0m in \u001b[0;36mfromImage\u001b[1;34m(self, img)\u001b[0m\n\u001b[0;32m     63\u001b[0m                 \u001b[0mself\u001b[0m\u001b[1;33m.\u001b[0m\u001b[0mfillFloatLumaFromBufferImage\u001b[0m\u001b[1;33m(\u001b[0m\u001b[0mimg\u001b[0m\u001b[1;33m,\u001b[0m \u001b[0mbuffer1\u001b[0m\u001b[1;33m)\u001b[0m\u001b[1;33m\u001b[0m\u001b[1;33m\u001b[0m\u001b[0m\n\u001b[0;32m     64\u001b[0m \t\treturn self.findHash256FromFloatLuma(\n\u001b[1;32m---> 65\u001b[1;33m                         \u001b[0mbuffer1\u001b[0m\u001b[1;33m,\u001b[0m \u001b[0mbuffer2\u001b[0m\u001b[1;33m,\u001b[0m \u001b[0mnumRows\u001b[0m\u001b[1;33m,\u001b[0m \u001b[0mnumCols\u001b[0m\u001b[1;33m,\u001b[0m \u001b[0mbuffer64x64\u001b[0m\u001b[1;33m,\u001b[0m \u001b[0mbuffer16x64\u001b[0m\u001b[1;33m,\u001b[0m \u001b[0mbuffer16x16\u001b[0m\u001b[1;33m\u001b[0m\u001b[1;33m\u001b[0m\u001b[0m\n\u001b[0m\u001b[0;32m     66\u001b[0m \t\t)\n\u001b[0;32m     67\u001b[0m \u001b[1;33m\u001b[0m\u001b[0m\n",
      "\u001b[1;32m~\\Desktop\\Oxford\\Summatives\\das2019\\FINd.py\u001b[0m in \u001b[0;36mfindHash256FromFloatLuma\u001b[1;34m(self, fullBuffer1, fullBuffer2, numRows, numCols, buffer64x64, buffer16x64, buffer16x16)\u001b[0m\n\u001b[0;32m     97\u001b[0m                 \u001b[0mwindowSizeAlongCols\u001b[0m \u001b[1;33m=\u001b[0m \u001b[0mself\u001b[0m\u001b[1;33m.\u001b[0m\u001b[0mcomputeBoxFilterWindowSize\u001b[0m\u001b[1;33m(\u001b[0m\u001b[0mnumRows\u001b[0m\u001b[1;33m)\u001b[0m\u001b[1;33m\u001b[0m\u001b[1;33m\u001b[0m\u001b[0m\n\u001b[0;32m     98\u001b[0m \u001b[1;33m\u001b[0m\u001b[0m\n\u001b[1;32m---> 99\u001b[1;33m                 \u001b[0mself\u001b[0m\u001b[1;33m.\u001b[0m\u001b[0mboxFilter\u001b[0m\u001b[1;33m(\u001b[0m\u001b[0mfullBuffer1\u001b[0m\u001b[1;33m,\u001b[0m\u001b[0mfullBuffer2\u001b[0m\u001b[1;33m,\u001b[0m\u001b[0mnumRows\u001b[0m\u001b[1;33m,\u001b[0m\u001b[0mnumCols\u001b[0m\u001b[1;33m,\u001b[0m\u001b[0mwindowSizeAlongRows\u001b[0m\u001b[1;33m,\u001b[0m\u001b[0mwindowSizeAlongCols\u001b[0m\u001b[1;33m)\u001b[0m\u001b[1;33m\u001b[0m\u001b[1;33m\u001b[0m\u001b[0m\n\u001b[0m\u001b[0;32m    100\u001b[0m                 \u001b[0mfullBuffer1\u001b[0m\u001b[1;33m=\u001b[0m\u001b[0mfullBuffer2\u001b[0m\u001b[1;33m\u001b[0m\u001b[1;33m\u001b[0m\u001b[0m\n\u001b[0;32m    101\u001b[0m \u001b[1;33m\u001b[0m\u001b[0m\n",
      "\u001b[1;32m~\\Desktop\\Oxford\\Summatives\\das2019\\FINd.py\u001b[0m in \u001b[0;36mboxFilter\u001b[1;34m(cls, input, output, rows, cols, rowWin, colWin)\u001b[0m\n\u001b[0;32m    185\u001b[0m                                 \u001b[1;32mfor\u001b[0m \u001b[0mk\u001b[0m \u001b[1;32min\u001b[0m \u001b[0mrange\u001b[0m\u001b[1;33m(\u001b[0m\u001b[0mxmin\u001b[0m\u001b[1;33m,\u001b[0m\u001b[0mxmax\u001b[0m\u001b[1;33m)\u001b[0m\u001b[1;33m:\u001b[0m\u001b[1;33m\u001b[0m\u001b[1;33m\u001b[0m\u001b[0m\n\u001b[0;32m    186\u001b[0m                                         \u001b[1;32mfor\u001b[0m \u001b[0ml\u001b[0m \u001b[1;32min\u001b[0m \u001b[0mrange\u001b[0m\u001b[1;33m(\u001b[0m\u001b[0mymin\u001b[0m\u001b[1;33m,\u001b[0m\u001b[0mymax\u001b[0m\u001b[1;33m)\u001b[0m\u001b[1;33m:\u001b[0m\u001b[1;33m\u001b[0m\u001b[1;33m\u001b[0m\u001b[0m\n\u001b[1;32m--> 187\u001b[1;33m                                                 \u001b[0ms\u001b[0m\u001b[1;33m+=\u001b[0m\u001b[0minput\u001b[0m\u001b[1;33m[\u001b[0m\u001b[0mk\u001b[0m\u001b[1;33m*\u001b[0m\u001b[0mrows\u001b[0m\u001b[1;33m+\u001b[0m\u001b[0ml\u001b[0m\u001b[1;33m]\u001b[0m\u001b[1;33m\u001b[0m\u001b[1;33m\u001b[0m\u001b[0m\n\u001b[0m\u001b[0;32m    188\u001b[0m                                 \u001b[0moutput\u001b[0m\u001b[1;33m[\u001b[0m\u001b[0mi\u001b[0m\u001b[1;33m*\u001b[0m\u001b[0mrows\u001b[0m\u001b[1;33m+\u001b[0m\u001b[0mj\u001b[0m\u001b[1;33m]\u001b[0m\u001b[1;33m=\u001b[0m\u001b[0ms\u001b[0m\u001b[1;33m/\u001b[0m\u001b[1;33m(\u001b[0m\u001b[1;33m(\u001b[0m\u001b[0mxmax\u001b[0m\u001b[1;33m-\u001b[0m\u001b[0mxmin\u001b[0m\u001b[1;33m)\u001b[0m\u001b[1;33m*\u001b[0m\u001b[1;33m(\u001b[0m\u001b[0mymax\u001b[0m\u001b[1;33m-\u001b[0m\u001b[0mymin\u001b[0m\u001b[1;33m)\u001b[0m\u001b[1;33m)\u001b[0m\u001b[1;33m\u001b[0m\u001b[1;33m\u001b[0m\u001b[0m\n\u001b[0;32m    189\u001b[0m \u001b[1;33m\u001b[0m\u001b[0m\n",
      "\u001b[1;31mKeyboardInterrupt\u001b[0m: "
     ]
    }
   ],
   "source": [
    "# Image numbers to hash and result list\n",
    "image_counts = [5, 10, 20, 40]\n",
    "results = []\n",
    "\n",
    "# Loop through the different numbers of hashes and store the %timeit results\n",
    "for i in image_counts:\n",
    "    result = %timeit -o rand_hashes = benchmarking_basic(i)\n",
    "    results.append(result)\n",
    "\n",
    "# Extract the mean run times from the %timeit object\n",
    "mean_times = []\n",
    "for i in range(0, len(results)):\n",
    "    mean_times.append(np.mean(results[i].all_runs))"
   ]
  },
  {
   "cell_type": "code",
   "execution_count": null,
   "metadata": {},
   "outputs": [],
   "source": [
    "benchmarking_basic(1)"
   ]
  },
  {
   "cell_type": "code",
   "execution_count": null,
   "metadata": {},
   "outputs": [],
   "source": [
    "benchmarking_basic_4(2)"
   ]
  },
  {
   "cell_type": "code",
   "execution_count": null,
   "metadata": {},
   "outputs": [],
   "source": [
    "read_images_from_file(5, path)"
   ]
  },
  {
   "cell_type": "code",
   "execution_count": null,
   "metadata": {},
   "outputs": [],
   "source": [
    "%memit benchmarking_basic(5)"
   ]
  },
  {
   "cell_type": "code",
   "execution_count": null,
   "metadata": {},
   "outputs": [],
   "source": [
    "%mprun -f benchmarking_basic benchmarking_basic(1)"
   ]
  },
  {
   "cell_type": "code",
   "execution_count": null,
   "metadata": {},
   "outputs": [],
   "source": [
    "timing_results = []"
   ]
  },
  {
   "cell_type": "code",
   "execution_count": null,
   "metadata": {},
   "outputs": [],
   "source": [
    "# %%timeit -o\n",
    "results = []\n",
    "list_hash = [2,4,6]\n",
    "for i in list_hash:\n",
    "    result = %timeit -o rand_hashes = benchmarking_basic(i)\n",
    "    results.append(result)\n",
    "\n",
    "results"
   ]
  },
  {
   "cell_type": "code",
   "execution_count": null,
   "metadata": {},
   "outputs": [],
   "source": [
    "mean_times = []\n",
    "for i in range(0, len(results)):\n",
    "    mean_times.append(np.mean(results[i].all_runs))\n",
    "\n",
    "mean_times"
   ]
  },
  {
   "cell_type": "code",
   "execution_count": null,
   "metadata": {},
   "outputs": [],
   "source": [
    "plt.plot(mean_times)"
   ]
  },
  {
   "cell_type": "code",
   "execution_count": null,
   "metadata": {},
   "outputs": [],
   "source": [
    "results = []\n",
    "list_hash = [2,4,6]\n",
    "for i in list_hash:\n",
    "    result = %timeit -o rand_hashes = benchmarking_basic_1(i)\n",
    "    results.append(result)\n",
    "\n",
    "results"
   ]
  },
  {
   "cell_type": "code",
   "execution_count": null,
   "metadata": {},
   "outputs": [],
   "source": [
    "mean_times = []\n",
    "for i in range(0, len(results)):\n",
    "    mean_times.append(np.mean(results[i].all_runs))\n",
    "\n",
    "mean_times"
   ]
  },
  {
   "cell_type": "code",
   "execution_count": null,
   "metadata": {},
   "outputs": [],
   "source": [
    "np.mean(result.all_runs)"
   ]
  },
  {
   "cell_type": "code",
   "execution_count": null,
   "metadata": {},
   "outputs": [],
   "source": [
    "findHasher_1=FINDHasher_1()"
   ]
  },
  {
   "cell_type": "code",
   "execution_count": null,
   "metadata": {},
   "outputs": [],
   "source": [
    "ex1=findHasher.fromFile(\"das_images/das_images/0040_10318987.jpg\")\n",
    "ex2=findHasher.fromFile(\"das_images/das_images/0040_10321701.jpg\")\n",
    "\n",
    "ex3=findHasher.fromFile(\"das_images/das_images/0120_27768345.jpg\")\n",
    "\n",
    "img=Image.open(\"das_images/das_images/0120_28335973.jpg\")\n",
    "ex4=findHasher.fromImage(img)"
   ]
  },
  {
   "cell_type": "code",
   "execution_count": null,
   "metadata": {},
   "outputs": [],
   "source": [
    "ex1.hash"
   ]
  },
  {
   "cell_type": "code",
   "execution_count": null,
   "metadata": {},
   "outputs": [],
   "source": [
    "print(ex1)"
   ]
  },
  {
   "cell_type": "code",
   "execution_count": null,
   "metadata": {},
   "outputs": [],
   "source": [
    "print(ex2)"
   ]
  },
  {
   "cell_type": "code",
   "execution_count": null,
   "metadata": {},
   "outputs": [],
   "source": [
    "ex1-ex2"
   ]
  },
  {
   "cell_type": "code",
   "execution_count": null,
   "metadata": {},
   "outputs": [],
   "source": [
    "ex3-ex4"
   ]
  },
  {
   "cell_type": "code",
   "execution_count": null,
   "metadata": {},
   "outputs": [],
   "source": [
    "ex1-ex3"
   ]
  },
  {
   "cell_type": "code",
   "execution_count": null,
   "metadata": {},
   "outputs": [],
   "source": [
    "%timeit findHasher.fromFile(\"das_images/das_images/0120_27768345.jpg\")"
   ]
  },
  {
   "cell_type": "code",
   "execution_count": null,
   "metadata": {},
   "outputs": [],
   "source": [
    "%prun findHasher.fromFile(\"das_images/das_images/0120_27768345.jpg\")"
   ]
  },
  {
   "cell_type": "code",
   "execution_count": null,
   "metadata": {},
   "outputs": [],
   "source": [
    "%prun benchmarking_basic(1)"
   ]
  },
  {
   "cell_type": "markdown",
   "metadata": {},
   "source": [
    "# Accuracy Code Below"
   ]
  },
  {
   "cell_type": "markdown",
   "metadata": {},
   "source": [
    "### Accuracy Metric for FindHasher_1"
   ]
  },
  {
   "cell_type": "code",
   "execution_count": 22,
   "metadata": {},
   "outputs": [],
   "source": [
    "findHasher_1=FINDHasher_1()"
   ]
  },
  {
   "cell_type": "code",
   "execution_count": 18,
   "metadata": {},
   "outputs": [],
   "source": [
    "# I want to randomly sample from the list of images to for accuracy distributions\n",
    "# This code reads in a list of all the image filenames in the images folder\n",
    "\n",
    "img_filename_list = []\n",
    "for root, dirs, files in os.walk(r'C:/Users/benja/Desktop/Oxford/Summatives/das2019/das_images/das_images'):\n",
    "    for file in files:\n",
    "        if file.endswith('.jpg'):\n",
    "            img_filename_list.append(file)"
   ]
  },
  {
   "cell_type": "code",
   "execution_count": 19,
   "metadata": {},
   "outputs": [],
   "source": [
    "# generate a list of all the unique meme image groups from the filenames\n",
    "# The image group is specified by the first four digits of the file name\n",
    "\n",
    "list_image_prefixes = []\n",
    "\n",
    "for i in range(0, len(img_filename_list)):\n",
    "    temp_prefix = img_filename_list[i][0:4]\n",
    "    list_image_prefixes.append(temp_prefix)\n",
    "\n",
    "unique_image_groups = set(list_image_prefixes)"
   ]
  },
  {
   "cell_type": "code",
   "execution_count": 20,
   "metadata": {},
   "outputs": [],
   "source": [
    "# Sort the image filenames into their meme families in a dictionary\n",
    "\n",
    "meme_lord_dict = {}\n",
    "for file_name in img_filename_list:\n",
    "    if file_name[0:4] in meme_lord_dict:\n",
    "        meme_lord_dict[file_name[0:4]].append(file_name)\n",
    "    else:\n",
    "        meme_lord_dict[file_name[0:4]]=[file_name]"
   ]
  },
  {
   "cell_type": "code",
   "execution_count": 23,
   "metadata": {
    "collapsed": true,
    "jupyter": {
     "outputs_hidden": true
    }
   },
   "outputs": [
    {
     "name": "stderr",
     "output_type": "stream",
     "text": [
      "C:\\ProgramData\\Anaconda3\\lib\\site-packages\\numba\\ir_utils.py:1969: NumbaPendingDeprecationWarning: \u001b[1m\n",
      "Encountered the use of a type that is scheduled for deprecation: type 'reflected list' found for argument 'input' of function 'faster_boxFilter'.\n",
      "\n",
      "For more information visit http://numba.pydata.org/numba-doc/latest/reference/deprecation.html#deprecation-of-reflection-for-list-and-set-types\n",
      "\u001b[1m\n",
      "File \"FINd_numba.py\", line 15:\u001b[0m\n",
      "\u001b[1m@jit\n",
      "\u001b[1mdef faster_boxFilter(input,output,rows,cols,rowWin,colWin):\n",
      "\u001b[0m\u001b[1m^\u001b[0m\u001b[0m\n",
      "\u001b[0m\n",
      "  warnings.warn(NumbaPendingDeprecationWarning(msg, loc=loc))\n",
      "C:\\ProgramData\\Anaconda3\\lib\\site-packages\\numba\\ir_utils.py:1969: NumbaPendingDeprecationWarning: \u001b[1m\n",
      "Encountered the use of a type that is scheduled for deprecation: type 'reflected list' found for argument 'output' of function 'faster_boxFilter'.\n",
      "\n",
      "For more information visit http://numba.pydata.org/numba-doc/latest/reference/deprecation.html#deprecation-of-reflection-for-list-and-set-types\n",
      "\u001b[1m\n",
      "File \"FINd_numba.py\", line 15:\u001b[0m\n",
      "\u001b[1m@jit\n",
      "\u001b[1mdef faster_boxFilter(input,output,rows,cols,rowWin,colWin):\n",
      "\u001b[0m\u001b[1m^\u001b[0m\u001b[0m\n",
      "\u001b[0m\n",
      "  warnings.warn(NumbaPendingDeprecationWarning(msg, loc=loc))\n"
     ]
    }
   ],
   "source": [
    "# Choose a specified a number of meme families to test within\n",
    "sample_meme_types = sample(meme_lord_dict.keys(), 10)\n",
    "\n",
    "hash_output_dict = {}\n",
    "\n",
    "# Loop over the chosen meme families\n",
    "for i in range(0, len(sample_meme_types)):\n",
    "    \n",
    "    # Choose a specified number of images selected within each meme family to test\n",
    "    img_to_hash = sample(meme_lord_dict[sample_meme_types[i]], 10)\n",
    "    \n",
    "    # Loop over the images in each meme family and store the hashes\n",
    "    for j in range(0, len(img_to_hash)):\n",
    "        img_string_input = 'das_images/das_images/{}'.format(img_to_hash[j])\n",
    "        hash_temp = findHasher_1.fromFile(img_string_input)\n",
    "        \n",
    "        if img_to_hash[j][0:4] in hash_output_dict:\n",
    "            \n",
    "            # If the dictionary already has a key for that image family, just append the hash output\n",
    "            hash_output_dict[img_to_hash[j][0:4]].append(hash_temp)\n",
    "        else:\n",
    "            # If there is no key for that meme family yet, add it and put the hash_temp in\n",
    "            hash_output_dict[img_to_hash[j][0:4]]=[hash_temp]"
   ]
  },
  {
   "cell_type": "code",
   "execution_count": 24,
   "metadata": {},
   "outputs": [],
   "source": [
    "import itertools\n",
    "\n",
    "# Collect all unique-pair intra-meme-family distances\n",
    "\n",
    "# grab the list of meme family keys we \n",
    "keys_list = list(hash_output_dict.keys())\n",
    "\n",
    "hash_dist_temp = []\n",
    "distances_dict = {}\n",
    "\n",
    "for i in range(0, len(keys_list)):\n",
    "    \n",
    "    # Compute all unique distance combinations\n",
    "    for a, b in itertools.combinations(hash_output_dict[keys_list[i]], 2):\n",
    "        temp_dist = a - b\n",
    "        hash_dist_temp.append(temp_dist)\n",
    "    \n",
    "    # pop the hash distance list into the dictionary with the meme family key\n",
    "    distances_dict[keys_list[i]] = [hash_dist_temp]\n",
    "    \n",
    "    # clear hash_dist_temp for next iteration\n",
    "    hash_dist_temp = []"
   ]
  },
  {
   "cell_type": "code",
   "execution_count": null,
   "metadata": {},
   "outputs": [],
   "source": [
    "# Distribution graphs for FINDHasher\n",
    "\n",
    "for i in range(0, len(keys_list)):\n",
    "    plt.figure()\n",
    "    plt.hist(distances_dict[keys_list[i]][0], bins = 20)\n",
    "    plt.suptitle('Hamming Distance Sample Dist., Meme Family {}'.format(i+1), fontsize = 13)\n",
    "    plt.title('Pairwise Distances Within Meme Family', fontsize = 12)\n",
    "    plt.xlabel('Distance', fontsize = 14)\n",
    "    # plt.xticks(np.arange(0,60, 10))\n",
    "    plt.ylabel('Frequency',  fontsize = 14)\n",
    "    plt.savefig('image_docs/hamm_dist_{}.png'.format(i+1), bbox_inches = 'tight')\n",
    "plt.show()"
   ]
  },
  {
   "cell_type": "code",
   "execution_count": 92,
   "metadata": {},
   "outputs": [],
   "source": [
    "final_results_findhasher = []\n",
    "threshold = 50\n",
    "\n",
    "thresh_list = np.arange(0,105,5)\n",
    "\n",
    "for z in range(len(thresh_list)):\n",
    "\n",
    "    results_of_thresh_test = {}\n",
    "\n",
    "\n",
    "    for i in range(len(dist_keys)):\n",
    "\n",
    "        for j in range(len(distances_dict[dist_keys[i]][0])):\n",
    "\n",
    "            if distances_dict[dist_keys[i]][0][j] > thresh_list[z]:\n",
    "                result = 0\n",
    "            else: \n",
    "                result = 1\n",
    "\n",
    "            if dist_keys[i] in results_of_thresh_test:\n",
    "\n",
    "                # If the dictionary already has a key for that image family, just append the hash output\n",
    "                results_of_thresh_test[dist_keys[i]].append(result)\n",
    "            else:\n",
    "                # If there is no key for that meme family yet, add it and put the hash_temp in\n",
    "                results_of_thresh_test[dist_keys[i]]=[result]\n",
    "\n",
    "\n",
    "    result_flat = []\n",
    "    for q in range(len(dist_keys)):\n",
    "\n",
    "        result_array = np.array(results_of_thresh_test[dist_keys[q]])\n",
    "        per_cent = result_array.mean()\n",
    "        result_flat.append(per_cent)\n",
    "\n",
    "    result_flat_grab = np.array(result_flat)\n",
    "\n",
    "\n",
    "    final_results_findhasher.append(result_flat_grab.mean())\n",
    "    #final_results[thresh_list[z]]=[result_flat_grab.mean()]"
   ]
  },
  {
   "cell_type": "code",
   "execution_count": 93,
   "metadata": {
    "collapsed": true,
    "jupyter": {
     "outputs_hidden": true
    }
   },
   "outputs": [
    {
     "data": {
      "text/plain": [
       "[0.008888888888888889,\n",
       " 0.008888888888888889,\n",
       " 0.011111111111111112,\n",
       " 0.011111111111111112,\n",
       " 0.028888888888888888,\n",
       " 0.07555555555555554,\n",
       " 0.14888888888888888,\n",
       " 0.1866666666666667,\n",
       " 0.31111111111111117,\n",
       " 0.4066666666666666,\n",
       " 0.5177777777777777,\n",
       " 0.6266666666666667,\n",
       " 0.7377777777777778,\n",
       " 0.8266666666666665,\n",
       " 0.9066666666666668,\n",
       " 0.9400000000000001,\n",
       " 0.9822222222222223,\n",
       " 0.9911111111111112,\n",
       " 0.9977777777777778,\n",
       " 1.0,\n",
       " 1.0]"
      ]
     },
     "execution_count": 93,
     "metadata": {},
     "output_type": "execute_result"
    }
   ],
   "source": [
    "final_results_findhasher"
   ]
  },
  {
   "cell_type": "markdown",
   "metadata": {},
   "source": [
    "### Accuracy Metric for AverageHash"
   ]
  },
  {
   "cell_type": "code",
   "execution_count": null,
   "metadata": {},
   "outputs": [],
   "source": []
  },
  {
   "cell_type": "code",
   "execution_count": 95,
   "metadata": {},
   "outputs": [],
   "source": [
    "# I want to randomly sample from the list of images to for accuracy distributions\n",
    "# This code reads in a list of all the image filenames in the images folder\n",
    "\n",
    "img_filename_list = []\n",
    "for root, dirs, files in os.walk(r'C:/Users/benja/Desktop/Oxford/Summatives/das2019/das_images/das_images'):\n",
    "    for file in files:\n",
    "        if file.endswith('.jpg'):\n",
    "            img_filename_list.append(file)"
   ]
  },
  {
   "cell_type": "code",
   "execution_count": 96,
   "metadata": {},
   "outputs": [],
   "source": [
    "# generate a list of all the unique meme image groups from the filenames\n",
    "# The image group is specified by the first four digits of the file name\n",
    "\n",
    "list_image_prefixes = []\n",
    "\n",
    "for i in range(0, len(img_filename_list)):\n",
    "    temp_prefix = img_filename_list[i][0:4]\n",
    "    list_image_prefixes.append(temp_prefix)\n",
    "\n",
    "unique_image_groups = set(list_image_prefixes)"
   ]
  },
  {
   "cell_type": "code",
   "execution_count": 97,
   "metadata": {},
   "outputs": [],
   "source": [
    "# Sort the image filenames into their meme families in a dictionary\n",
    "\n",
    "meme_lord_dict = {}\n",
    "for file_name in img_filename_list:\n",
    "    if file_name[0:4] in meme_lord_dict:\n",
    "        meme_lord_dict[file_name[0:4]].append(file_name)\n",
    "    else:\n",
    "        meme_lord_dict[file_name[0:4]]=[file_name]"
   ]
  },
  {
   "cell_type": "code",
   "execution_count": 98,
   "metadata": {},
   "outputs": [],
   "source": [
    "# Choose a specified a number of meme families to test within\n",
    "sample_meme_types = sample(meme_lord_dict.keys(), 10)\n",
    "\n",
    "hash_output_dict = {}\n",
    "\n",
    "# Loop over the chosen meme families\n",
    "for i in range(0, len(sample_meme_types)):\n",
    "    \n",
    "    # Choose a specified number of images selected within each meme family to test\n",
    "    img_to_hash = sample(meme_lord_dict[sample_meme_types[i]], 10)\n",
    "    \n",
    "    # Loop over the images in each meme family and store the hashes\n",
    "    for j in range(0, len(img_to_hash)):\n",
    "        img_string_input = 'das_images/das_images/{}'.format(img_to_hash[j])\n",
    "        hash_temp = imagehash.average_hash(Image.open(img_string_input))\n",
    "        \n",
    "        if img_to_hash[j][0:4] in hash_output_dict:\n",
    "            \n",
    "            # If the dictionary already has a key for that image family, just append the hash output\n",
    "            hash_output_dict[img_to_hash[j][0:4]].append(hash_temp)\n",
    "        else:\n",
    "            # If there is no key for that meme family yet, add it and put the hash_temp in\n",
    "            hash_output_dict[img_to_hash[j][0:4]]=[hash_temp]"
   ]
  },
  {
   "cell_type": "code",
   "execution_count": 100,
   "metadata": {},
   "outputs": [],
   "source": [
    "import itertools\n",
    "\n",
    "# Collect all unique-pair intra-meme-family distances\n",
    "\n",
    "# grab the list of meme family keys we \n",
    "keys_list = list(hash_output_dict.keys())\n",
    "\n",
    "hash_dist_temp = []\n",
    "distances_dict = {}\n",
    "\n",
    "for i in range(0, len(keys_list)):\n",
    "    \n",
    "    # Compute all unique distance combinations\n",
    "    for a, b in itertools.combinations(hash_output_dict[keys_list[i]], 2):\n",
    "        temp_dist = a - b\n",
    "        hash_dist_temp.append(temp_dist)\n",
    "    \n",
    "    # pop the hash distance list into the dictionary with the meme family key\n",
    "    distances_dict[keys_list[i]] = [hash_dist_temp]\n",
    "    \n",
    "    # clear hash_dist_temp for next iteration\n",
    "    hash_dist_temp = []"
   ]
  },
  {
   "cell_type": "code",
   "execution_count": 106,
   "metadata": {},
   "outputs": [],
   "source": [
    "dist_keys = list(distances_dict.keys())\n",
    "\n",
    "final_results_avghash = []\n",
    "threshold = 50\n",
    "\n",
    "thresh_list = np.arange(0,105,5)\n",
    "\n",
    "for z in range(len(thresh_list)):\n",
    "\n",
    "    results_of_thresh_test = {}\n",
    "\n",
    "\n",
    "    for i in range(len(dist_keys)):\n",
    "\n",
    "        for j in range(len(distances_dict[dist_keys[i]][0])):\n",
    "\n",
    "            if distances_dict[dist_keys[i]][0][j] > thresh_list[z]:\n",
    "                result = 0\n",
    "            else: \n",
    "                result = 1\n",
    "\n",
    "            if dist_keys[i] in results_of_thresh_test:\n",
    "\n",
    "                # If the dictionary already has a key for that image family, just append the hash output\n",
    "                results_of_thresh_test[dist_keys[i]].append(result)\n",
    "            else:\n",
    "                # If there is no key for that meme family yet, add it and put the hash_temp in\n",
    "                results_of_thresh_test[dist_keys[i]]=[result]\n",
    "\n",
    "\n",
    "    result_flat = []\n",
    "    for q in range(len(dist_keys)):\n",
    "\n",
    "        result_array = np.array(results_of_thresh_test[dist_keys[q]])\n",
    "        per_cent = result_array.mean()\n",
    "        result_flat.append(per_cent)\n",
    "\n",
    "    result_flat_grab = np.array(result_flat)\n",
    "\n",
    "\n",
    "    final_results_avghash.append(result_flat_grab.mean())\n",
    "    #final_results[thresh_list[z]]=[result_flat_grab.mean()]"
   ]
  },
  {
   "cell_type": "code",
   "execution_count": 107,
   "metadata": {
    "collapsed": true,
    "jupyter": {
     "outputs_hidden": true
    }
   },
   "outputs": [
    {
     "data": {
      "text/plain": [
       "[0.01111111111111111,\n",
       " 0.42000000000000004,\n",
       " 0.8355555555555556,\n",
       " 0.9666666666666668,\n",
       " 0.9911111111111112,\n",
       " 1.0,\n",
       " 1.0,\n",
       " 1.0,\n",
       " 1.0,\n",
       " 1.0,\n",
       " 1.0,\n",
       " 1.0,\n",
       " 1.0,\n",
       " 1.0,\n",
       " 1.0,\n",
       " 1.0,\n",
       " 1.0,\n",
       " 1.0,\n",
       " 1.0,\n",
       " 1.0,\n",
       " 1.0]"
      ]
     },
     "execution_count": 107,
     "metadata": {},
     "output_type": "execute_result"
    }
   ],
   "source": [
    "final_results_avghash"
   ]
  },
  {
   "cell_type": "markdown",
   "metadata": {},
   "source": [
    "## Accuracy Test Phash"
   ]
  },
  {
   "cell_type": "code",
   "execution_count": 111,
   "metadata": {},
   "outputs": [],
   "source": [
    "# I want to randomly sample from the list of images to for accuracy distributions\n",
    "# This code reads in a list of all the image filenames in the images folder\n",
    "\n",
    "img_filename_list = []\n",
    "for root, dirs, files in os.walk(r'C:/Users/benja/Desktop/Oxford/Summatives/das2019/das_images/das_images'):\n",
    "    for file in files:\n",
    "        if file.endswith('.jpg'):\n",
    "            img_filename_list.append(file)"
   ]
  },
  {
   "cell_type": "code",
   "execution_count": 112,
   "metadata": {},
   "outputs": [],
   "source": [
    "# generate a list of all the unique meme image groups from the filenames\n",
    "# The image group is specified by the first four digits of the file name\n",
    "\n",
    "list_image_prefixes = []\n",
    "\n",
    "for i in range(0, len(img_filename_list)):\n",
    "    temp_prefix = img_filename_list[i][0:4]\n",
    "    list_image_prefixes.append(temp_prefix)\n",
    "\n",
    "unique_image_groups = set(list_image_prefixes)"
   ]
  },
  {
   "cell_type": "code",
   "execution_count": 113,
   "metadata": {},
   "outputs": [],
   "source": [
    "# Sort the image filenames into their meme families in a dictionary\n",
    "\n",
    "meme_lord_dict = {}\n",
    "for file_name in img_filename_list:\n",
    "    if file_name[0:4] in meme_lord_dict:\n",
    "        meme_lord_dict[file_name[0:4]].append(file_name)\n",
    "    else:\n",
    "        meme_lord_dict[file_name[0:4]]=[file_name]"
   ]
  },
  {
   "cell_type": "code",
   "execution_count": 117,
   "metadata": {},
   "outputs": [],
   "source": [
    "# Choose a specified a number of meme families to test within\n",
    "sample_meme_types = sample(meme_lord_dict.keys(), 10)\n",
    "\n",
    "hash_output_dict = {}\n",
    "\n",
    "# Loop over the chosen meme families\n",
    "for i in range(0, len(sample_meme_types)):\n",
    "    \n",
    "    # Choose a specified number of images selected within each meme family to test\n",
    "    img_to_hash = sample(meme_lord_dict[sample_meme_types[i]], 10)\n",
    "    \n",
    "    # Loop over the images in each meme family and store the hashes\n",
    "    for j in range(0, len(img_to_hash)):\n",
    "        img_string_input = 'das_images/das_images/{}'.format(img_to_hash[j])\n",
    "        hash_temp = imagehash.phash(Image.open(img_string_input))\n",
    "        \n",
    "        if img_to_hash[j][0:4] in hash_output_dict:\n",
    "            \n",
    "            # If the dictionary already has a key for that image family, just append the hash output\n",
    "            hash_output_dict[img_to_hash[j][0:4]].append(hash_temp)\n",
    "        else:\n",
    "            # If there is no key for that meme family yet, add it and put the hash_temp in\n",
    "            hash_output_dict[img_to_hash[j][0:4]]=[hash_temp]"
   ]
  },
  {
   "cell_type": "code",
   "execution_count": 118,
   "metadata": {},
   "outputs": [],
   "source": [
    "import itertools\n",
    "\n",
    "# Collect all unique-pair intra-meme-family distances\n",
    "\n",
    "# grab the list of meme family keys we \n",
    "keys_list = list(hash_output_dict.keys())\n",
    "\n",
    "hash_dist_temp = []\n",
    "distances_dict = {}\n",
    "\n",
    "for i in range(0, len(keys_list)):\n",
    "    \n",
    "    # Compute all unique distance combinations\n",
    "    for a, b in itertools.combinations(hash_output_dict[keys_list[i]], 2):\n",
    "        temp_dist = a - b\n",
    "        hash_dist_temp.append(temp_dist)\n",
    "    \n",
    "    # pop the hash distance list into the dictionary with the meme family key\n",
    "    distances_dict[keys_list[i]] = [hash_dist_temp]\n",
    "    \n",
    "    # clear hash_dist_temp for next iteration\n",
    "    hash_dist_temp = []"
   ]
  },
  {
   "cell_type": "code",
   "execution_count": null,
   "metadata": {},
   "outputs": [],
   "source": [
    "\n",
    "for i in range(0, len(keys_list)):\n",
    "    plt.figure()\n",
    "    plt.hist(distances_dict[keys_list[i]][0], bins = 20)\n",
    "    plt.suptitle('Hamming Distance Sample Dist., Meme Family {}'.format(i+1), fontsize = 13)\n",
    "    plt.title('Pairwise Distances Within Meme Family', fontsize = 12)\n",
    "    plt.xlabel('Distance', fontsize = 14)\n",
    "    # plt.xticks(np.arange(0,60, 10))\n",
    "    plt.ylabel('Frequency',  fontsize = 14)\n",
    "    plt.savefig('image_docs/hamm_dist_{}.png'.format(i+1), bbox_inches = 'tight')\n",
    "plt.show()"
   ]
  },
  {
   "cell_type": "code",
   "execution_count": 120,
   "metadata": {},
   "outputs": [],
   "source": [
    "dist_keys = list(distances_dict.keys())\n",
    "\n",
    "final_results_phash = []\n",
    "threshold = 50\n",
    "\n",
    "thresh_list = np.arange(0,105,5)\n",
    "\n",
    "for z in range(len(thresh_list)):\n",
    "\n",
    "    results_of_thresh_test = {}\n",
    "\n",
    "\n",
    "    for i in range(len(dist_keys)):\n",
    "\n",
    "        for j in range(len(distances_dict[dist_keys[i]][0])):\n",
    "\n",
    "            if distances_dict[dist_keys[i]][0][j] > thresh_list[z]:\n",
    "                result = 0\n",
    "            else: \n",
    "                result = 1\n",
    "\n",
    "            if dist_keys[i] in results_of_thresh_test:\n",
    "\n",
    "                # If the dictionary already has a key for that image family, just append the hash output\n",
    "                results_of_thresh_test[dist_keys[i]].append(result)\n",
    "            else:\n",
    "                # If there is no key for that meme family yet, add it and put the hash_temp in\n",
    "                results_of_thresh_test[dist_keys[i]]=[result]\n",
    "\n",
    "\n",
    "    result_flat = []\n",
    "    for q in range(len(dist_keys)):\n",
    "\n",
    "        result_array = np.array(results_of_thresh_test[dist_keys[q]])\n",
    "        per_cent = result_array.mean()\n",
    "        result_flat.append(per_cent)\n",
    "\n",
    "    result_flat_grab = np.array(result_flat)\n",
    "\n",
    "\n",
    "    final_results_phash.append(result_flat_grab.mean())\n",
    "    #final_results[thresh_list[z]]=[result_flat_grab.mean()]"
   ]
  },
  {
   "cell_type": "code",
   "execution_count": 121,
   "metadata": {
    "collapsed": true,
    "jupyter": {
     "outputs_hidden": true
    }
   },
   "outputs": [
    {
     "data": {
      "text/plain": [
       "[0.013333333333333332,\n",
       " 0.21777777777777776,\n",
       " 0.7044444444444444,\n",
       " 0.9355555555555555,\n",
       " 0.9800000000000001,\n",
       " 0.9800000000000001,\n",
       " 0.9888888888888889,\n",
       " 1.0,\n",
       " 1.0,\n",
       " 1.0,\n",
       " 1.0,\n",
       " 1.0,\n",
       " 1.0,\n",
       " 1.0,\n",
       " 1.0,\n",
       " 1.0,\n",
       " 1.0,\n",
       " 1.0,\n",
       " 1.0,\n",
       " 1.0,\n",
       " 1.0]"
      ]
     },
     "execution_count": 121,
     "metadata": {},
     "output_type": "execute_result"
    }
   ],
   "source": [
    "final_results_phash"
   ]
  },
  {
   "cell_type": "markdown",
   "metadata": {},
   "source": [
    "## Accuracy Summary"
   ]
  },
  {
   "cell_type": "code",
   "execution_count": 148,
   "metadata": {},
   "outputs": [
    {
     "data": {
      "image/png": "[encoded data removed]",
      "text/plain": [
       "<Figure size 648x432 with 1 Axes>"
      ]
     },
     "metadata": {
      "needs_background": "light"
     },
     "output_type": "display_data"
    }
   ],
   "source": [
    "plt.figure(1, figsize = (9,6))\n",
    "plt.plot(np.arange(0,105,5), final_results_findhasher,)\n",
    "plt.plot(np.arange(0,105,5), final_results_avghash)\n",
    "plt.plot(np.arange(0,105,5), final_results_phash)\n",
    "plt.xticks(np.arange(0,105,5),np.arange(0,105,5))\n",
    "plt.legend(('FINDHasher', 'Average Hash', 'Perception Hash'))\n",
    "plt.suptitle('Within-Meme Family Classification Accuracy Based on Threshold Variance', fontsize = 18)\n",
    "plt.title('Threshold for Hamming Distance to Classify Two Images in Same Family', fontsize = 14)\n",
    "plt.xlabel('Value of Threshold for Hamming Distance', fontsize = 14)\n",
    "plt.ylabel('Accuracy (Share of Images Correctly\\nClassified as Within-Family)',  fontsize = 14)\n",
    "\n",
    "plt.savefig('image_docs/accuracy_measure.png', bbox_inches = 'tight')\n",
    "plt.show()"
   ]
  },
  {
   "cell_type": "code",
   "execution_count": null,
   "metadata": {},
   "outputs": [],
   "source": [
    "display(keys_list)\n",
    "hash_output_dict['0938'][0] - hash_output_dict['0740'][1]"
   ]
  },
  {
   "cell_type": "code",
   "execution_count": null,
   "metadata": {},
   "outputs": [],
   "source": [
    "distances_dict"
   ]
  },
  {
   "cell_type": "code",
   "execution_count": null,
   "metadata": {},
   "outputs": [],
   "source": [
    "hash_output_dict[keys_list[1]]"
   ]
  },
  {
   "cell_type": "code",
   "execution_count": null,
   "metadata": {},
   "outputs": [],
   "source": [
    "array_hash_list = list(hash_output_dict[keys_list[0]])"
   ]
  },
  {
   "cell_type": "code",
   "execution_count": null,
   "metadata": {},
   "outputs": [],
   "source": [
    "import itertools\n",
    "\n",
    "hash_dist_store = []\n",
    "for a, b in itertools.combinations(array_hash_list, 2):\n",
    "    temp_dist = a - b\n",
    "    hash_dist_store.append(temp_dist)"
   ]
  },
  {
   "cell_type": "code",
   "execution_count": null,
   "metadata": {},
   "outputs": [],
   "source": [
    "plt.hist(hash_dist_store, bins = 20)"
   ]
  },
  {
   "cell_type": "code",
   "execution_count": null,
   "metadata": {},
   "outputs": [],
   "source": []
  },
  {
   "cell_type": "code",
   "execution_count": null,
   "metadata": {},
   "outputs": [],
   "source": [
    "img_sample = sample(img_filename_list, 10)\n",
    "\n",
    "\n",
    "img_sample[0]\n",
    "len(img_sample)"
   ]
  },
  {
   "cell_type": "code",
   "execution_count": null,
   "metadata": {},
   "outputs": [],
   "source": [
    "path"
   ]
  },
  {
   "cell_type": "code",
   "execution_count": null,
   "metadata": {},
   "outputs": [],
   "source": [
    "img_string_input = path + '/{}'.format(img_sample[0])\n",
    "\n",
    "#img_string_input = 'das_images/das_images/{}'.format(img_sample[i])\n",
    "\n",
    "#hash_temp = findHasher.fromFile(img_string_input)"
   ]
  },
  {
   "cell_type": "code",
   "execution_count": null,
   "metadata": {},
   "outputs": [],
   "source": [
    "img_string_input\n",
    "hash_temp = findHasher.fromFile(img_string_input)\n",
    "hash_temp"
   ]
  },
  {
   "cell_type": "markdown",
   "metadata": {},
   "source": [
    "# TimeIT Code Below"
   ]
  },
  {
   "cell_type": "code",
   "execution_count": null,
   "metadata": {},
   "outputs": [],
   "source": [
    "%%timeit -r2\n",
    "\n",
    "img_sample = sample(img_filename_list, 10)\n",
    "hash_output = []\n",
    "\n",
    "for i in range(0,len(img_sample)):\n",
    "    \n",
    "    img_string_input = 'das_images/das_images/{}'.format(img_sample[i])\n",
    "\n",
    "    hash_temp = findHasher_1.fromFile(img_string_input)\n",
    "    \n",
    "    hash_output.append(hash_temp)"
   ]
  },
  {
   "cell_type": "code",
   "execution_count": null,
   "metadata": {},
   "outputs": [],
   "source": [
    "img_sample = sample(img_filename_list, 5)\n",
    "img_sample\n",
    "\n",
    "for i in range(len(img_sample)):\n",
    "    img_sample[i] = 'das_images/das_images/' + img_sample[i]"
   ]
  },
  {
   "cell_type": "code",
   "execution_count": null,
   "metadata": {},
   "outputs": [],
   "source": [
    "img_sample"
   ]
  },
  {
   "cell_type": "code",
   "execution_count": null,
   "metadata": {},
   "outputs": [],
   "source": [
    "%%prun\n",
    "\n",
    "img_sample = sample(img_list, 10)\n",
    "hash_output = []\n",
    "\n",
    "for i in range(0,len(img_sample)):\n",
    "    \n",
    "    img_string_input = 'das_images/das_images/{}'.format(img_sample[i])\n",
    "\n",
    "    hash_temp = findHasher.fromFile(img_string_input)\n",
    "    \n",
    "    hash_output.append(hash_temp)"
   ]
  },
  {
   "cell_type": "code",
   "execution_count": null,
   "metadata": {},
   "outputs": [],
   "source": []
  },
  {
   "cell_type": "code",
   "execution_count": 7,
   "metadata": {},
   "outputs": [],
   "source": [
    "import multiprocessing"
   ]
  },
  {
   "cell_type": "code",
   "execution_count": null,
   "metadata": {},
   "outputs": [],
   "source": [
    "# original version\n",
    "with multiprocessing.Pool(2) as pool: \n",
    "    hashes = pool.map(find.fromFile, files)"
   ]
  },
  {
   "cell_type": "code",
   "execution_count": null,
   "metadata": {},
   "outputs": [],
   "source": [
    "find_1 = FINDHasher_1()"
   ]
  },
  {
   "cell_type": "code",
   "execution_count": null,
   "metadata": {},
   "outputs": [],
   "source": [
    "with multiprocessing.Pool(2) as pool: \n",
    "    hashes = pool.map(find_1.fromFile, img_sample)"
   ]
  },
  {
   "cell_type": "code",
   "execution_count": null,
   "metadata": {},
   "outputs": [],
   "source": [
    "%%timeit -r2\n",
    "\n",
    "test = benchmarking_basic_1(6)"
   ]
  },
  {
   "cell_type": "code",
   "execution_count": null,
   "metadata": {},
   "outputs": [],
   "source": [
    "test = benchmarking_basic_1(6)"
   ]
  },
  {
   "cell_type": "code",
   "execution_count": null,
   "metadata": {},
   "outputs": [],
   "source": [
    "len(test)"
   ]
  },
  {
   "cell_type": "code",
   "execution_count": null,
   "metadata": {},
   "outputs": [],
   "source": [
    "%%timeit -r2\n",
    "\n",
    "# split jobs\n",
    "map_list = [20, 20]\n",
    "\n",
    "with multiprocessing.Pool(2) as pool:\n",
    "        test_2 = pool.imap_unordered(benchmarking_basic_1, map_list)"
   ]
  },
  {
   "cell_type": "code",
   "execution_count": null,
   "metadata": {},
   "outputs": [],
   "source": [
    "map_list = [20, 20]\n",
    "\n",
    "with multiprocessing.Pool(2) as pool:\n",
    "        test_3= pool.imap(benchmarking_basic_1, map_list, chunksize = 1)"
   ]
  },
  {
   "cell_type": "code",
   "execution_count": null,
   "metadata": {},
   "outputs": [],
   "source": [
    "test_3"
   ]
  },
  {
   "cell_type": "code",
   "execution_count": null,
   "metadata": {},
   "outputs": [],
   "source": [
    "%%timeit -r2\n",
    "\n",
    "# split jobs\n",
    "map_list = [20, 20]\n",
    "\n",
    "with multiprocessing.Pool(2) as pool:\n",
    "        test_2 = pool.map(benchmarking_basic_\\\\\n",
    "                          , map_list)"
   ]
  },
  {
   "cell_type": "code",
   "execution_count": null,
   "metadata": {},
   "outputs": [],
   "source": [
    "map_list = [3, 3]\n",
    "\n",
    "with multiprocessing.Pool(2) as pool:\n",
    "        test_2 = pool.map(benchmarking_basic_1, map_list)"
   ]
  },
  {
   "cell_type": "code",
   "execution_count": 9,
   "metadata": {},
   "outputs": [
    {
     "name": "stdout",
     "output_type": "stream",
     "text": [
      "28.3 s ± 772 ms per loop (mean ± std. dev. of 5 runs, 1 loop each)\n"
     ]
    }
   ],
   "source": [
    "%%timeit -r5\n",
    "\n",
    "test = benchmarking_basic(40)"
   ]
  },
  {
   "cell_type": "code",
   "execution_count": 10,
   "metadata": {},
   "outputs": [
    {
     "name": "stdout",
     "output_type": "stream",
     "text": [
      "16.7 s ± 654 ms per loop (mean ± std. dev. of 5 runs, 1 loop each)\n"
     ]
    }
   ],
   "source": [
    "%%timeit -r5\n",
    "\n",
    "# split jobs\n",
    "map_list = [20, 20]\n",
    "\n",
    "with multiprocessing.Pool(2) as pool:\n",
    "        test = pool.map(benchmarking_basic, map_list)"
   ]
  },
  {
   "cell_type": "code",
   "execution_count": 11,
   "metadata": {},
   "outputs": [
    {
     "name": "stdout",
     "output_type": "stream",
     "text": [
      "10.3 s ± 642 ms per loop (mean ± std. dev. of 5 runs, 1 loop each)\n"
     ]
    }
   ],
   "source": [
    "%%timeit -r5\n",
    "\n",
    "# split jobs\n",
    "map_list = [20, 20]\n",
    "\n",
    "with multiprocessing.Pool(2) as pool:\n",
    "        test = pool.map(benchmarking_basic_1, map_list)"
   ]
  },
  {
   "cell_type": "code",
   "execution_count": null,
   "metadata": {},
   "outputs": [],
   "source": [
    "img_string_input = 'das_images/das_images/{}'.format(img_sample[1])"
   ]
  },
  {
   "cell_type": "code",
   "execution_count": null,
   "metadata": {},
   "outputs": [],
   "source": [
    "# Print them in a 16*16 format\n",
    "findHasher.prettyHash(hash_output[0])"
   ]
  },
  {
   "cell_type": "code",
   "execution_count": null,
   "metadata": {},
   "outputs": [],
   "source": [
    "import multiprocessing\n",
    "\n",
    "p = multiprocessing.pool()\n",
    "\n",
    "\n",
    "\n",
    "\n"
   ]
  },
  {
   "cell_type": "code",
   "execution_count": null,
   "metadata": {},
   "outputs": [],
   "source": [
    "img_sample = sample(img_filename_list, 5)\n",
    "hash_output = []\n",
    "\n",
    "for i in range(0,len(img_sample)):\n",
    "    \n",
    "    img_string_input = 'das_images/das_images/{}'.format(img_sample[i])\n",
    "\n",
    "    hash_temp = findHasher.fromFile(img_string_input)\n",
    "    \n",
    "    hash_output.append(hash_temp)"
   ]
  },
  {
   "cell_type": "code",
   "execution_count": null,
   "metadata": {},
   "outputs": [],
   "source": [
    "img_sample = sample(img_filename_list, 10)\n",
    "img_sample\n",
    "\n",
    "for i in range(len(img_sample)):\n",
    "    img_sample[i] = 'das_images/das_images/' + img_sample[i]"
   ]
  },
  {
   "cell_type": "code",
   "execution_count": null,
   "metadata": {},
   "outputs": [],
   "source": [
    "hash_test = find_1.fromFile(img_sample)"
   ]
  },
  {
   "cell_type": "code",
   "execution_count": null,
   "metadata": {},
   "outputs": [],
   "source": [
    "# first pip install opencv or pip install cv2 but probably conda install opencv\n",
    "# then import cv2\n",
    "\n",
    "# "
   ]
  },
  {
   "cell_type": "code",
   "execution_count": null,
   "metadata": {},
   "outputs": [],
   "source": [
    "# Accuracy of the box filter vs the other filters \n",
    "\n",
    "# The simplest way might be to randomly pull Y from the list of X different meme classes (say 30 from each of the classes we pick) and then compute the hashes \n",
    "# After computing the hashes "
   ]
  },
  {
   "cell_type": "markdown",
   "metadata": {},
   "source": [
    "# Note that old mate recommended optimising fill float luma with a numpy dot product rather than just the repeated loops\n",
    "\n",
    "\n",
    "### benchmarking\n",
    "\n",
    "# recommended creating functions \n",
    "\n",
    "# each file you've got a function thatyou would from find_dcopy.py such as thisversion_call \n",
    "\n",
    "# got read images as a function\n",
    "\n",
    "# benchmakring that calls read iages for a specified  number of calls. recall that assignment said to  \n",
    "\n",
    "\n",
    "\n",
    "\n",
    "seems pretty clear there is an IO bottleneck and a CPU bottleneck, but no memory bottleneck"
   ]
  }
 ],
 "metadata": {
  "kernelspec": {
   "display_name": "Python 3",
   "language": "python",
   "name": "python3"
  },
  "language_info": {
   "codemirror_mode": {
    "name": "ipython",
    "version": 3
   },
   "file_extension": ".py",
   "mimetype": "text/x-python",
   "name": "python",
   "nbconvert_exporter": "python",
   "pygments_lexer": "ipython3",
   "version": "3.7.3"
  }
 },
 "nbformat": 4,
 "nbformat_minor": 4
}
