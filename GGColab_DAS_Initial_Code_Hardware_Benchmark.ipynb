{
 "cells": [
  {
   "cell_type": "code",
   "execution_count": 4,
   "metadata": {
    "colab": {
     "base_uri": "https://localhost:8080/",
     "height": 122
    },
    "colab_type": "code",
    "id": "uVYTdQxYoqcY",
    "outputId": "7cc90a05-366d-418c-c21b-811766480a20"
   },
   "outputs": [
    {
     "name": "stdout",
     "output_type": "stream",
     "text": [
      "Go to this URL in a browser: https://accounts.google.com/o/oauth2/auth?client_id=947318989803-6bn6qk8qdgf4n4g3pfee6491hc0brc4i.apps.googleusercontent.com&redirect_uri=urn%3aietf%3awg%3aoauth%3a2.0%3aoob&response_type=code&scope=email%20https%3a%2f%2fwww.googleapis.com%2fauth%2fdocs.test%20https%3a%2f%2fwww.googleapis.com%2fauth%2fdrive%20https%3a%2f%2fwww.googleapis.com%2fauth%2fdrive.photos.readonly%20https%3a%2f%2fwww.googleapis.com%2fauth%2fpeopleapi.readonly\n",
      "\n",
      "Enter your authorization code:\n",
      "··········\n",
      "Mounted at /content/gdrive\n"
     ]
    }
   ],
   "source": [
    "from google.colab import drive\n",
    "drive.mount('/content/gdrive')"
   ]
  },
  {
   "cell_type": "code",
   "execution_count": null,
   "metadata": {
    "colab": {},
    "colab_type": "code",
    "id": "gTnIhg2Xo5nN"
   },
   "outputs": [],
   "source": [
    "import os, os.path"
   ]
  },
  {
   "cell_type": "code",
   "execution_count": 10,
   "metadata": {
    "colab": {
     "base_uri": "https://localhost:8080/",
     "height": 34
    },
    "colab_type": "code",
    "id": "TnrhVW2Cpw9j",
    "outputId": "dce51cee-9183-47b5-dd97-46a3849b3d8a"
   },
   "outputs": [
    {
     "name": "stdout",
     "output_type": "stream",
     "text": [
      "15057\n"
     ]
    }
   ],
   "source": [
    "# Checking the sampel of images I managed to upload - I had issues with Google Drive syncing a large number of files. This sample is reasonable enough.\n",
    "# An alternative to test this might be to upload the files to Git and downloading from there (although you might need a public repo for that). \n",
    "\n",
    "list = os.listdir('/content/gdrive/My Drive/DAS Summative/das_images/das_images')\n",
    "number_files = len(list)\n",
    "print(number_files)"
   ]
  },
  {
   "cell_type": "code",
   "execution_count": null,
   "metadata": {
    "colab": {},
    "colab_type": "code",
    "id": "EnBPZJCzqRVW"
   },
   "outputs": [],
   "source": [
    "# Set directory\n",
    "os.chdir('/content/gdrive/My Drive/DAS Summative/')"
   ]
  },
  {
   "cell_type": "code",
   "execution_count": 6,
   "metadata": {
    "colab": {
     "base_uri": "https://localhost:8080/",
     "height": 34
    },
    "colab_type": "code",
    "id": "gEiEMrBlwlJc",
    "outputId": "bf95c447-a64c-435b-a67d-3743c7e6bdca"
   },
   "outputs": [
    {
     "name": "stdout",
     "output_type": "stream",
     "text": [
      "['das_images', 'matrix.py', 'FINd_gg.py', '__pycache__']\n"
     ]
    }
   ],
   "source": [
    "# Check we have what we need\n",
    "list = os.listdir('/content/gdrive/My Drive/DAS Summative')\n",
    "print(list)"
   ]
  },
  {
   "cell_type": "code",
   "execution_count": 7,
   "metadata": {
    "colab": {
     "base_uri": "https://localhost:8080/",
     "height": 187
    },
    "colab_type": "code",
    "collapsed": true,
    "id": "L0ZmNEv-uRin",
    "jupyter": {
     "outputs_hidden": true,
     "source_hidden": true
    },
    "outputId": "ecbae45b-d508-4be2-ab0b-9cc8a90f0e0a"
   },
   "outputs": [
    {
     "name": "stdout",
     "output_type": "stream",
     "text": [
      "Collecting ImageHash\n",
      "\u001b[?25l  Downloading https://files.pythonhosted.org/packages/58/47/e639093d67f54e59163f9d259575a10bd16e4d0ff3bb1259ba64b9c77a42/ImageHash-4.0-py2.py3-none-any.whl (295kB)\n",
      "\u001b[K     |████████████████████████████████| 296kB 3.3MB/s eta 0:00:01\n",
      "\u001b[?25hRequirement already satisfied: pywavelets in /usr/local/lib/python3.6/dist-packages (from ImageHash) (1.1.1)\n",
      "Requirement already satisfied: six in /usr/local/lib/python3.6/dist-packages (from ImageHash) (1.12.0)\n",
      "Requirement already satisfied: numpy in /usr/local/lib/python3.6/dist-packages (from ImageHash) (1.17.5)\n",
      "Requirement already satisfied: pillow in /usr/local/lib/python3.6/dist-packages (from ImageHash) (6.2.2)\n",
      "Requirement already satisfied: scipy in /usr/local/lib/python3.6/dist-packages (from ImageHash) (1.4.1)\n",
      "Installing collected packages: ImageHash\n",
      "Successfully installed ImageHash-4.0\n"
     ]
    }
   ],
   "source": [
    "# Install imagehash\n",
    "!pip install ImageHash"
   ]
  },
  {
   "cell_type": "code",
   "execution_count": 8,
   "metadata": {
    "colab": {
     "base_uri": "https://localhost:8080/",
     "height": 34
    },
    "colab_type": "code",
    "id": "iSy2LDK4tewp",
    "jupyter": {
     "source_hidden": true
    },
    "outputId": "74e22e88-10a5-462d-8bfd-6f8b567acf90"
   },
   "outputs": [
    {
     "name": "stdout",
     "output_type": "stream",
     "text": [
      "Populating the interactive namespace from numpy and matplotlib\n"
     ]
    }
   ],
   "source": [
    "# Typical preamble\n",
    "\n",
    "%pylab inline\n",
    "\n",
    "# %load_ext memory_profiler\n",
    "\n",
    "from FINd_gg import FINDHasher\n",
    "from FINd_gg import benchmarking_basic\n",
    "\n",
    "import imagehash\n",
    "from PIL import Image\n",
    "\n",
    "import time\n",
    "import os\n",
    "from random import sample\n",
    "import numpy as np\n",
    "\n",
    "import matplotlib.pyplot as plt\n",
    "\n",
    "import itertools"
   ]
  },
  {
   "cell_type": "code",
   "execution_count": 20,
   "metadata": {
    "colab": {
     "base_uri": "https://localhost:8080/",
     "height": 353
    },
    "colab_type": "code",
    "id": "Az0BYW1etplX",
    "outputId": "e30f4ba2-a0df-4531-ec5b-4c1f0c0714d8"
   },
   "outputs": [
    {
     "name": "stdout",
     "output_type": "stream",
     "text": [
      "1 loop, best of 3: 5.6 s per loop\n",
      "1 loop, best of 3: 10.6 s per loop\n",
      "1 loop, best of 3: 20.9 s per loop\n",
      "1 loop, best of 3: 42.4 s per loop\n"
     ]
    },
    {
     "data": {
      "text/plain": [
       "[<matplotlib.lines.Line2D at 0x7f0d24f88278>]"
      ]
     },
     "execution_count": 20,
     "metadata": {
      "tags": []
     },
     "output_type": "execute_result"
    },
    {
     "data": {
      "image/png": "[encoded data removed]",
      "text/plain": [
       "<Figure size 432x288 with 1 Axes>"
      ]
     },
     "metadata": {
      "tags": []
     },
     "output_type": "display_data"
    }
   ],
   "source": [
    "# Google's default CPU Hardware\n",
    "\n",
    "# Image numbers to hash and result list\n",
    "image_counts = [5, 10, 20, 40]\n",
    "results = []\n",
    "\n",
    "# Loop through the different numbers of hashes and store the %timeit results\n",
    "for i in image_counts:\n",
    "    result = %timeit -o rand_hashes = benchmarking_basic(i)\n",
    "    results.append(result)\n",
    "\n",
    "# Extract the mean run times from the %timeit object\n",
    "mean_times = []\n",
    "for i in range(0, len(results)):\n",
    "    mean_times.append(np.mean(results[i].all_runs))\n",
    "\n",
    "plt.plot(mean_times)"
   ]
  },
  {
   "cell_type": "code",
   "execution_count": 11,
   "metadata": {
    "colab": {
     "base_uri": "https://localhost:8080/",
     "height": 350
    },
    "colab_type": "code",
    "id": "Z31vfBgVwAsr",
    "outputId": "e7eefc6d-52b9-42c8-e55b-ed3ce15188f5"
   },
   "outputs": [
    {
     "name": "stdout",
     "output_type": "stream",
     "text": [
      "1 loop, best of 3: 3.88 s per loop\n",
      "1 loop, best of 3: 7.73 s per loop\n",
      "1 loop, best of 3: 15.2 s per loop\n",
      "1 loop, best of 3: 29.7 s per loop\n"
     ]
    },
    {
     "data": {
      "text/plain": [
       "[<matplotlib.lines.Line2D at 0x7f1159c44f98>]"
      ]
     },
     "execution_count": 11,
     "metadata": {
      "tags": []
     },
     "output_type": "execute_result"
    },
    {
     "data": {
      "image/png": "[encoded data removed]",
      "text/plain": [
       "<Figure size 432x288 with 1 Axes>"
      ]
     },
     "metadata": {
      "tags": []
     },
     "output_type": "display_data"
    }
   ],
   "source": [
    "# Run on Google's Provided GPU Hardware\n",
    "\n",
    "# Image numbers to hash and result list\n",
    "image_counts = [5, 10, 20, 40]\n",
    "results = []\n",
    "\n",
    "# Loop through the different numbers of hashes and store the %timeit results\n",
    "for i in image_counts:\n",
    "    result = %timeit -o rand_hashes = benchmarking_basic(i)\n",
    "    results.append(result)\n",
    "\n",
    "# Extract the mean run times from the %timeit object\n",
    "mean_times = []\n",
    "for i in range(0, len(results)):\n",
    "    mean_times.append(np.mean(results[i].all_runs))\n",
    "\n",
    "plt.plot(mean_times)"
   ]
  },
  {
   "cell_type": "code",
   "execution_count": 13,
   "metadata": {
    "colab": {
     "base_uri": "https://localhost:8080/",
     "height": 350
    },
    "colab_type": "code",
    "id": "PURXl0rGucX6",
    "outputId": "0bfb8c43-a2cd-4aff-cdb3-34255047fd94"
   },
   "outputs": [
    {
     "name": "stdout",
     "output_type": "stream",
     "text": [
      "1 loop, best of 3: 5.42 s per loop\n",
      "1 loop, best of 3: 10.6 s per loop\n",
      "1 loop, best of 3: 20.6 s per loop\n",
      "1 loop, best of 3: 41.7 s per loop\n"
     ]
    },
    {
     "data": {
      "text/plain": [
       "[<matplotlib.lines.Line2D at 0x7f38d0c53cc0>]"
      ]
     },
     "execution_count": 13,
     "metadata": {
      "tags": []
     },
     "output_type": "execute_result"
    },
    {
     "data": {
      "image/png": "[encoded data removed]",
      "text/plain": [
       "<Figure size 432x288 with 1 Axes>"
      ]
     },
     "metadata": {
      "tags": []
     },
     "output_type": "display_data"
    }
   ],
   "source": [
    "# Run on Google's Provided PU Hardware\n",
    "\n",
    "# Image numbers to hash and result list\n",
    "image_counts = [5, 10, 20, 40]\n",
    "results = []\n",
    "\n",
    "# Loop through the different numbers of hashes and store the %timeit results\n",
    "for i in image_counts:\n",
    "    result = %timeit -o rand_hashes = benchmarking_basic(i)\n",
    "    results.append(result)\n",
    "\n",
    "# Extract the mean run times from the %timeit object\n",
    "mean_times = []\n",
    "for i in range(0, len(results)):\n",
    "    mean_times.append(np.mean(results[i].all_runs))\n",
    "\n",
    "plt.plot(mean_times)"
   ]
  },
  {
   "cell_type": "code",
   "execution_count": null,
   "metadata": {
    "colab": {},
    "colab_type": "code",
    "id": "2K7touyb00sV"
   },
   "outputs": [],
   "source": []
  }
 ],
 "metadata": {
  "accelerator": "TPU",
  "colab": {
   "name": "GGColab - DAS - Initial Code Hardware Benchmark.ipynb",
   "provenance": []
  },
  "kernelspec": {
   "display_name": "Python 3",
   "language": "python",
   "name": "python3"
  },
  "language_info": {
   "codemirror_mode": {
    "name": "ipython",
    "version": 3
   },
   "file_extension": ".py",
   "mimetype": "text/x-python",
   "name": "python",
   "nbconvert_exporter": "python",
   "pygments_lexer": "ipython3",
   "version": "3.7.3"
  }
 },
 "nbformat": 4,
 "nbformat_minor": 4
}
