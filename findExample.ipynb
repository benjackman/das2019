{
 "cells": [
  {
   "cell_type": "code",
   "execution_count": 1,
   "metadata": {},
   "outputs": [],
   "source": [
    "from FINd import FINDHasher\n",
    "import imagehash\n",
    "from PIL import Image"
   ]
  },
  {
   "cell_type": "code",
   "execution_count": null,
   "metadata": {},
   "outputs": [],
   "source": [
    "import time"
   ]
  },
  {
   "cell_type": "code",
   "execution_count": 2,
   "metadata": {},
   "outputs": [],
   "source": [
    "findHasher=FINDHasher()"
   ]
  },
  {
   "cell_type": "code",
   "execution_count": 4,
   "metadata": {},
   "outputs": [],
   "source": [
    "ex1=findHasher.fromFile(\"das_images/das_images/0040_10318987.jpg\")\n",
    "ex2=findHasher.fromFile(\"das_images/das_images/0040_10321701.jpg\")\n",
    "\n",
    "ex3=findHasher.fromFile(\"das_images/das_images/0120_27768345.jpg\")\n",
    "\n",
    "img=Image.open(\"das_images/das_images/0120_28335973.jpg\")\n",
    "ex4=findHasher.fromImage(img)"
   ]
  },
  {
   "cell_type": "code",
   "execution_count": 5,
   "metadata": {},
   "outputs": [
    {
     "data": {
      "text/plain": [
       "array([1, 0, 0, 1, 1, 1, 0, 0, 1, 1, 1, 0, 0, 1, 0, 0, 1, 1, 1, 0, 0, 1,\n",
       "       1, 0, 0, 0, 1, 0, 0, 1, 0, 1, 0, 1, 0, 1, 1, 0, 0, 0, 1, 1, 0, 1,\n",
       "       0, 0, 1, 0, 1, 1, 1, 0, 0, 0, 1, 1, 0, 0, 1, 1, 1, 1, 0, 0, 0, 0,\n",
       "       1, 1, 1, 1, 0, 0, 0, 1, 0, 0, 0, 0, 1, 0, 1, 1, 0, 0, 1, 1, 0, 0,\n",
       "       0, 0, 1, 1, 1, 0, 0, 1, 0, 1, 1, 0, 0, 0, 1, 1, 1, 0, 1, 0, 0, 1,\n",
       "       0, 0, 0, 0, 1, 0, 1, 0, 1, 1, 0, 1, 0, 1, 1, 1, 1, 0, 1, 1, 1, 0,\n",
       "       0, 1, 0, 1, 1, 1, 0, 1, 0, 0, 1, 0, 0, 1, 0, 1, 0, 0, 0, 1, 0, 0,\n",
       "       1, 0, 1, 1, 0, 1, 0, 0, 1, 1, 1, 0, 1, 0, 1, 0, 1, 0, 1, 1, 0, 1,\n",
       "       0, 0, 1, 0, 0, 1, 1, 0, 0, 1, 1, 1, 0, 1, 1, 0, 0, 0, 0, 1, 0, 1,\n",
       "       1, 1, 0, 0, 0, 1, 1, 1, 1, 0, 1, 1, 1, 1, 1, 1, 0, 1, 1, 1, 0, 0,\n",
       "       1, 1, 0, 0, 0, 0, 0, 0, 0, 0, 1, 0, 1, 1, 1, 1, 0, 1, 1, 1, 1, 1,\n",
       "       0, 1, 1, 0, 0, 0, 0, 0, 1, 0, 0, 0, 0, 1])"
      ]
     },
     "execution_count": 5,
     "metadata": {},
     "output_type": "execute_result"
    }
   ],
   "source": [
    "ex1.hash"
   ]
  },
  {
   "cell_type": "code",
   "execution_count": 6,
   "metadata": {},
   "outputs": [
    {
     "name": "stdout",
     "output_type": "stream",
     "text": [
      "9ce4e62558d2e33c3c42cc3963a42b5ee5d2512d3aad2676171efdcc02f7d821\n"
     ]
    }
   ],
   "source": [
    "print(ex1)"
   ]
  },
  {
   "cell_type": "code",
   "execution_count": 7,
   "metadata": {},
   "outputs": [
    {
     "data": {
      "text/plain": [
       "64"
      ]
     },
     "execution_count": 7,
     "metadata": {},
     "output_type": "execute_result"
    }
   ],
   "source": [
    "ex1-ex2"
   ]
  },
  {
   "cell_type": "code",
   "execution_count": 8,
   "metadata": {},
   "outputs": [
    {
     "data": {
      "text/plain": [
       "48"
      ]
     },
     "execution_count": 8,
     "metadata": {},
     "output_type": "execute_result"
    }
   ],
   "source": [
    "ex3-ex4"
   ]
  },
  {
   "cell_type": "code",
   "execution_count": 9,
   "metadata": {},
   "outputs": [
    {
     "data": {
      "text/plain": [
       "132"
      ]
     },
     "execution_count": 9,
     "metadata": {},
     "output_type": "execute_result"
    }
   ],
   "source": [
    "ex1-ex3"
   ]
  },
  {
   "cell_type": "code",
   "execution_count": 10,
   "metadata": {},
   "outputs": [
    {
     "name": "stdout",
     "output_type": "stream",
     "text": [
      "619 ms ± 93.8 ms per loop (mean ± std. dev. of 7 runs, 1 loop each)\n"
     ]
    }
   ],
   "source": [
    "%timeit findHasher.fromFile(\"das_images/das_images/0120_27768345.jpg\")"
   ]
  },
  {
   "cell_type": "code",
   "execution_count": 11,
   "metadata": {},
   "outputs": [
    {
     "name": "stdout",
     "output_type": "stream",
     "text": [
      " "
     ]
    },
    {
     "data": {
      "text/plain": [
       "         500248 function calls in 0.735 seconds\n",
       "\n",
       "   Ordered by: internal time\n",
       "\n",
       "   ncalls  tottime  percall  cumtime  percall filename:lineno(function)\n",
       "        1    0.501    0.501    0.548    0.548 FINd.py:167(boxFilter)\n",
       "        1    0.065    0.065    0.170    0.170 FINd.py:66(fillFloatLumaFromBufferImage)\n",
       "    62500    0.040    0.000    0.104    0.000 Image.py:1360(getpixel)\n",
       "    62504    0.037    0.000    0.050    0.000 Image.py:838(load)\n",
       "   125000    0.024    0.000    0.024    0.000 {built-in method builtins.max}\n",
       "   125000    0.023    0.000    0.023    0.000 {built-in method builtins.min}\n",
       "    62500    0.015    0.000    0.015    0.000 {method 'getpixel' of 'ImagingCore' objects}\n",
       "    62503    0.013    0.000    0.013    0.000 {method 'pixel_access' of 'ImagingCore' objects}\n",
       "        1    0.010    0.010    0.010    0.010 FINd.py:110(dct64To16)\n",
       "        1    0.002    0.002    0.002    0.002 FINd.py:100(decimateFloat)\n",
       "        1    0.002    0.002    0.735    0.735 FINd.py:39(fromFile)\n",
       "        1    0.001    0.001    0.001    0.001 {method 'decode' of 'ImagingDecoder' objects}\n",
       "        2    0.001    0.001    0.001    0.001 matrix.py:12(allocateMatrixAsRowMajorArray)\n",
       "        2    0.001    0.000    0.001    0.000 {method 'copy' of 'ImagingCore' objects}\n",
       "        1    0.000    0.000    0.000    0.000 matrix.py:16(torben)\n",
       "        1    0.000    0.000    0.000    0.000 {built-in method io.open}\n",
       "       40    0.000    0.000    0.000    0.000 {method 'read' of '_io.BufferedReader' objects}\n",
       "        1    0.000    0.000    0.000    0.000 FINd.py:146(dctOutput2hash)\n",
       "        3    0.000    0.000    0.000    0.000 matrix.py:5(allocateMatrix)\n",
       "        1    0.000    0.000    0.735    0.735 {built-in method builtins.exec}\n",
       "        1    0.000    0.000    0.002    0.002 ImageFile.py:142(load)\n",
       "        1    0.000    0.000    0.000    0.000 {built-in method PIL._imaging.new}\n",
       "        1    0.000    0.000    0.000    0.000 {method 'close' of '_io.BufferedReader' objects}\n",
       "        1    0.000    0.000    0.000    0.000 JpegImagePlugin.py:343(_open)\n",
       "        1    0.000    0.000    0.000    0.000 {built-in method numpy.zeros}\n",
       "        1    0.000    0.000    0.732    0.732 FINd.py:47(fromImage)\n",
       "        1    0.000    0.000    0.001    0.001 Image.py:2735(open)\n",
       "        1    0.000    0.000    0.000    0.000 Image.py:2781(_open_core)\n",
       "        3    0.000    0.000    0.000    0.000 Image.py:547(__init__)\n",
       "        2    0.000    0.000    0.002    0.001 Image.py:1133(copy)\n",
       "        2    0.000    0.000    0.000    0.000 JpegImagePlugin.py:237(DQT)\n",
       "        1    0.000    0.000    0.000    0.000 JpegImagePlugin.py:61(APP)\n",
       "        2    0.000    0.000    0.000    0.000 Image.py:572(_new)\n",
       "        1    0.000    0.000    0.000    0.000 JpegImagePlugin.py:189(SOF)\n",
       "        1    0.000    0.000    0.735    0.735 <string>:1(<module>)\n",
       "        1    0.000    0.000    0.559    0.559 FINd.py:79(findHash256FromFloatLuma)\n",
       "       25    0.000    0.000    0.000    0.000 {built-in method _struct.unpack_from}\n",
       "        3    0.000    0.000    0.000    0.000 {method 'seek' of '_io.BufferedReader' objects}\n",
       "       24    0.000    0.000    0.000    0.000 _binary.py:77(i16be)\n",
       "        1    0.000    0.000    0.000    0.000 Image.py:440(_getdecoder)\n",
       "        1    0.000    0.000    0.000    0.000 ImageFile.py:276(load_prepare)\n",
       "       25    0.000    0.000    0.000    0.000 _binary.py:20(i8)\n",
       "        1    0.000    0.000    0.000    0.000 JpegImagePlugin.py:788(jpeg_factory)\n",
       "        1    0.000    0.000    0.000    0.000 ImageFile.py:80(__init__)\n",
       "        5    0.000    0.000    0.000    0.000 JpegImagePlugin.py:56(Skip)\n",
       "        9    0.000    0.000    0.000    0.000 ImageFile.py:538(_safe_read)\n",
       "        1    0.000    0.000    0.000    0.000 _binary.py:57(i32le)\n",
       "        3    0.000    0.000    0.000    0.000 Image.py:591(__exit__)\n",
       "        3    0.000    0.000    0.000    0.000 Image.py:629(__del__)\n",
       "        5    0.000    0.000    0.000    0.000 {built-in method builtins.hasattr}\n",
       "        2    0.000    0.000    0.000    0.000 FINd.py:159(computeBoxFilterWindowSize)\n",
       "        1    0.000    0.000    0.000    0.000 Image.py:888(convert)\n",
       "        1    0.000    0.000    0.000    0.000 {built-in method PIL._imaging.jpeg_decoder}\n",
       "        1    0.000    0.000    0.000    0.000 Image.py:2180(thumbnail)\n",
       "        1    0.000    0.000    0.000    0.000 JpegImagePlugin.py:493(_getmp)\n",
       "       10    0.000    0.000    0.000    0.000 Image.py:568(size)\n",
       "        2    0.000    0.000    0.000    0.000 _util.py:15(isPath)\n",
       "        1    0.000    0.000    0.000    0.000 BmpImagePlugin.py:53(_dib_accept)\n",
       "        1    0.000    0.000    0.000    0.000 {method 'setimage' of 'ImagingDecoder' objects}\n",
       "        4    0.000    0.000    0.000    0.000 {built-in method builtins.isinstance}\n",
       "        2    0.000    0.000    0.000    0.000 {built-in method builtins.getattr}\n",
       "        1    0.000    0.000    0.000    0.000 BmpImagePlugin.py:49(_accept)\n",
       "        1    0.000    0.000    0.000    0.000 {method 'sort' of 'list' objects}\n",
       "        1    0.000    0.000    0.000    0.000 {method 'reshape' of 'numpy.ndarray' objects}\n",
       "        2    0.000    0.000    0.000    0.000 {method 'copy' of 'dict' objects}\n",
       "        1    0.000    0.000    0.000    0.000 Image.py:2715(_decompression_bomb_check)\n",
       "        1    0.000    0.000    0.000    0.000 JpegImagePlugin.py:393(load_read)\n",
       "        1    0.000    0.000    0.000    0.000 JpegImagePlugin.py:330(_accept)\n",
       "        1    0.000    0.000    0.000    0.000 TiffImagePlugin.py:272(_accept)\n",
       "        1    0.000    0.000    0.000    0.000 JpegImagePlugin.py:476(_getmp)\n",
       "        1    0.000    0.000    0.000    0.000 GifImagePlugin.py:41(_accept)\n",
       "        1    0.000    0.000    0.000    0.000 Image.py:368(preinit)\n",
       "        1    0.000    0.000    0.000    0.000 __init__.py:58(__init__)\n",
       "        1    0.000    0.000    0.000    0.000 {built-in method builtins.divmod}\n",
       "        8    0.000    0.000    0.000    0.000 {built-in method builtins.len}\n",
       "        1    0.000    0.000    0.000    0.000 ImageFile.py:67(_tilesort)\n",
       "        1    0.000    0.000    0.000    0.000 {method 'cleanup' of 'ImagingDecoder' objects}\n",
       "        4    0.000    0.000    0.000    0.000 {method 'append' of 'list' objects}\n",
       "        1    0.000    0.000    0.000    0.000 ImageFile.py:284(load_end)\n",
       "        1    0.000    0.000    0.000    0.000 {method 'disable' of '_lsprof.Profiler' objects}"
      ]
     },
     "metadata": {},
     "output_type": "display_data"
    }
   ],
   "source": [
    "%prun findHasher.fromFile(\"das_images/das_images/0120_27768345.jpg\")"
   ]
  },
  {
   "cell_type": "code",
   "execution_count": null,
   "metadata": {},
   "outputs": [],
   "source": []
  }
 ],
 "metadata": {
  "kernelspec": {
   "display_name": "Python 3",
   "language": "python",
   "name": "python3"
  },
  "language_info": {
   "codemirror_mode": {
    "name": "ipython",
    "version": 3
   },
   "file_extension": ".py",
   "mimetype": "text/x-python",
   "name": "python",
   "nbconvert_exporter": "python",
   "pygments_lexer": "ipython3",
   "version": "3.7.3"
  }
 },
 "nbformat": 4,
 "nbformat_minor": 4
}
